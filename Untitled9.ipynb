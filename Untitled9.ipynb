{
  "nbformat": 4,
  "nbformat_minor": 0,
  "metadata": {
    "colab": {
      "provenance": [],
      "authorship_tag": "ABX9TyOf18ahgV0SB86TxnhHqhcm",
      "include_colab_link": true
    },
    "kernelspec": {
      "name": "python3",
      "display_name": "Python 3"
    },
    "language_info": {
      "name": "python"
    }
  },
  "cells": [
    {
      "cell_type": "markdown",
      "metadata": {
        "id": "view-in-github",
        "colab_type": "text"
      },
      "source": [
        "<a href=\"https://colab.research.google.com/github/saisampaththumati-datascientists/NLP-natural_learning_language-/blob/main/Untitled9.ipynb\" target=\"_parent\"><img src=\"https://colab.research.google.com/assets/colab-badge.svg\" alt=\"Open In Colab\"/></a>"
      ]
    },
    {
      "cell_type": "code",
      "execution_count": 20,
      "metadata": {
        "id": "txPsfsuEIuME"
      },
      "outputs": [],
      "source": [
        "import torch\n",
        "from torch import nn\n",
        "import torch.functional as F\n",
        "import matplotlib.pyplot as plt"
      ]
    },
    {
      "cell_type": "code",
      "source": [
        "# create a random values of tensor\n",
        "X= torch.arange(start=0,end=1,step=0.002)\n",
        "weight=0.7\n",
        "bias=0.3\n",
        "y = weight * X + bias\n",
        "y.shape"
      ],
      "metadata": {
        "colab": {
          "base_uri": "https://localhost:8080/"
        },
        "id": "Kl4dnkUmI0jA",
        "outputId": "14654471-e051-497e-8146-12cece515174"
      },
      "execution_count": 54,
      "outputs": [
        {
          "output_type": "execute_result",
          "data": {
            "text/plain": [
              "torch.Size([500])"
            ]
          },
          "metadata": {},
          "execution_count": 54
        }
      ]
    },
    {
      "cell_type": "code",
      "source": [
        "train_split = 400\n",
        "train_split\n",
        "X_train, y_train = X[:train_split], y[:train_split]\n",
        "X_test, y_test = X[train_split:], y[train_split:]\n",
        "\n",
        "len(X_train), len(y_train), len(X_test), len(y_test)"
      ],
      "metadata": {
        "colab": {
          "base_uri": "https://localhost:8080/"
        },
        "id": "QggXOtctJYxv",
        "outputId": "ba802b93-683b-4d9c-9511-054924088a8c"
      },
      "execution_count": 55,
      "outputs": [
        {
          "output_type": "execute_result",
          "data": {
            "text/plain": [
              "(400, 400, 100, 100)"
            ]
          },
          "metadata": {},
          "execution_count": 55
        }
      ]
    },
    {
      "cell_type": "code",
      "source": [],
      "metadata": {
        "id": "qAmEK6cdJzq1"
      },
      "execution_count": 55,
      "outputs": []
    },
    {
      "cell_type": "code",
      "source": [
        "plt.scatter(X_train,y_train,label=\"train\")\n",
        "plt.scatter(X_test,y_test,label=\"test\")\n",
        "plt.legend();"
      ],
      "metadata": {
        "colab": {
          "base_uri": "https://localhost:8080/",
          "height": 430
        },
        "id": "4Qo8GyW3KXlr",
        "outputId": "5770221c-cc8f-4b15-9a3e-7876c89514bb"
      },
      "execution_count": 56,
      "outputs": [
        {
          "output_type": "display_data",
          "data": {
            "text/plain": [
              "<Figure size 640x480 with 1 Axes>"
            ],
            "image/png": "[encoded data removed]"
          },
          "metadata": {}
        }
      ]
    },
    {
      "cell_type": "markdown",
      "source": [
        "## Summary\n",
        "- Train split 500 to 100 test 400 train\n",
        "- Create a Linear model\n",
        "- Takes 2 parameters (weights and bias)\n",
        "- create the forward in the model\n",
        "- eval the model"
      ],
      "metadata": {
        "id": "eu_nSc1WUc1d"
      }
    },
    {
      "cell_type": "code",
      "source": [
        "class LinearRegresstionModel (nn.Module):\n",
        "   def __init__(self):\n",
        "       super().__init__()\n",
        "       self.weight=nn.Parameter(torch.randn(\n",
        "         1,requires_grad=True,\n",
        "         dtype=float\n",
        "       ))\n",
        "       self.bias=nn.Parameter(torch.randn(\n",
        "         1,requires_grad=True,dtype=float\n",
        "       ))\n",
        "   def forward(self,x:torch.Tensor)->torch.Tensor:\n",
        "       return self.weight*x+self.bias"
      ],
      "metadata": {
        "id": "UOhJuEh7K5Nm"
      },
      "execution_count": 99,
      "outputs": []
    },
    {
      "cell_type": "code",
      "source": [
        "model= LinearRegresstionModel()\n",
        "model.state_dict()\n",
        "list(model.parameters())"
      ],
      "metadata": {
        "colab": {
          "base_uri": "https://localhost:8080/"
        },
        "id": "rLHVVdOJL3LC",
        "outputId": "c96942d3-470b-467c-c358-36c624bcd461"
      },
      "execution_count": 100,
      "outputs": [
        {
          "output_type": "execute_result",
          "data": {
            "text/plain": [
              "[Parameter containing:\n",
              " tensor([0.8212], dtype=torch.float64, requires_grad=True),\n",
              " Parameter containing:\n",
              " tensor([-0.7389], dtype=torch.float64, requires_grad=True)]"
            ]
          },
          "metadata": {},
          "execution_count": 100
        }
      ]
    },
    {
      "cell_type": "code",
      "source": [
        "# List named parameters\n",
        "model.state_dict()"
      ],
      "metadata": {
        "colab": {
          "base_uri": "https://localhost:8080/"
        },
        "id": "4Wd_txDtZpeS",
        "outputId": "3b730de1-cc6f-487f-a1ac-08c71fe438dc"
      },
      "execution_count": 101,
      "outputs": [
        {
          "output_type": "execute_result",
          "data": {
            "text/plain": [
              "OrderedDict([('weight', tensor([0.8212], dtype=torch.float64)),\n",
              "             ('bias', tensor([-0.7389], dtype=torch.float64))])"
            ]
          },
          "metadata": {},
          "execution_count": 101
        }
      ]
    },
    {
      "cell_type": "code",
      "source": [
        "\n",
        "# Make predictions with model\n",
        "with torch.inference_mode():\n",
        "    y_preds = model(X_test)"
      ],
      "metadata": {
        "id": "9zpbw6JMXUfH"
      },
      "execution_count": 102,
      "outputs": []
    },
    {
      "cell_type": "code",
      "source": [
        "y_preds"
      ],
      "metadata": {
        "colab": {
          "base_uri": "https://localhost:8080/"
        },
        "id": "1Vr9E_fUYUAc",
        "outputId": "ac871703-2b17-48b2-9383-f4b07e9156c6"
      },
      "execution_count": 103,
      "outputs": [
        {
          "output_type": "execute_result",
          "data": {
            "text/plain": [
              "tensor([-0.0820, -0.0803, -0.0787, -0.0771, -0.0754, -0.0738, -0.0721, -0.0705,\n",
              "        -0.0688, -0.0672, -0.0656, -0.0639, -0.0623, -0.0606, -0.0590, -0.0573,\n",
              "        -0.0557, -0.0541, -0.0524, -0.0508, -0.0491, -0.0475, -0.0458, -0.0442,\n",
              "        -0.0426, -0.0409, -0.0393, -0.0376, -0.0360, -0.0344, -0.0327, -0.0311,\n",
              "        -0.0294, -0.0278, -0.0261, -0.0245, -0.0229, -0.0212, -0.0196, -0.0179,\n",
              "        -0.0163, -0.0146, -0.0130, -0.0114, -0.0097, -0.0081, -0.0064, -0.0048,\n",
              "        -0.0031, -0.0015,  0.0001,  0.0018,  0.0034,  0.0051,  0.0067,  0.0083,\n",
              "         0.0100,  0.0116,  0.0133,  0.0149,  0.0166,  0.0182,  0.0198,  0.0215,\n",
              "         0.0231,  0.0248,  0.0264,  0.0281,  0.0297,  0.0313,  0.0330,  0.0346,\n",
              "         0.0363,  0.0379,  0.0396,  0.0412,  0.0428,  0.0445,  0.0461,  0.0478,\n",
              "         0.0494,  0.0510,  0.0527,  0.0543,  0.0560,  0.0576,  0.0593,  0.0609,\n",
              "         0.0625,  0.0642,  0.0658,  0.0675,  0.0691,  0.0708,  0.0724,  0.0740,\n",
              "         0.0757,  0.0773,  0.0790,  0.0806], dtype=torch.float64)"
            ]
          },
          "metadata": {},
          "execution_count": 103
        }
      ]
    },
    {
      "cell_type": "code",
      "source": [
        "plt.scatter(X_train,y_train,label=\"train\")\n",
        "plt.scatter(X_test,y_test,label=\"test\")\n",
        "plt.scatter(X_test,y_preds,label=\"prediction\")\n",
        "plt.legend();"
      ],
      "metadata": {
        "colab": {
          "base_uri": "https://localhost:8080/",
          "height": 430
        },
        "id": "0r1c0JPCajcX",
        "outputId": "abd8d20e-7cd9-4bba-9034-ec54a93d0035"
      },
      "execution_count": 104,
      "outputs": [
        {
          "output_type": "display_data",
          "data": {
            "text/plain": [
              "<Figure size 640x480 with 1 Axes>"
            ],
            "image/png": "[encoded data removed]"
          },
          "metadata": {}
        }
      ]
    },
    {
      "cell_type": "code",
      "source": [
        "# we need to improve the score\n",
        "loss_fn= nn.L1Loss()# from the nn L1Loss which is mae\n",
        "optimizer= torch.optim.ASGD(model.parameters()) # from the torch.optim.Asgd\n",
        "train_value_score=[]\n",
        "test_value_score=[]\n",
        "epoch_steps=[]\n",
        "epoch= 500\n",
        "for epochs in range(epoch):\n",
        "  # first step train the model this is the default model\n",
        "  model.train()\n",
        "  # predict the model\n",
        "  y_predict = model(X_train)\n",
        "  # calculate loss of the model\n",
        "  losses= loss_fn(y_predict,y_train.type(torch.float))\n",
        "  # use the optimer to reduce the loss in the upcomming cycle\n",
        "  optimizer.zero_grad()\n",
        "  # back popagation\n",
        "  losses.backward()\n",
        "  # use the optimer\n",
        "  optimizer.step()\n",
        "  # eval the model\n",
        "  model.eval()\n",
        "  with torch.inference_mode():\n",
        "    #Forward pass on test data\n",
        "    y_test_pre=model(X_test)\n",
        "    #calculate the loss\n",
        "    test_loss=loss_fn(y_test_pre,y_test.type(torch.float))\n",
        "\n",
        "    if epochs %10==0:\n",
        "      epoch_steps.append(epochs)\n",
        "      train_value_score.append(losses.detach().numpy())\n",
        "      test_value_score.append(test_loss.detach().numpy())\n",
        "      print(f\"Epoch: {epochs} | MAE Train Loss: {losses} | MAE Test Loss: {test_loss} \")"
      ],
      "metadata": {
        "colab": {
          "base_uri": "https://localhost:8080/"
        },
        "id": "Ao4CNFeaartd",
        "outputId": "eb71647d-10d1-4b64-ccbe-705856c7ac71"
      },
      "execution_count": 138,
      "outputs": [
        {
          "output_type": "stream",
          "name": "stdout",
          "text": [
            "Epoch: 0 | MAE Train Loss: 0.008968088189132554 | MAE Test Loss: 0.0028529771651536707 \n",
            "Epoch: 10 | MAE Train Loss: 0.008962220330483701 | MAE Test Loss: 0.002862258874422041 \n",
            "Epoch: 20 | MAE Train Loss: 0.008956352573799993 | MAE Test Loss: 0.0028715391548432365 \n",
            "Epoch: 30 | MAE Train Loss: 0.008950484918972244 | MAE Test Loss: 0.002880820537545863 \n",
            "Epoch: 40 | MAE Train Loss: 0.008944616286576043 | MAE Test Loss: 0.0028901017567011245 \n",
            "Epoch: 50 | MAE Train Loss: 0.00893874883557274 | MAE Test Loss: 0.002899382812837559 \n",
            "Epoch: 60 | MAE Train Loss: 0.008932881486634564 | MAE Test Loss: 0.0029086624399665695 \n",
            "Epoch: 70 | MAE Train Loss: 0.008927014239437188 | MAE Test Loss: 0.0029179431695616188 \n",
            "Epoch: 80 | MAE Train Loss: 0.0089211470943011 | MAE Test Loss: 0.0029272224701554017 \n",
            "Epoch: 90 | MAE Train Loss: 0.008915280050902235 | MAE Test Loss: 0.0029365028732211205 \n",
            "Epoch: 100 | MAE Train Loss: 0.008909412030033238 | MAE Test Loss: 0.0029457831125827604 \n",
            "Epoch: 110 | MAE Train Loss: 0.008903545190436353 | MAE Test Loss: 0.0029550619236419096 \n",
            "Epoch: 120 | MAE Train Loss: 0.00889767845300052 | MAE Test Loss: 0.0029643418364922393 \n",
            "Epoch: 130 | MAE Train Loss: 0.00889181181718681 | MAE Test Loss: 0.0029736203210466105 \n",
            "Epoch: 140 | MAE Train Loss: 0.008885945283530632 | MAE Test Loss: 0.0029828999073978446 \n",
            "Epoch: 150 | MAE Train Loss: 0.008880077771956388 | MAE Test Loss: 0.002992179330760687 \n",
            "Epoch: 160 | MAE Train Loss: 0.00887421144208287 | MAE Test Loss: 0.0030014585906126003 \n",
            "Epoch: 170 | MAE Train Loss: 0.008868344134287784 | MAE Test Loss: 0.003010737687481735 \n",
            "Epoch: 180 | MAE Train Loss: 0.008862478008189645 | MAE Test Loss: 0.0030200166208462233 \n",
            "Epoch: 190 | MAE Train Loss: 0.008856610904165741 | MAE Test Loss: 0.0030292953912344476 \n",
            "Epoch: 200 | MAE Train Loss: 0.008850744981835053 | MAE Test Loss: 0.00303857399812387 \n",
            "Epoch: 210 | MAE Train Loss: 0.00884487808157515 | MAE Test Loss: 0.003047852442042651 \n",
            "Epoch: 220 | MAE Train Loss: 0.008839012363004512 | MAE Test Loss: 0.0030571307224689704 \n",
            "Epoch: 230 | MAE Train Loss: 0.008833145666500966 | MAE Test Loss: 0.003066408839930619 \n",
            "Epoch: 240 | MAE Train Loss: 0.00882728015168286 | MAE Test Loss: 0.003075686793905994 \n",
            "Epoch: 250 | MAE Train Loss: 0.008821413658928065 | MAE Test Loss: 0.0030849645849227625 \n",
            "Epoch: 260 | MAE Train Loss: 0.00881554834785496 | MAE Test Loss: 0.003094242212459137 \n",
            "Epoch: 270 | MAE Train Loss: 0.008809682058841318 | MAE Test Loss: 0.003103519677043115 \n",
            "Epoch: 280 | MAE Train Loss: 0.008803816951505688 | MAE Test Loss: 0.0031127969781524966 \n",
            "Epoch: 290 | MAE Train Loss: 0.008797950866225682 | MAE Test Loss: 0.0031220741163158292 \n",
            "Epoch: 300 | MAE Train Loss: 0.008792085962619808 | MAE Test Loss: 0.003131351091010648 \n",
            "Epoch: 310 | MAE Train Loss: 0.008786221160602216 | MAE Test Loss: 0.003140626637463999 \n",
            "Epoch: 320 | MAE Train Loss: 0.008780356460707822 | MAE Test Loss: 0.003149903285769048 \n",
            "Epoch: 330 | MAE Train Loss: 0.008774491862397867 | MAE Test Loss: 0.0031591785058385138 \n",
            "Epoch: 340 | MAE Train Loss: 0.008768627366207492 | MAE Test Loss: 0.0031684548277655677 \n",
            "Epoch: 350 | MAE Train Loss: 0.008762762971597709 | MAE Test Loss: 0.0031777309869397952 \n",
            "Epoch: 360 | MAE Train Loss: 0.008756897599468499 | MAE Test Loss: 0.0031870069824887714 \n",
            "Epoch: 370 | MAE Train Loss: 0.00875103340856219 | MAE Test Loss: 0.0031962828152904653 \n",
            "Epoch: 380 | MAE Train Loss: 0.008745169319660186 | MAE Test Loss: 0.003205557219182141 \n",
            "Epoch: 390 | MAE Train Loss: 0.008739305332438779 | MAE Test Loss: 0.003214832725636516 \n",
            "Epoch: 400 | MAE Train Loss: 0.00873344036758079 | MAE Test Loss: 0.0032241080686530176 \n",
            "Epoch: 410 | MAE Train Loss: 0.008727576584047667 | MAE Test Loss: 0.003233383248759396 \n",
            "Epoch: 420 | MAE Train Loss: 0.008721712902404007 | MAE Test Loss: 0.0032426570001401977 \n",
            "Epoch: 430 | MAE Train Loss: 0.00871584932254066 | MAE Test Loss: 0.0032519318539233734 \n",
            "Epoch: 440 | MAE Train Loss: 0.008709984764923738 | MAE Test Loss: 0.003261206544455788 \n",
            "Epoch: 450 | MAE Train Loss: 0.008704121388733447 | MAE Test Loss: 0.00327048107191541 \n",
            "Epoch: 460 | MAE Train Loss: 0.008698257034676306 | MAE Test Loss: 0.003279755436305214 \n",
            "Epoch: 470 | MAE Train Loss: 0.00869239386215159 | MAE Test Loss: 0.003289029637453098 \n",
            "Epoch: 480 | MAE Train Loss: 0.008686530791290472 | MAE Test Loss: 0.0032983024102382296 \n",
            "Epoch: 490 | MAE Train Loss: 0.008680667822412964 | MAE Test Loss: 0.003307576285099183 \n"
          ]
        }
      ]
    },
    {
      "cell_type": "code",
      "source": [
        "plt.scatter(epoch_steps,test_value_score,label=\"test\")\n",
        "plt.scatter(epoch_steps,train_value_score,label=\"train\")\n",
        "\n",
        "plt.legend();"
      ],
      "metadata": {
        "colab": {
          "base_uri": "https://localhost:8080/",
          "height": 430
        },
        "id": "bG291b2BchhE",
        "outputId": "cbc5bf12-c4f5-4407-dd4f-6045011db5d1"
      },
      "execution_count": 139,
      "outputs": [
        {
          "output_type": "display_data",
          "data": {
            "text/plain": [
              "<Figure size 640x480 with 1 Axes>"
            ],
            "image/png": "[encoded data removed]"
          },
          "metadata": {}
        }
      ]
    },
    {
      "cell_type": "code",
      "source": [
        "  losses= loss(y_predict,y_train.type(torch.float))\n",
        "  losses"
      ],
      "metadata": {
        "colab": {
          "base_uri": "https://localhost:8080/"
        },
        "id": "efz2QXFam9Iz",
        "outputId": "38ea3ae8-354a-4001-cacb-0aa9f3a728d1"
      },
      "execution_count": 140,
      "outputs": [
        {
          "output_type": "execute_result",
          "data": {
            "text/plain": [
              "tensor(0.0029, dtype=torch.float64, grad_fn=<MeanBackward0>)"
            ]
          },
          "metadata": {},
          "execution_count": 140
        }
      ]
    },
    {
      "cell_type": "code",
      "source": [
        "y_train.type(torch.float).shape"
      ],
      "metadata": {
        "colab": {
          "base_uri": "https://localhost:8080/"
        },
        "id": "RUHGCwamo4k7",
        "outputId": "0e8f1ee1-c444-4f0a-bde1-4e8d33d62c95"
      },
      "execution_count": 141,
      "outputs": [
        {
          "output_type": "execute_result",
          "data": {
            "text/plain": [
              "torch.Size([400])"
            ]
          },
          "metadata": {},
          "execution_count": 141
        }
      ]
    },
    {
      "cell_type": "code",
      "source": [
        "plt.scatter(X_train,y_train,label=\"train\")\n",
        "plt.scatter(X_test,y_test,label=\"test\")\n",
        "plt.scatter(X_test,y_test_pre,label=\"prediction\")\n",
        "plt.legend();"
      ],
      "metadata": {
        "colab": {
          "base_uri": "https://localhost:8080/",
          "height": 430
        },
        "id": "6BipK7ylo6Q2",
        "outputId": "74299c73-2aff-4960-9cd1-461af39e56c8"
      },
      "execution_count": 142,
      "outputs": [
        {
          "output_type": "display_data",
          "data": {
            "text/plain": [
              "<Figure size 640x480 with 1 Axes>"
            ],
            "image/png": "[encoded data removed]"
          },
          "metadata": {}
        }
      ]
    },
    {
      "cell_type": "code",
      "source": [
        "model.state_dict()"
      ],
      "metadata": {
        "colab": {
          "base_uri": "https://localhost:8080/"
        },
        "id": "6TFDwKjEs3WL",
        "outputId": "f56c1542-15e7-4200-ec25-d6142774ba28"
      },
      "execution_count": 143,
      "outputs": [
        {
          "output_type": "execute_result",
          "data": {
            "text/plain": [
              "OrderedDict([('weight', tensor([0.7032], dtype=torch.float64)),\n",
              "             ('bias', tensor([0.3074], dtype=torch.float64))])"
            ]
          },
          "metadata": {},
          "execution_count": 143
        }
      ]
    },
    {
      "cell_type": "markdown",
      "source": [
        "## Save the Model"
      ],
      "metadata": {
        "id": "4f7lQ8fj28z4"
      }
    },
    {
      "cell_type": "code",
      "source": [
        "model.state_dict()"
      ],
      "metadata": {
        "colab": {
          "base_uri": "https://localhost:8080/"
        },
        "id": "18Y1b5fG4FSI",
        "outputId": "844dfcc5-c0c9-491a-9bdf-fdc561b3b689"
      },
      "execution_count": 146,
      "outputs": [
        {
          "output_type": "execute_result",
          "data": {
            "text/plain": [
              "OrderedDict([('weight', tensor([0.7032], dtype=torch.float64)),\n",
              "             ('bias', tensor([0.3074], dtype=torch.float64))])"
            ]
          },
          "metadata": {},
          "execution_count": 146
        }
      ]
    },
    {
      "cell_type": "code",
      "source": [
        "from pathlib import Path\n",
        "import os\n",
        "# Define the model save path\n",
        "MODEL_NAME = \"Untitled9\"\n",
        "model_path = \"model.pth\"\n",
        "Model_save_Path = os.path.join(MODEL_NAME, model_path)\n",
        "\n",
        "# Ensure the directory exists\n",
        "os.makedirs(MODEL_NAME, exist_ok=True)\n",
        "\n",
        "# Save the model state dictionary\n",
        "print(f\"Saving model to: {Model_save_Path}\")\n",
        "torch.save(obj=model.state_dict(), f=Model_save_Path)"
      ],
      "metadata": {
        "colab": {
          "base_uri": "https://localhost:8080/"
        },
        "id": "sauNtYXLtGSr",
        "outputId": "f6cf93c5-ca20-409f-e415-cc03854e9f13"
      },
      "execution_count": 152,
      "outputs": [
        {
          "output_type": "stream",
          "name": "stdout",
          "text": [
            "Saving model to: Untitled9/model.pth\n"
          ]
        }
      ]
    },
    {
      "cell_type": "code",
      "source": [],
      "metadata": {
        "id": "W1_TLqLJ381v"
      },
      "execution_count": null,
      "outputs": []
    }
  ]
}