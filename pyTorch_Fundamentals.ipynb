{
  "nbformat": 4,
  "nbformat_minor": 0,
  "metadata": {
    "colab": {
      "provenance": [],
      "machine_shape": "hm",
      "toc_visible": true,
      "authorship_tag": "ABX9TyNiP8YM22K3YTOIKXMRNemY",
      "include_colab_link": true
    },
    "kernelspec": {
      "name": "python3",
      "display_name": "Python 3"
    },
    "language_info": {
      "name": "python"
    }
  },
  "cells": [
    {
      "cell_type": "markdown",
      "metadata": {
        "id": "view-in-github",
        "colab_type": "text"
      },
      "source": [
        "<a href=\"https://colab.research.google.com/github/saisampaththumati-datascientists/NLP-natural_learning_language-/blob/main/pyTorch_Fundamentals.ipynb\" target=\"_parent\"><img src=\"https://colab.research.google.com/assets/colab-badge.svg\" alt=\"Open In Colab\"/></a>"
      ]
    },
    {
      "cell_type": "code",
      "execution_count": null,
      "metadata": {
        "colab": {
          "base_uri": "https://localhost:8080/",
          "height": 35
        },
        "id": "HCDOWWPfvLwI",
        "outputId": "90b5eba6-8c00-4e70-9085-1cb9cda20645"
      },
      "outputs": [
        {
          "output_type": "execute_result",
          "data": {
            "text/plain": [
              "'2.3.0+cu121'"
            ],
            "application/vnd.google.colaboratory.intrinsic+json": {
              "type": "string"
            }
          },
          "metadata": {},
          "execution_count": 2
        }
      ],
      "source": [
        "import torch\n",
        "torch.__version__"
      ]
    },
    {
      "cell_type": "code",
      "source": [
        "!nvidia-smi\n"
      ],
      "metadata": {
        "colab": {
          "base_uri": "https://localhost:8080/"
        },
        "id": "ROAWiaSpvlnx",
        "outputId": "7c45288c-f6f3-4d27-a487-91b69e9878d2"
      },
      "execution_count": null,
      "outputs": [
        {
          "output_type": "stream",
          "name": "stdout",
          "text": [
            "Wed Jul 10 17:50:03 2024       \n",
            "+---------------------------------------------------------------------------------------+\n",
            "| NVIDIA-SMI 535.104.05             Driver Version: 535.104.05   CUDA Version: 12.2     |\n",
            "|-----------------------------------------+----------------------+----------------------+\n",
            "| GPU  Name                 Persistence-M | Bus-Id        Disp.A | Volatile Uncorr. ECC |\n",
            "| Fan  Temp   Perf          Pwr:Usage/Cap |         Memory-Usage | GPU-Util  Compute M. |\n",
            "|                                         |                      |               MIG M. |\n",
            "|=========================================+======================+======================|\n",
            "|   0  NVIDIA L4                      Off | 00000000:00:03.0 Off |                    0 |\n",
            "| N/A   36C    P8              12W /  72W |      1MiB / 23034MiB |      0%      Default |\n",
            "|                                         |                      |                  N/A |\n",
            "+-----------------------------------------+----------------------+----------------------+\n",
            "                                                                                         \n",
            "+---------------------------------------------------------------------------------------+\n",
            "| Processes:                                                                            |\n",
            "|  GPU   GI   CI        PID   Type   Process name                            GPU Memory |\n",
            "|        ID   ID                                                             Usage      |\n",
            "|=======================================================================================|\n",
            "|  No running processes found                                                           |\n",
            "+---------------------------------------------------------------------------------------+\n"
          ]
        }
      ]
    },
    {
      "cell_type": "markdown",
      "source": [
        "## Introduction to Tensor\n",
        "- Create the scaler\n",
        "- PyTorch tensors. are created using torch.Tensor()https://pytorch.org/docs/stable/tensors.html"
      ],
      "metadata": {
        "id": "A6uiThiWw9j0"
      }
    },
    {
      "cell_type": "code",
      "source": [
        "scaler=torch.tensor(7)\n",
        "scaler"
      ],
      "metadata": {
        "id": "oVqM4MiCvyyZ",
        "colab": {
          "base_uri": "https://localhost:8080/"
        },
        "outputId": "9a126339-b8c7-4ff5-acf1-4385e0bd17ac"
      },
      "execution_count": null,
      "outputs": [
        {
          "output_type": "execute_result",
          "data": {
            "text/plain": [
              "tensor(7)"
            ]
          },
          "metadata": {},
          "execution_count": 3
        }
      ]
    },
    {
      "cell_type": "code",
      "source": [
        "scaler.ndim"
      ],
      "metadata": {
        "colab": {
          "base_uri": "https://localhost:8080/"
        },
        "id": "lz5ZVXnpxRVy",
        "outputId": "6402ee40-4ab0-4839-db98-def2b995fc65"
      },
      "execution_count": null,
      "outputs": [
        {
          "output_type": "execute_result",
          "data": {
            "text/plain": [
              "0"
            ]
          },
          "metadata": {},
          "execution_count": 7
        }
      ]
    },
    {
      "cell_type": "code",
      "source": [
        "# it return the number from the tensor\n",
        "scaler.item()"
      ],
      "metadata": {
        "colab": {
          "base_uri": "https://localhost:8080/"
        },
        "id": "xVBT81mmxn0Y",
        "outputId": "5e2d98c2-7eaf-418c-c141-4be0b9e89409"
      },
      "execution_count": null,
      "outputs": [
        {
          "output_type": "execute_result",
          "data": {
            "text/plain": [
              "7"
            ]
          },
          "metadata": {},
          "execution_count": 10
        }
      ]
    },
    {
      "cell_type": "code",
      "source": [
        "# what is the vector ? magintude and the direction\n",
        "vector= torch.tensor([7,7])\n",
        "vector"
      ],
      "metadata": {
        "colab": {
          "base_uri": "https://localhost:8080/"
        },
        "id": "RXqhrBm_yg4P",
        "outputId": "8375aa20-b589-4d88-ff9b-1684d0467d8f"
      },
      "execution_count": null,
      "outputs": [
        {
          "output_type": "execute_result",
          "data": {
            "text/plain": [
              "tensor([7, 7])"
            ]
          },
          "metadata": {},
          "execution_count": 12
        }
      ]
    },
    {
      "cell_type": "code",
      "source": [
        "vector.ndim"
      ],
      "metadata": {
        "colab": {
          "base_uri": "https://localhost:8080/"
        },
        "id": "DMDM4MSDyuP_",
        "outputId": "1f0d6f64-b69e-4043-860f-51cbadf0bf93"
      },
      "execution_count": null,
      "outputs": [
        {
          "output_type": "execute_result",
          "data": {
            "text/plain": [
              "1"
            ]
          },
          "metadata": {},
          "execution_count": 13
        }
      ]
    },
    {
      "cell_type": "code",
      "source": [
        "vector.shape"
      ],
      "metadata": {
        "colab": {
          "base_uri": "https://localhost:8080/"
        },
        "id": "88iOy7C3y6F6",
        "outputId": "0293c814-e909-4272-a778-b1dd966a0bec"
      },
      "execution_count": null,
      "outputs": [
        {
          "output_type": "execute_result",
          "data": {
            "text/plain": [
              "torch.Size([2])"
            ]
          },
          "metadata": {},
          "execution_count": 15
        }
      ]
    },
    {
      "cell_type": "code",
      "source": [
        "#Matrix\n",
        "Matrix= torch.tensor([[2,3],[3,4]])\n",
        "Matrix"
      ],
      "metadata": {
        "colab": {
          "base_uri": "https://localhost:8080/"
        },
        "id": "2T_-4pB5y9Cv",
        "outputId": "5a3c4fe5-9e72-4692-e91b-f0fa3c2b3778"
      },
      "execution_count": null,
      "outputs": [
        {
          "output_type": "execute_result",
          "data": {
            "text/plain": [
              "tensor([[2, 3],\n",
              "        [3, 4]])"
            ]
          },
          "metadata": {},
          "execution_count": 16
        }
      ]
    },
    {
      "cell_type": "code",
      "source": [
        "Matrix.shape"
      ],
      "metadata": {
        "colab": {
          "base_uri": "https://localhost:8080/"
        },
        "id": "DP6zyLV7zIhL",
        "outputId": "2eb002c1-62bb-4d34-d248-8a2f37f5856b"
      },
      "execution_count": null,
      "outputs": [
        {
          "output_type": "execute_result",
          "data": {
            "text/plain": [
              "torch.Size([2, 2])"
            ]
          },
          "metadata": {},
          "execution_count": 17
        }
      ]
    },
    {
      "cell_type": "code",
      "source": [
        "Matrix.ndim"
      ],
      "metadata": {
        "colab": {
          "base_uri": "https://localhost:8080/"
        },
        "id": "J5p3_gDozK4B",
        "outputId": "b4bd7252-169f-479f-a2e7-99e77233dde0"
      },
      "execution_count": null,
      "outputs": [
        {
          "output_type": "execute_result",
          "data": {
            "text/plain": [
              "2"
            ]
          },
          "metadata": {},
          "execution_count": 18
        }
      ]
    },
    {
      "cell_type": "code",
      "source": [
        "Matrix[1][0]"
      ],
      "metadata": {
        "colab": {
          "base_uri": "https://localhost:8080/"
        },
        "id": "Bg-pgCThzNLX",
        "outputId": "15a98983-b752-4262-81f7-17d7aefa156e"
      },
      "execution_count": null,
      "outputs": [
        {
          "output_type": "execute_result",
          "data": {
            "text/plain": [
              "tensor(3)"
            ]
          },
          "metadata": {},
          "execution_count": 26
        }
      ]
    },
    {
      "cell_type": "code",
      "source": [
        "Tensor=torch.tensor([[[3,4,5],[1,5,6],[7,8,9]]])\n",
        "Tensor"
      ],
      "metadata": {
        "colab": {
          "base_uri": "https://localhost:8080/"
        },
        "id": "1Hzez1tZzTZ1",
        "outputId": "93c727bc-8102-4989-8fc2-c96488871337"
      },
      "execution_count": null,
      "outputs": [
        {
          "output_type": "execute_result",
          "data": {
            "text/plain": [
              "tensor([[[3, 4, 5],\n",
              "         [1, 5, 6],\n",
              "         [7, 8, 9]]])"
            ]
          },
          "metadata": {},
          "execution_count": 40
        }
      ]
    },
    {
      "cell_type": "code",
      "source": [
        "Tensor.shape"
      ],
      "metadata": {
        "colab": {
          "base_uri": "https://localhost:8080/"
        },
        "id": "ZazwAiBmzv2x",
        "outputId": "a85f5f9c-61e7-445c-d1cc-e8f53b92074b"
      },
      "execution_count": null,
      "outputs": [
        {
          "output_type": "execute_result",
          "data": {
            "text/plain": [
              "torch.Size([1, 3, 3])"
            ]
          },
          "metadata": {},
          "execution_count": 41
        }
      ]
    },
    {
      "cell_type": "code",
      "source": [
        "Tensor.ndim"
      ],
      "metadata": {
        "colab": {
          "base_uri": "https://localhost:8080/"
        },
        "id": "NnuQQaEkz1MI",
        "outputId": "26787e81-e177-4bab-9005-aca23f11d00b"
      },
      "execution_count": null,
      "outputs": [
        {
          "output_type": "execute_result",
          "data": {
            "text/plain": [
              "3"
            ]
          },
          "metadata": {},
          "execution_count": 42
        }
      ]
    },
    {
      "cell_type": "code",
      "source": [
        "Tensor[0][2]"
      ],
      "metadata": {
        "colab": {
          "base_uri": "https://localhost:8080/"
        },
        "id": "7zmpngl_z8Uj",
        "outputId": "35602b0e-0b62-416f-c285-2ee2106db2c0"
      },
      "execution_count": null,
      "outputs": [
        {
          "output_type": "execute_result",
          "data": {
            "text/plain": [
              "tensor([7, 8, 9])"
            ]
          },
          "metadata": {},
          "execution_count": 43
        }
      ]
    },
    {
      "cell_type": "markdown",
      "source": [
        "# Random Tensor\n",
        "- Why Random Tensor ?\n",
        "Random tensor are important because the way many neural network learn is that start with tensor full of random numbers"
      ],
      "metadata": {
        "id": "Kd6ZVVlX0jI4"
      }
    },
    {
      "cell_type": "code",
      "source": [
        "Random = torch.rand(3,4,2)\n",
        "# random element are generated\n",
        "Random"
      ],
      "metadata": {
        "colab": {
          "base_uri": "https://localhost:8080/"
        },
        "id": "BsuTshuL0A6X",
        "outputId": "2c6e6275-aa4f-4891-b61b-ea98f0d3aa60"
      },
      "execution_count": null,
      "outputs": [
        {
          "output_type": "execute_result",
          "data": {
            "text/plain": [
              "tensor([[[0.0343, 0.3756],\n",
              "         [0.2939, 0.6830],\n",
              "         [0.5530, 0.6602],\n",
              "         [0.3941, 0.8070]],\n",
              "\n",
              "        [[0.6608, 0.0951],\n",
              "         [0.7412, 0.7291],\n",
              "         [0.6156, 0.3162],\n",
              "         [0.5109, 0.4989]],\n",
              "\n",
              "        [[0.9036, 0.0930],\n",
              "         [0.3454, 0.6379],\n",
              "         [0.7208, 0.3233],\n",
              "         [0.6800, 0.4966]]])"
            ]
          },
          "metadata": {},
          "execution_count": 49
        }
      ]
    },
    {
      "cell_type": "code",
      "source": [
        "Random.ndim\n"
      ],
      "metadata": {
        "colab": {
          "base_uri": "https://localhost:8080/"
        },
        "id": "ym-NR8ea1EwU",
        "outputId": "b7b2ebab-b1be-4302-cf17-31aa4d80c774"
      },
      "execution_count": null,
      "outputs": [
        {
          "output_type": "execute_result",
          "data": {
            "text/plain": [
              "3"
            ]
          },
          "metadata": {},
          "execution_count": 50
        }
      ]
    },
    {
      "cell_type": "code",
      "source": [
        "random_img=torch.rand(size=(224,224,3))# height width and color chancel\n",
        "random_img.shape,random_img.ndim"
      ],
      "metadata": {
        "colab": {
          "base_uri": "https://localhost:8080/"
        },
        "id": "Wo2zcIhx1OiZ",
        "outputId": "cb7d7994-1485-4ab9-9e0b-d28c57e7335e"
      },
      "execution_count": null,
      "outputs": [
        {
          "output_type": "execute_result",
          "data": {
            "text/plain": [
              "(torch.Size([224, 224, 3]), 3)"
            ]
          },
          "metadata": {},
          "execution_count": 53
        }
      ]
    },
    {
      "cell_type": "code",
      "source": [
        "random_size= torch.rand(size=(3,4))\n",
        "random_size"
      ],
      "metadata": {
        "colab": {
          "base_uri": "https://localhost:8080/"
        },
        "id": "0PoqQqVx1rKF",
        "outputId": "972fbb16-1704-4355-f9ab-dd10924b4528"
      },
      "execution_count": null,
      "outputs": [
        {
          "output_type": "execute_result",
          "data": {
            "text/plain": [
              "tensor([[0.6801, 0.0303, 0.8978, 0.3837],\n",
              "        [0.2464, 0.9126, 0.9377, 0.0747],\n",
              "        [0.0335, 0.9903, 0.8070, 0.7895]])"
            ]
          },
          "metadata": {},
          "execution_count": 56
        }
      ]
    },
    {
      "cell_type": "code",
      "source": [
        "## to get the zero\n",
        "zero= torch.zeros(size=(3,4))\n",
        "zero"
      ],
      "metadata": {
        "colab": {
          "base_uri": "https://localhost:8080/"
        },
        "id": "vk0zzEx-2alN",
        "outputId": "6a3bb9fc-031f-4ade-c780-51a3fd7b7f98"
      },
      "execution_count": null,
      "outputs": [
        {
          "output_type": "execute_result",
          "data": {
            "text/plain": [
              "tensor([[0., 0., 0., 0.],\n",
              "        [0., 0., 0., 0.],\n",
              "        [0., 0., 0., 0.]])"
            ]
          },
          "metadata": {},
          "execution_count": 58
        }
      ]
    },
    {
      "cell_type": "code",
      "source": [
        "## ones in the tensor\n",
        "one= torch.ones(size=(3,4))\n",
        "one"
      ],
      "metadata": {
        "colab": {
          "base_uri": "https://localhost:8080/"
        },
        "id": "QpBeovVG2zap",
        "outputId": "2067ad81-91f9-4a48-b4b4-4966226d606a"
      },
      "execution_count": null,
      "outputs": [
        {
          "output_type": "execute_result",
          "data": {
            "text/plain": [
              "tensor([[1., 1., 1., 1.],\n",
              "        [1., 1., 1., 1.],\n",
              "        [1., 1., 1., 1.]])"
            ]
          },
          "metadata": {},
          "execution_count": 60
        }
      ]
    },
    {
      "cell_type": "code",
      "source": [
        "one.dtype"
      ],
      "metadata": {
        "colab": {
          "base_uri": "https://localhost:8080/"
        },
        "id": "II8vvTjV3C5Z",
        "outputId": "d0106486-aa02-41d8-df89-90c199ac5116"
      },
      "execution_count": null,
      "outputs": [
        {
          "output_type": "execute_result",
          "data": {
            "text/plain": [
              "torch.float32"
            ]
          },
          "metadata": {},
          "execution_count": 61
        }
      ]
    },
    {
      "cell_type": "markdown",
      "source": [
        "## Creating a range of tensors and tensors-like"
      ],
      "metadata": {
        "id": "ezdMgCUm3K0P"
      }
    },
    {
      "cell_type": "code",
      "source": [
        "#using torch.range\n",
        "one_to_ten=torch.arange(start=1,end=10,step=1)\n",
        "one_to_ten"
      ],
      "metadata": {
        "colab": {
          "base_uri": "https://localhost:8080/"
        },
        "id": "1o-_jVA13ImA",
        "outputId": "b7a602af-1f65-4d38-b2e9-a0218189959e"
      },
      "execution_count": null,
      "outputs": [
        {
          "output_type": "execute_result",
          "data": {
            "text/plain": [
              "tensor([1, 2, 3, 4, 5, 6, 7, 8, 9])"
            ]
          },
          "metadata": {},
          "execution_count": 64
        }
      ]
    },
    {
      "cell_type": "code",
      "source": [
        "# creating the tensor like\n",
        "one_to_ten"
      ],
      "metadata": {
        "colab": {
          "base_uri": "https://localhost:8080/"
        },
        "id": "9TSzROjb3gcb",
        "outputId": "96857218-933a-418f-a055-7b0a0d5eb906"
      },
      "execution_count": null,
      "outputs": [
        {
          "output_type": "execute_result",
          "data": {
            "text/plain": [
              "tensor([1, 2, 3, 4, 5, 6, 7, 8, 9])"
            ]
          },
          "metadata": {},
          "execution_count": 65
        }
      ]
    },
    {
      "cell_type": "code",
      "source": [
        "ten_zeros= torch.zeros_like(one_to_ten)\n",
        "ten_zeros"
      ],
      "metadata": {
        "colab": {
          "base_uri": "https://localhost:8080/"
        },
        "id": "3nmkJARX3wnh",
        "outputId": "e03b49f3-3aa9-4941-c561-47e139f8085b"
      },
      "execution_count": null,
      "outputs": [
        {
          "output_type": "execute_result",
          "data": {
            "text/plain": [
              "tensor([0, 0, 0, 0, 0, 0, 0, 0, 0])"
            ]
          },
          "metadata": {},
          "execution_count": 67
        }
      ]
    },
    {
      "cell_type": "code",
      "source": [
        "### Tensor data Types\n",
        "float_32_tensor=torch.tensor([3.,4.,4.0],\n",
        "                             dtype=torch.float16,#. dtype\n",
        "                             device=None, #\n",
        "                             requires_grad=False)\n",
        "float_32_tensor.dtype"
      ],
      "metadata": {
        "colab": {
          "base_uri": "https://localhost:8080/"
        },
        "id": "ReX0EQKP35pe",
        "outputId": "ce27be84-6c4c-47cc-ec75-f753a6228572"
      },
      "execution_count": null,
      "outputs": [
        {
          "output_type": "execute_result",
          "data": {
            "text/plain": [
              "torch.float16"
            ]
          },
          "metadata": {},
          "execution_count": 70
        }
      ]
    },
    {
      "cell_type": "markdown",
      "source": [
        "# Precision os a numerical quantity is a measure of the deatils\n",
        "- The main use of the dtypes for the Tensor\n",
        "- take the number of space in the computer\n",
        "**Note:** Tensor data types is oner of the 3 big errors youwill run pytorch and deep learning\n",
        "- Tensor not right data types\n",
        "- Tensor not ion correct shape\n",
        "- Tensors not on the right device (device)"
      ],
      "metadata": {
        "id": "box7hPZC44EJ"
      }
    },
    {
      "cell_type": "code",
      "source": [
        "float_16_tensor =float_32_tensor.type(torch.float16)\n",
        "float_16_tensor"
      ],
      "metadata": {
        "colab": {
          "base_uri": "https://localhost:8080/"
        },
        "id": "zSFXbcsR4fTK",
        "outputId": "48629327-9efa-4b2c-c772-2c94a43fe54d"
      },
      "execution_count": null,
      "outputs": [
        {
          "output_type": "execute_result",
          "data": {
            "text/plain": [
              "tensor([3., 4., 4.], dtype=torch.float16)"
            ]
          },
          "metadata": {},
          "execution_count": 71
        }
      ]
    },
    {
      "cell_type": "code",
      "source": [
        "float_16_tensor*float_32_tensor"
      ],
      "metadata": {
        "colab": {
          "base_uri": "https://localhost:8080/"
        },
        "id": "c--nA9Pl6LQ8",
        "outputId": "2f20bd04-7bc7-493f-e8d4-eb68cfc5f0ab"
      },
      "execution_count": null,
      "outputs": [
        {
          "output_type": "execute_result",
          "data": {
            "text/plain": [
              "tensor([ 9., 16., 16.], dtype=torch.float16)"
            ]
          },
          "metadata": {},
          "execution_count": 72
        }
      ]
    },
    {
      "cell_type": "code",
      "source": [
        "int_32= torch.tensor([3,4,56],dtype=torch.int32)\n",
        "int_32"
      ],
      "metadata": {
        "colab": {
          "base_uri": "https://localhost:8080/"
        },
        "id": "e6Az3eaq6bM1",
        "outputId": "1c442512-de6d-46c9-cbab-074859cd83cd"
      },
      "execution_count": null,
      "outputs": [
        {
          "output_type": "execute_result",
          "data": {
            "text/plain": [
              "tensor([ 3,  4, 56], dtype=torch.int32)"
            ]
          },
          "metadata": {},
          "execution_count": 73
        }
      ]
    },
    {
      "cell_type": "code",
      "source": [
        "float_16_tensor*int_32"
      ],
      "metadata": {
        "colab": {
          "base_uri": "https://localhost:8080/"
        },
        "id": "bGI1GBg-60NE",
        "outputId": "599ad27b-900c-4558-e18c-817986e2ee09"
      },
      "execution_count": null,
      "outputs": [
        {
          "output_type": "execute_result",
          "data": {
            "text/plain": [
              "tensor([  9.,  16., 224.], dtype=torch.float16)"
            ]
          },
          "metadata": {},
          "execution_count": 74
        }
      ]
    },
    {
      "cell_type": "code",
      "source": [
        "int_16= torch.tensor([3,4,56],dtype=torch.int16)\n",
        "int_16"
      ],
      "metadata": {
        "colab": {
          "base_uri": "https://localhost:8080/"
        },
        "id": "3n-R6HpQ63ob",
        "outputId": "1ea294d4-a752-47a7-a5de-220dc55dd85e"
      },
      "execution_count": null,
      "outputs": [
        {
          "output_type": "execute_result",
          "data": {
            "text/plain": [
              "tensor([ 3,  4, 56], dtype=torch.int16)"
            ]
          },
          "metadata": {},
          "execution_count": 75
        }
      ]
    },
    {
      "cell_type": "code",
      "source": [
        "int_16*int_32"
      ],
      "metadata": {
        "colab": {
          "base_uri": "https://localhost:8080/"
        },
        "id": "bw5BMEkt7DLw",
        "outputId": "b014adf7-f0cc-45d1-c86e-324dcb87de77"
      },
      "execution_count": null,
      "outputs": [
        {
          "output_type": "execute_result",
          "data": {
            "text/plain": [
              "tensor([   9,   16, 3136], dtype=torch.int32)"
            ]
          },
          "metadata": {},
          "execution_count": 76
        }
      ]
    },
    {
      "cell_type": "markdown",
      "source": [
        "### Getting information from the Tensore (Tensor attributes)\n",
        "1. Tensor not right data type - to do get datatype from Tensor can use `tensor.dtype`\n",
        "2. Tensor are not right Shape - to get the shape fromn the tensor can use `tensor.shape`\n",
        "3. Tensor are not on right device - to get the device from a tensor can use `tensor.device`"
      ],
      "metadata": {
        "id": "m8w0aKyc7cfo"
      }
    },
    {
      "cell_type": "code",
      "source": [
        "some_ran= torch.rand(size=(3,4))\n",
        "print(\"shape\",some_ran.shape)\n",
        "print(\"dtype\",some_ran.dtype)\n",
        "print(\"device\",some_ran.device)\n",
        "\n"
      ],
      "metadata": {
        "colab": {
          "base_uri": "https://localhost:8080/"
        },
        "id": "1DL2uDuo7HzF",
        "outputId": "de8a4b3d-fb28-4dde-852f-f0b9c7e3c857"
      },
      "execution_count": null,
      "outputs": [
        {
          "output_type": "stream",
          "name": "stdout",
          "text": [
            "shape torch.Size([3, 4])\n",
            "dtype torch.float32\n",
            "device cpu\n"
          ]
        }
      ]
    },
    {
      "cell_type": "code",
      "source": [
        "some_ran"
      ],
      "metadata": {
        "colab": {
          "base_uri": "https://localhost:8080/"
        },
        "id": "dA1azfgV8Om1",
        "outputId": "564a8b2f-89a4-4550-e1fd-d08cb7a8c524"
      },
      "execution_count": null,
      "outputs": [
        {
          "output_type": "execute_result",
          "data": {
            "text/plain": [
              "tensor([[0.3373, 0.2898, 0.6898, 0.7479],\n",
              "        [0.1496, 0.0711, 0.7412, 0.1154],\n",
              "        [0.4861, 0.1723, 0.0733, 0.6449]])"
            ]
          },
          "metadata": {},
          "execution_count": 82
        }
      ]
    },
    {
      "cell_type": "markdown",
      "source": [
        "# Manupulating the Tensors (Operation)\n",
        "- Addition\n",
        "- Multiplication\n",
        "- substraction\n",
        "- division\n",
        "- matrix multiplication"
      ],
      "metadata": {
        "id": "YfDPeHNj9igz"
      }
    },
    {
      "cell_type": "code",
      "source": [
        "# create \\a tensor\n",
        "tensor = torch.tensor([10,20,30])\n",
        "add =tensor+10\n",
        "add"
      ],
      "metadata": {
        "colab": {
          "base_uri": "https://localhost:8080/"
        },
        "id": "NG2QdpPw8-R5",
        "outputId": "f5310617-e2a8-43a9-e784-e6c3b08b8666"
      },
      "execution_count": null,
      "outputs": [
        {
          "output_type": "execute_result",
          "data": {
            "text/plain": [
              "tensor([20, 30, 40])"
            ]
          },
          "metadata": {},
          "execution_count": 87
        }
      ]
    },
    {
      "cell_type": "code",
      "source": [
        "multiplication =tensor*10\n",
        "multiplication"
      ],
      "metadata": {
        "colab": {
          "base_uri": "https://localhost:8080/"
        },
        "id": "ryuo87zd-Cti",
        "outputId": "e72c1b21-401f-4c01-b525-d79df17736e9"
      },
      "execution_count": null,
      "outputs": [
        {
          "output_type": "execute_result",
          "data": {
            "text/plain": [
              "tensor([100, 200, 300])"
            ]
          },
          "metadata": {},
          "execution_count": 85
        }
      ]
    },
    {
      "cell_type": "code",
      "source": [
        "subtraction = tensor-10\n",
        "subtraction"
      ],
      "metadata": {
        "colab": {
          "base_uri": "https://localhost:8080/"
        },
        "id": "ayq6BRaP-OA1",
        "outputId": "3666eefb-8e6a-450a-e2be-cae12b31ef1d"
      },
      "execution_count": null,
      "outputs": [
        {
          "output_type": "execute_result",
          "data": {
            "text/plain": [
              "tensor([ 0, 10, 20])"
            ]
          },
          "metadata": {},
          "execution_count": 86
        }
      ]
    },
    {
      "cell_type": "code",
      "source": [
        "# using the operation\n",
        "op_add = torch.add(tensor,10)\n",
        "op_add"
      ],
      "metadata": {
        "colab": {
          "base_uri": "https://localhost:8080/"
        },
        "id": "EHFgSD9r-UDQ",
        "outputId": "b351e540-a56d-4546-d2b2-d43d25963e08"
      },
      "execution_count": null,
      "outputs": [
        {
          "output_type": "execute_result",
          "data": {
            "text/plain": [
              "tensor([20, 30, 40])"
            ]
          },
          "metadata": {},
          "execution_count": 88
        }
      ]
    },
    {
      "cell_type": "code",
      "source": [
        "op_mul = torch.multiply(tensor,10)\n",
        "op_mul"
      ],
      "metadata": {
        "colab": {
          "base_uri": "https://localhost:8080/"
        },
        "id": "2zwuuxmr-jzK",
        "outputId": "e74d8798-4e1c-4293-e420-6c2da32306a0"
      },
      "execution_count": null,
      "outputs": [
        {
          "output_type": "execute_result",
          "data": {
            "text/plain": [
              "tensor([100, 200, 300])"
            ]
          },
          "metadata": {},
          "execution_count": 90
        }
      ]
    },
    {
      "cell_type": "markdown",
      "source": [
        "# matrix multipication\n",
        "Two Type of multipication\n",
        "- element wise multipication\n",
        "- matrix multipication (dot product)"
      ],
      "metadata": {
        "id": "orbgdscb-qo6"
      }
    },
    {
      "cell_type": "code",
      "source": [
        "print(op_add)\n",
        "print(add)\n",
        "op_add * add"
      ],
      "metadata": {
        "colab": {
          "base_uri": "https://localhost:8080/"
        },
        "id": "1jKUyDUV_jIw",
        "outputId": "d868030b-c831-4b8e-cb9e-035d59727511"
      },
      "execution_count": null,
      "outputs": [
        {
          "output_type": "stream",
          "name": "stdout",
          "text": [
            "tensor([20, 30, 40])\n",
            "tensor([20, 30, 40])\n"
          ]
        },
        {
          "output_type": "execute_result",
          "data": {
            "text/plain": [
              "tensor([ 400,  900, 1600])"
            ]
          },
          "metadata": {},
          "execution_count": 94
        }
      ]
    },
    {
      "cell_type": "code",
      "source": [
        "# matmultipication\n",
        "print(op_add)\n",
        "print(add)\n",
        "torch.matmul(op_add,add)"
      ],
      "metadata": {
        "colab": {
          "base_uri": "https://localhost:8080/"
        },
        "id": "KrR6iU2x_quI",
        "outputId": "37cfc516-4737-4944-9594-a6a52a00aa65"
      },
      "execution_count": null,
      "outputs": [
        {
          "output_type": "stream",
          "name": "stdout",
          "text": [
            "tensor([20, 30, 40])\n",
            "tensor([20, 30, 40])\n"
          ]
        },
        {
          "output_type": "execute_result",
          "data": {
            "text/plain": [
              "tensor(2900)"
            ]
          },
          "metadata": {},
          "execution_count": 98
        }
      ]
    },
    {
      "cell_type": "code",
      "source": [
        "# one of the common error in the deep learing :shape errors\n",
        "tens_A = torch.tensor([[1,2],[3,4],[5,6]])\n",
        "tens_B = torch.tensor([[3,4],[5,4],[7,6]])\n",
        "tens_B=tens_B.T\n",
        "#torch.matmul(tens_A,tens_B)\n",
        "torch.mm(tens_A,tens_B)"
      ],
      "metadata": {
        "colab": {
          "base_uri": "https://localhost:8080/"
        },
        "id": "hJbYPfSx_2UI",
        "outputId": "66f45bd7-f904-4e27-e146-07470198fa17"
      },
      "execution_count": null,
      "outputs": [
        {
          "output_type": "execute_result",
          "data": {
            "text/plain": [
              "tensor([[11, 13, 19],\n",
              "        [25, 31, 45],\n",
              "        [39, 49, 71]])"
            ]
          },
          "metadata": {},
          "execution_count": 105
        }
      ]
    },
    {
      "cell_type": "markdown",
      "source": [
        "### Tensor aggregation\n",
        "- Find the min,max,mean,sum"
      ],
      "metadata": {
        "id": "_RimwqYSCEg5"
      }
    },
    {
      "cell_type": "code",
      "source": [
        "# create the a tensor\n",
        "x= torch.arange(0,10,1)\n",
        "x"
      ],
      "metadata": {
        "colab": {
          "base_uri": "https://localhost:8080/"
        },
        "id": "2yV8wHiXAKOS",
        "outputId": "794ef410-b6e1-4351-a234-f939094f36e0"
      },
      "execution_count": null,
      "outputs": [
        {
          "output_type": "execute_result",
          "data": {
            "text/plain": [
              "tensor([0, 1, 2, 3, 4, 5, 6, 7, 8, 9])"
            ]
          },
          "metadata": {},
          "execution_count": 106
        }
      ]
    },
    {
      "cell_type": "code",
      "source": [
        "torch.min(x),torch.max(x)"
      ],
      "metadata": {
        "colab": {
          "base_uri": "https://localhost:8080/"
        },
        "id": "-TNNEAkfCWUW",
        "outputId": "c2eeac71-ab4a-4079-ed0f-ac6d901dca47"
      },
      "execution_count": null,
      "outputs": [
        {
          "output_type": "execute_result",
          "data": {
            "text/plain": [
              "(tensor(0), tensor(9))"
            ]
          },
          "metadata": {},
          "execution_count": 108
        }
      ]
    },
    {
      "cell_type": "code",
      "source": [
        "# float dtype is used for the mean\n",
        "torch.mean(x)"
      ],
      "metadata": {
        "colab": {
          "base_uri": "https://localhost:8080/"
        },
        "id": "2OQEFd-CCXeV",
        "outputId": "0e4dc614-60e7-447b-c64a-d983db89f7f2"
      },
      "execution_count": null,
      "outputs": [
        {
          "output_type": "execute_result",
          "data": {
            "text/plain": [
              "tensor(4.5000)"
            ]
          },
          "metadata": {},
          "execution_count": 112
        }
      ]
    },
    {
      "cell_type": "code",
      "source": [
        "x.dtype"
      ],
      "metadata": {
        "colab": {
          "base_uri": "https://localhost:8080/"
        },
        "id": "chKKArfQClC_",
        "outputId": "a08864a5-f587-4a6c-9fec-8e1b8b24dc16"
      },
      "execution_count": null,
      "outputs": [
        {
          "output_type": "execute_result",
          "data": {
            "text/plain": [
              "torch.int64"
            ]
          },
          "metadata": {},
          "execution_count": 110
        }
      ]
    },
    {
      "cell_type": "markdown",
      "source": [],
      "metadata": {
        "id": "6XjNaWEkD9Sl"
      }
    },
    {
      "cell_type": "code",
      "source": [
        "x=x.type(torch.float32)"
      ],
      "metadata": {
        "id": "t1696786CtaJ"
      },
      "execution_count": null,
      "outputs": []
    },
    {
      "cell_type": "code",
      "source": [
        "torch.sum(x)"
      ],
      "metadata": {
        "colab": {
          "base_uri": "https://localhost:8080/"
        },
        "id": "kVGC8e9HC-3H",
        "outputId": "69c533a4-f8c4-4297-e45e-8eecdb12a9c1"
      },
      "execution_count": null,
      "outputs": [
        {
          "output_type": "execute_result",
          "data": {
            "text/plain": [
              "tensor(45.)"
            ]
          },
          "metadata": {},
          "execution_count": 113
        }
      ]
    },
    {
      "cell_type": "code",
      "source": [
        "#finding the positional min and max\n",
        "x"
      ],
      "metadata": {
        "colab": {
          "base_uri": "https://localhost:8080/"
        },
        "id": "Fhizm3ceDNl8",
        "outputId": "a9d038c9-9b23-4a49-dab5-4dfc1c995ebe"
      },
      "execution_count": null,
      "outputs": [
        {
          "output_type": "execute_result",
          "data": {
            "text/plain": [
              "tensor([0., 1., 2., 3., 4., 5., 6., 7., 8., 9.])"
            ]
          },
          "metadata": {},
          "execution_count": 115
        }
      ]
    },
    {
      "cell_type": "code",
      "source": [
        "torch.argmin(x)"
      ],
      "metadata": {
        "colab": {
          "base_uri": "https://localhost:8080/"
        },
        "id": "9nxB9pH_Dpjp",
        "outputId": "83877a74-618c-4087-aa91-42f77ba311cf"
      },
      "execution_count": null,
      "outputs": [
        {
          "output_type": "execute_result",
          "data": {
            "text/plain": [
              "tensor(0)"
            ]
          },
          "metadata": {},
          "execution_count": 116
        }
      ]
    },
    {
      "cell_type": "code",
      "source": [
        "torch.argmax(x)"
      ],
      "metadata": {
        "colab": {
          "base_uri": "https://localhost:8080/"
        },
        "id": "V-jzw_iFDv69",
        "outputId": "0a57d8ea-330f-4044-e7ba-c877448db08a"
      },
      "execution_count": null,
      "outputs": [
        {
          "output_type": "execute_result",
          "data": {
            "text/plain": [
              "tensor(9)"
            ]
          },
          "metadata": {},
          "execution_count": 117
        }
      ]
    },
    {
      "cell_type": "code",
      "source": [
        "torch.argsort(x,descending=True)"
      ],
      "metadata": {
        "colab": {
          "base_uri": "https://localhost:8080/"
        },
        "id": "puPwLI84DyAR",
        "outputId": "30ab0ccd-a459-4f56-c8b2-c0bf3f90f0f0"
      },
      "execution_count": null,
      "outputs": [
        {
          "output_type": "execute_result",
          "data": {
            "text/plain": [
              "tensor([9, 8, 7, 6, 5, 4, 3, 2, 1, 0])"
            ]
          },
          "metadata": {},
          "execution_count": 119
        }
      ]
    },
    {
      "cell_type": "markdown",
      "source": [
        "### Reshaping, stacking, Squeezing and unsqueezing tensors\n",
        "* reshaping - reshaping an input tensor to a defined shape\n",
        "* view  - returing a view of the tensor of certain shape but keep the same memory as the original tensor\n",
        "* stacking - combining multiple tensors on top of each other (v stack or side by side (hstack)\n",
        "* squeeze - remall 1 dimention from the tensor\n",
        "* unsqueeze - add 1 dimention to a target tensor\n",
        "* permute - return a vieqw of the input with dimention permuted (swapped) in a ceratain way"
      ],
      "metadata": {
        "id": "I3n9ocpzEvvh"
      }
    },
    {
      "cell_type": "code",
      "source": [
        "y= torch.arange(1,10)"
      ],
      "metadata": {
        "id": "qAOZw0R9EVy6"
      },
      "execution_count": null,
      "outputs": []
    },
    {
      "cell_type": "code",
      "source": [
        "y,y.shape"
      ],
      "metadata": {
        "colab": {
          "base_uri": "https://localhost:8080/"
        },
        "id": "LB9JOmgsGmUd",
        "outputId": "59c35376-3324-42ce-8600-9dcf3983302c"
      },
      "execution_count": null,
      "outputs": [
        {
          "output_type": "execute_result",
          "data": {
            "text/plain": [
              "(tensor([1, 2, 3, 4, 5, 6, 7, 8, 9]), torch.Size([9]))"
            ]
          },
          "metadata": {},
          "execution_count": 121
        }
      ]
    },
    {
      "cell_type": "code",
      "source": [
        "x_reshape=y.reshape(1,9)\n",
        "x_reshape"
      ],
      "metadata": {
        "colab": {
          "base_uri": "https://localhost:8080/"
        },
        "id": "hVUyNEhfGooa",
        "outputId": "171d784d-3bdb-4e1e-9bbb-bf93cc929782"
      },
      "execution_count": null,
      "outputs": [
        {
          "output_type": "execute_result",
          "data": {
            "text/plain": [
              "tensor([[1, 2, 3, 4, 5, 6, 7, 8, 9]])"
            ]
          },
          "metadata": {},
          "execution_count": 130
        }
      ]
    },
    {
      "cell_type": "code",
      "source": [
        "# change the view\n",
        "z= y.view(1,9)\n",
        "z[:,0]=5\n",
        "z,y\n",
        "## changing the z changes x they share the mamory"
      ],
      "metadata": {
        "colab": {
          "base_uri": "https://localhost:8080/"
        },
        "id": "wHsSo_NRG4Ox",
        "outputId": "3841a4b5-151b-476b-eb4e-92087a8f6a8e"
      },
      "execution_count": null,
      "outputs": [
        {
          "output_type": "execute_result",
          "data": {
            "text/plain": [
              "(tensor([[5, 2, 3, 4, 5, 6, 7, 8, 9]]), tensor([5, 2, 3, 4, 5, 6, 7, 8, 9]))"
            ]
          },
          "metadata": {},
          "execution_count": 136
        }
      ]
    },
    {
      "cell_type": "code",
      "source": [
        "# stacking\n",
        "x_stacking=torch.stack([x,x,x,x],dim=-1)\n",
        "x_stacking,x_stacking.shape"
      ],
      "metadata": {
        "colab": {
          "base_uri": "https://localhost:8080/"
        },
        "id": "v9UJCO3GHWe6",
        "outputId": "906bd17e-16c0-48f9-ef3b-81dfd1313c11"
      },
      "execution_count": null,
      "outputs": [
        {
          "output_type": "execute_result",
          "data": {
            "text/plain": [
              "(tensor([[0., 0., 0., 0.],\n",
              "         [1., 1., 1., 1.],\n",
              "         [2., 2., 2., 2.],\n",
              "         [3., 3., 3., 3.],\n",
              "         [4., 4., 4., 4.],\n",
              "         [5., 5., 5., 5.],\n",
              "         [6., 6., 6., 6.],\n",
              "         [7., 7., 7., 7.],\n",
              "         [8., 8., 8., 8.],\n",
              "         [9., 9., 9., 9.]]),\n",
              " torch.Size([10, 4]))"
            ]
          },
          "metadata": {},
          "execution_count": 149
        }
      ]
    },
    {
      "cell_type": "code",
      "source": [
        "x_squeeze= torch.squeeze(x_stacking)\n",
        "x_squeeze,x_squeeze.shape"
      ],
      "metadata": {
        "colab": {
          "base_uri": "https://localhost:8080/"
        },
        "id": "kN76DuPxH9Tb",
        "outputId": "1d1d1a08-fd0a-4045-f8cb-6fbc43f55f25"
      },
      "execution_count": null,
      "outputs": [
        {
          "output_type": "execute_result",
          "data": {
            "text/plain": [
              "(tensor([[0., 0., 0., 0.],\n",
              "         [1., 1., 1., 1.],\n",
              "         [2., 2., 2., 2.],\n",
              "         [3., 3., 3., 3.],\n",
              "         [4., 4., 4., 4.],\n",
              "         [5., 5., 5., 5.],\n",
              "         [6., 6., 6., 6.],\n",
              "         [7., 7., 7., 7.],\n",
              "         [8., 8., 8., 8.],\n",
              "         [9., 9., 9., 9.]]),\n",
              " torch.Size([10, 4]))"
            ]
          },
          "metadata": {},
          "execution_count": 151
        }
      ]
    },
    {
      "cell_type": "code",
      "source": [
        "x_squeeze.shape\n"
      ],
      "metadata": {
        "colab": {
          "base_uri": "https://localhost:8080/"
        },
        "id": "uIJ17z4sIf9n",
        "outputId": "bd1e266e-51f3-41a2-8d5e-58b12a4d1a2f"
      },
      "execution_count": null,
      "outputs": [
        {
          "output_type": "execute_result",
          "data": {
            "text/plain": [
              "torch.Size([10, 4])"
            ]
          },
          "metadata": {},
          "execution_count": 161
        }
      ]
    },
    {
      "cell_type": "code",
      "source": [
        "torch.squeeze(x_squeeze).shape"
      ],
      "metadata": {
        "colab": {
          "base_uri": "https://localhost:8080/"
        },
        "id": "7vTJYD7zI2TW",
        "outputId": "7e1bd9ec-5fc7-4740-b64e-d8540114b58c"
      },
      "execution_count": null,
      "outputs": [
        {
          "output_type": "execute_result",
          "data": {
            "text/plain": [
              "torch.Size([10, 4])"
            ]
          },
          "metadata": {},
          "execution_count": 164
        }
      ]
    },
    {
      "cell_type": "code",
      "source": [
        "x_permuted = torch.rand([2,4])\n",
        "x_permuted"
      ],
      "metadata": {
        "colab": {
          "base_uri": "https://localhost:8080/"
        },
        "id": "MPsFiSIELLRP",
        "outputId": "f24b4fdf-a3d2-4593-c903-832d9a17a0c9"
      },
      "execution_count": null,
      "outputs": [
        {
          "output_type": "execute_result",
          "data": {
            "text/plain": [
              "tensor([[0.2768, 0.2234, 0.5130, 0.7321],\n",
              "        [0.1035, 0.6031, 0.0231, 0.1669]])"
            ]
          },
          "metadata": {},
          "execution_count": 180
        }
      ]
    },
    {
      "cell_type": "code",
      "source": [
        "x_permuted.permute(0,1)"
      ],
      "metadata": {
        "colab": {
          "base_uri": "https://localhost:8080/"
        },
        "id": "itNRU_JhMDhj",
        "outputId": "1475d0b6-a67e-4f06-b9b3-8ee44f3f8579"
      },
      "execution_count": null,
      "outputs": [
        {
          "output_type": "execute_result",
          "data": {
            "text/plain": [
              "tensor([[0.7652, 0.8116, 0.2811, 0.9563],\n",
              "        [0.9711, 0.6617, 0.2229, 0.2707]])"
            ]
          },
          "metadata": {},
          "execution_count": 179
        }
      ]
    },
    {
      "cell_type": "code",
      "source": [
        "x_permuted.dim()"
      ],
      "metadata": {
        "colab": {
          "base_uri": "https://localhost:8080/"
        },
        "id": "mVS3nrF_ME0I",
        "outputId": "803fe261-47ce-4d11-c230-67b4c8b8bcab"
      },
      "execution_count": null,
      "outputs": [
        {
          "output_type": "execute_result",
          "data": {
            "text/plain": [
              "2"
            ]
          },
          "metadata": {},
          "execution_count": 176
        }
      ]
    },
    {
      "cell_type": "markdown",
      "source": [
        "### who to use the Gpu\n",
        "- The reason we want our tensors/model on the gpu is because using a Gpu resulting in faster computation"
      ],
      "metadata": {
        "id": "FWY66SeuOWIg"
      }
    },
    {
      "cell_type": "code",
      "source": [
        "# move tensor to gpu (if availble )\n",
        "x= torch.tensor([1,3,5,6,8])\n",
        "print(x,x.device)\n",
        "device = \"cuda\" if torch.cuda.is_available() else \"cpu\"\n",
        "print(device)\n",
        "tensor_gpu = tensor.to(device)\n",
        "tensor_gpu"
      ],
      "metadata": {
        "colab": {
          "base_uri": "https://localhost:8080/"
        },
        "id": "ZZGt8jIZNMXC",
        "outputId": "9dcb9b65-d5a5-4941-d119-29062bc5eb04"
      },
      "execution_count": null,
      "outputs": [
        {
          "output_type": "stream",
          "name": "stdout",
          "text": [
            "tensor([1, 3, 5, 6, 8]) cpu\n",
            "cpu\n"
          ]
        },
        {
          "output_type": "execute_result",
          "data": {
            "text/plain": [
              "tensor([10, 20, 30])"
            ]
          },
          "metadata": {},
          "execution_count": 185
        }
      ]
    },
    {
      "cell_type": "code",
      "source": [],
      "metadata": {
        "id": "XF0TohP8PE43"
      },
      "execution_count": null,
      "outputs": []
    }
  ]
}