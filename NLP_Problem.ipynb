{
  "nbformat": 4,
  "nbformat_minor": 0,
  "metadata": {
    "colab": {
      "provenance": [],
      "machine_shape": "hm",
      "gpuType": "A100",
      "authorship_tag": "ABX9TyMzLImwnY108UD1QqpINVPn",
      "include_colab_link": true
    },
    "kernelspec": {
      "name": "python3",
      "display_name": "Python 3"
    },
    "language_info": {
      "name": "python"
    },
    "accelerator": "GPU",
    "widgets": {
      "application/vnd.jupyter.widget-state+json": {
        "5ff88140c012420491427b6f4e7f0478": {
          "model_module": "@jupyter-widgets/controls",
          "model_name": "HBoxModel",
          "model_module_version": "1.5.0",
          "state": {
            "_dom_classes": [],
            "_model_module": "@jupyter-widgets/controls",
            "_model_module_version": "1.5.0",
            "_model_name": "HBoxModel",
            "_view_count": null,
            "_view_module": "@jupyter-widgets/controls",
            "_view_module_version": "1.5.0",
            "_view_name": "HBoxView",
            "box_style": "",
            "children": [
              "IPY_MODEL_ca1dffc1dc3546dfaaa4a8316de6035e",
              "IPY_MODEL_b863752582694910a12dab356edcfc4a",
              "IPY_MODEL_4087d443cd4c475494c7a3ff09441991"
            ],
            "layout": "IPY_MODEL_952550631af04265944f78c08113a8d4"
          }
        },
        "ca1dffc1dc3546dfaaa4a8316de6035e": {
          "model_module": "@jupyter-widgets/controls",
          "model_name": "HTMLModel",
          "model_module_version": "1.5.0",
          "state": {
            "_dom_classes": [],
            "_model_module": "@jupyter-widgets/controls",
            "_model_module_version": "1.5.0",
            "_model_name": "HTMLModel",
            "_view_count": null,
            "_view_module": "@jupyter-widgets/controls",
            "_view_module_version": "1.5.0",
            "_view_name": "HTMLView",
            "description": "",
            "description_tooltip": null,
            "layout": "IPY_MODEL_19c6d3837a46412c9084205692f28efa",
            "placeholder": "​",
            "style": "IPY_MODEL_5831507cc46e42acbe5920805c454fc3",
            "value": "tokenizer_config.json: 100%"
          }
        },
        "b863752582694910a12dab356edcfc4a": {
          "model_module": "@jupyter-widgets/controls",
          "model_name": "FloatProgressModel",
          "model_module_version": "1.5.0",
          "state": {
            "_dom_classes": [],
            "_model_module": "@jupyter-widgets/controls",
            "_model_module_version": "1.5.0",
            "_model_name": "FloatProgressModel",
            "_view_count": null,
            "_view_module": "@jupyter-widgets/controls",
            "_view_module_version": "1.5.0",
            "_view_name": "ProgressView",
            "bar_style": "success",
            "description": "",
            "description_tooltip": null,
            "layout": "IPY_MODEL_6c9a6c65019942448dbf9233a0c05fd0",
            "max": 48,
            "min": 0,
            "orientation": "horizontal",
            "style": "IPY_MODEL_7e2dce17581a487dae8cceb1d23ef80d",
            "value": 48
          }
        },
        "4087d443cd4c475494c7a3ff09441991": {
          "model_module": "@jupyter-widgets/controls",
          "model_name": "HTMLModel",
          "model_module_version": "1.5.0",
          "state": {
            "_dom_classes": [],
            "_model_module": "@jupyter-widgets/controls",
            "_model_module_version": "1.5.0",
            "_model_name": "HTMLModel",
            "_view_count": null,
            "_view_module": "@jupyter-widgets/controls",
            "_view_module_version": "1.5.0",
            "_view_name": "HTMLView",
            "description": "",
            "description_tooltip": null,
            "layout": "IPY_MODEL_e4016b54d05f47dea5cd5fe864665322",
            "placeholder": "​",
            "style": "IPY_MODEL_989d4b80e304496d8f3bbd7016a7cb0c",
            "value": " 48.0/48.0 [00:00&lt;00:00, 3.49kB/s]"
          }
        },
        "952550631af04265944f78c08113a8d4": {
          "model_module": "@jupyter-widgets/base",
          "model_name": "LayoutModel",
          "model_module_version": "1.2.0",
          "state": {
            "_model_module": "@jupyter-widgets/base",
            "_model_module_version": "1.2.0",
            "_model_name": "LayoutModel",
            "_view_count": null,
            "_view_module": "@jupyter-widgets/base",
            "_view_module_version": "1.2.0",
            "_view_name": "LayoutView",
            "align_content": null,
            "align_items": null,
            "align_self": null,
            "border": null,
            "bottom": null,
            "display": null,
            "flex": null,
            "flex_flow": null,
            "grid_area": null,
            "grid_auto_columns": null,
            "grid_auto_flow": null,
            "grid_auto_rows": null,
            "grid_column": null,
            "grid_gap": null,
            "grid_row": null,
            "grid_template_areas": null,
            "grid_template_columns": null,
            "grid_template_rows": null,
            "height": null,
            "justify_content": null,
            "justify_items": null,
            "left": null,
            "margin": null,
            "max_height": null,
            "max_width": null,
            "min_height": null,
            "min_width": null,
            "object_fit": null,
            "object_position": null,
            "order": null,
            "overflow": null,
            "overflow_x": null,
            "overflow_y": null,
            "padding": null,
            "right": null,
            "top": null,
            "visibility": null,
            "width": null
          }
        },
        "19c6d3837a46412c9084205692f28efa": {
          "model_module": "@jupyter-widgets/base",
          "model_name": "LayoutModel",
          "model_module_version": "1.2.0",
          "state": {
            "_model_module": "@jupyter-widgets/base",
            "_model_module_version": "1.2.0",
            "_model_name": "LayoutModel",
            "_view_count": null,
            "_view_module": "@jupyter-widgets/base",
            "_view_module_version": "1.2.0",
            "_view_name": "LayoutView",
            "align_content": null,
            "align_items": null,
            "align_self": null,
            "border": null,
            "bottom": null,
            "display": null,
            "flex": null,
            "flex_flow": null,
            "grid_area": null,
            "grid_auto_columns": null,
            "grid_auto_flow": null,
            "grid_auto_rows": null,
            "grid_column": null,
            "grid_gap": null,
            "grid_row": null,
            "grid_template_areas": null,
            "grid_template_columns": null,
            "grid_template_rows": null,
            "height": null,
            "justify_content": null,
            "justify_items": null,
            "left": null,
            "margin": null,
            "max_height": null,
            "max_width": null,
            "min_height": null,
            "min_width": null,
            "object_fit": null,
            "object_position": null,
            "order": null,
            "overflow": null,
            "overflow_x": null,
            "overflow_y": null,
            "padding": null,
            "right": null,
            "top": null,
            "visibility": null,
            "width": null
          }
        },
        "5831507cc46e42acbe5920805c454fc3": {
          "model_module": "@jupyter-widgets/controls",
          "model_name": "DescriptionStyleModel",
          "model_module_version": "1.5.0",
          "state": {
            "_model_module": "@jupyter-widgets/controls",
            "_model_module_version": "1.5.0",
            "_model_name": "DescriptionStyleModel",
            "_view_count": null,
            "_view_module": "@jupyter-widgets/base",
            "_view_module_version": "1.2.0",
            "_view_name": "StyleView",
            "description_width": ""
          }
        },
        "6c9a6c65019942448dbf9233a0c05fd0": {
          "model_module": "@jupyter-widgets/base",
          "model_name": "LayoutModel",
          "model_module_version": "1.2.0",
          "state": {
            "_model_module": "@jupyter-widgets/base",
            "_model_module_version": "1.2.0",
            "_model_name": "LayoutModel",
            "_view_count": null,
            "_view_module": "@jupyter-widgets/base",
            "_view_module_version": "1.2.0",
            "_view_name": "LayoutView",
            "align_content": null,
            "align_items": null,
            "align_self": null,
            "border": null,
            "bottom": null,
            "display": null,
            "flex": null,
            "flex_flow": null,
            "grid_area": null,
            "grid_auto_columns": null,
            "grid_auto_flow": null,
            "grid_auto_rows": null,
            "grid_column": null,
            "grid_gap": null,
            "grid_row": null,
            "grid_template_areas": null,
            "grid_template_columns": null,
            "grid_template_rows": null,
            "height": null,
            "justify_content": null,
            "justify_items": null,
            "left": null,
            "margin": null,
            "max_height": null,
            "max_width": null,
            "min_height": null,
            "min_width": null,
            "object_fit": null,
            "object_position": null,
            "order": null,
            "overflow": null,
            "overflow_x": null,
            "overflow_y": null,
            "padding": null,
            "right": null,
            "top": null,
            "visibility": null,
            "width": null
          }
        },
        "7e2dce17581a487dae8cceb1d23ef80d": {
          "model_module": "@jupyter-widgets/controls",
          "model_name": "ProgressStyleModel",
          "model_module_version": "1.5.0",
          "state": {
            "_model_module": "@jupyter-widgets/controls",
            "_model_module_version": "1.5.0",
            "_model_name": "ProgressStyleModel",
            "_view_count": null,
            "_view_module": "@jupyter-widgets/base",
            "_view_module_version": "1.2.0",
            "_view_name": "StyleView",
            "bar_color": null,
            "description_width": ""
          }
        },
        "e4016b54d05f47dea5cd5fe864665322": {
          "model_module": "@jupyter-widgets/base",
          "model_name": "LayoutModel",
          "model_module_version": "1.2.0",
          "state": {
            "_model_module": "@jupyter-widgets/base",
            "_model_module_version": "1.2.0",
            "_model_name": "LayoutModel",
            "_view_count": null,
            "_view_module": "@jupyter-widgets/base",
            "_view_module_version": "1.2.0",
            "_view_name": "LayoutView",
            "align_content": null,
            "align_items": null,
            "align_self": null,
            "border": null,
            "bottom": null,
            "display": null,
            "flex": null,
            "flex_flow": null,
            "grid_area": null,
            "grid_auto_columns": null,
            "grid_auto_flow": null,
            "grid_auto_rows": null,
            "grid_column": null,
            "grid_gap": null,
            "grid_row": null,
            "grid_template_areas": null,
            "grid_template_columns": null,
            "grid_template_rows": null,
            "height": null,
            "justify_content": null,
            "justify_items": null,
            "left": null,
            "margin": null,
            "max_height": null,
            "max_width": null,
            "min_height": null,
            "min_width": null,
            "object_fit": null,
            "object_position": null,
            "order": null,
            "overflow": null,
            "overflow_x": null,
            "overflow_y": null,
            "padding": null,
            "right": null,
            "top": null,
            "visibility": null,
            "width": null
          }
        },
        "989d4b80e304496d8f3bbd7016a7cb0c": {
          "model_module": "@jupyter-widgets/controls",
          "model_name": "DescriptionStyleModel",
          "model_module_version": "1.5.0",
          "state": {
            "_model_module": "@jupyter-widgets/controls",
            "_model_module_version": "1.5.0",
            "_model_name": "DescriptionStyleModel",
            "_view_count": null,
            "_view_module": "@jupyter-widgets/base",
            "_view_module_version": "1.2.0",
            "_view_name": "StyleView",
            "description_width": ""
          }
        },
        "8f8a0d0a977d4fa4bbf43ae9d6bc1eca": {
          "model_module": "@jupyter-widgets/controls",
          "model_name": "HBoxModel",
          "model_module_version": "1.5.0",
          "state": {
            "_dom_classes": [],
            "_model_module": "@jupyter-widgets/controls",
            "_model_module_version": "1.5.0",
            "_model_name": "HBoxModel",
            "_view_count": null,
            "_view_module": "@jupyter-widgets/controls",
            "_view_module_version": "1.5.0",
            "_view_name": "HBoxView",
            "box_style": "",
            "children": [
              "IPY_MODEL_936db4b3d8eb405b9231cad09aecd7a4",
              "IPY_MODEL_b664d16b8dea404eb3efcfef8585fdbb",
              "IPY_MODEL_9e8d33b103fc49339fbe94443cc2f298"
            ],
            "layout": "IPY_MODEL_639bfc47679c431582aae86b9e912ce9"
          }
        },
        "936db4b3d8eb405b9231cad09aecd7a4": {
          "model_module": "@jupyter-widgets/controls",
          "model_name": "HTMLModel",
          "model_module_version": "1.5.0",
          "state": {
            "_dom_classes": [],
            "_model_module": "@jupyter-widgets/controls",
            "_model_module_version": "1.5.0",
            "_model_name": "HTMLModel",
            "_view_count": null,
            "_view_module": "@jupyter-widgets/controls",
            "_view_module_version": "1.5.0",
            "_view_name": "HTMLView",
            "description": "",
            "description_tooltip": null,
            "layout": "IPY_MODEL_ddac30300edb4f2789d39ccb2c4ae66f",
            "placeholder": "​",
            "style": "IPY_MODEL_57cfc4adead743aaa38357b313f9ed26",
            "value": "vocab.txt: 100%"
          }
        },
        "b664d16b8dea404eb3efcfef8585fdbb": {
          "model_module": "@jupyter-widgets/controls",
          "model_name": "FloatProgressModel",
          "model_module_version": "1.5.0",
          "state": {
            "_dom_classes": [],
            "_model_module": "@jupyter-widgets/controls",
            "_model_module_version": "1.5.0",
            "_model_name": "FloatProgressModel",
            "_view_count": null,
            "_view_module": "@jupyter-widgets/controls",
            "_view_module_version": "1.5.0",
            "_view_name": "ProgressView",
            "bar_style": "success",
            "description": "",
            "description_tooltip": null,
            "layout": "IPY_MODEL_030dd56a5a2449c48ffe4c9a042253c8",
            "max": 231508,
            "min": 0,
            "orientation": "horizontal",
            "style": "IPY_MODEL_19db3ee5c9474ead9d8ba6c078565f23",
            "value": 231508
          }
        },
        "9e8d33b103fc49339fbe94443cc2f298": {
          "model_module": "@jupyter-widgets/controls",
          "model_name": "HTMLModel",
          "model_module_version": "1.5.0",
          "state": {
            "_dom_classes": [],
            "_model_module": "@jupyter-widgets/controls",
            "_model_module_version": "1.5.0",
            "_model_name": "HTMLModel",
            "_view_count": null,
            "_view_module": "@jupyter-widgets/controls",
            "_view_module_version": "1.5.0",
            "_view_name": "HTMLView",
            "description": "",
            "description_tooltip": null,
            "layout": "IPY_MODEL_bc805389b9d9434ea7963424f0229b90",
            "placeholder": "​",
            "style": "IPY_MODEL_3df72e54c0c94913915492a9252d45c0",
            "value": " 232k/232k [00:00&lt;00:00, 1.96MB/s]"
          }
        },
        "639bfc47679c431582aae86b9e912ce9": {
          "model_module": "@jupyter-widgets/base",
          "model_name": "LayoutModel",
          "model_module_version": "1.2.0",
          "state": {
            "_model_module": "@jupyter-widgets/base",
            "_model_module_version": "1.2.0",
            "_model_name": "LayoutModel",
            "_view_count": null,
            "_view_module": "@jupyter-widgets/base",
            "_view_module_version": "1.2.0",
            "_view_name": "LayoutView",
            "align_content": null,
            "align_items": null,
            "align_self": null,
            "border": null,
            "bottom": null,
            "display": null,
            "flex": null,
            "flex_flow": null,
            "grid_area": null,
            "grid_auto_columns": null,
            "grid_auto_flow": null,
            "grid_auto_rows": null,
            "grid_column": null,
            "grid_gap": null,
            "grid_row": null,
            "grid_template_areas": null,
            "grid_template_columns": null,
            "grid_template_rows": null,
            "height": null,
            "justify_content": null,
            "justify_items": null,
            "left": null,
            "margin": null,
            "max_height": null,
            "max_width": null,
            "min_height": null,
            "min_width": null,
            "object_fit": null,
            "object_position": null,
            "order": null,
            "overflow": null,
            "overflow_x": null,
            "overflow_y": null,
            "padding": null,
            "right": null,
            "top": null,
            "visibility": null,
            "width": null
          }
        },
        "ddac30300edb4f2789d39ccb2c4ae66f": {
          "model_module": "@jupyter-widgets/base",
          "model_name": "LayoutModel",
          "model_module_version": "1.2.0",
          "state": {
            "_model_module": "@jupyter-widgets/base",
            "_model_module_version": "1.2.0",
            "_model_name": "LayoutModel",
            "_view_count": null,
            "_view_module": "@jupyter-widgets/base",
            "_view_module_version": "1.2.0",
            "_view_name": "LayoutView",
            "align_content": null,
            "align_items": null,
            "align_self": null,
            "border": null,
            "bottom": null,
            "display": null,
            "flex": null,
            "flex_flow": null,
            "grid_area": null,
            "grid_auto_columns": null,
            "grid_auto_flow": null,
            "grid_auto_rows": null,
            "grid_column": null,
            "grid_gap": null,
            "grid_row": null,
            "grid_template_areas": null,
            "grid_template_columns": null,
            "grid_template_rows": null,
            "height": null,
            "justify_content": null,
            "justify_items": null,
            "left": null,
            "margin": null,
            "max_height": null,
            "max_width": null,
            "min_height": null,
            "min_width": null,
            "object_fit": null,
            "object_position": null,
            "order": null,
            "overflow": null,
            "overflow_x": null,
            "overflow_y": null,
            "padding": null,
            "right": null,
            "top": null,
            "visibility": null,
            "width": null
          }
        },
        "57cfc4adead743aaa38357b313f9ed26": {
          "model_module": "@jupyter-widgets/controls",
          "model_name": "DescriptionStyleModel",
          "model_module_version": "1.5.0",
          "state": {
            "_model_module": "@jupyter-widgets/controls",
            "_model_module_version": "1.5.0",
            "_model_name": "DescriptionStyleModel",
            "_view_count": null,
            "_view_module": "@jupyter-widgets/base",
            "_view_module_version": "1.2.0",
            "_view_name": "StyleView",
            "description_width": ""
          }
        },
        "030dd56a5a2449c48ffe4c9a042253c8": {
          "model_module": "@jupyter-widgets/base",
          "model_name": "LayoutModel",
          "model_module_version": "1.2.0",
          "state": {
            "_model_module": "@jupyter-widgets/base",
            "_model_module_version": "1.2.0",
            "_model_name": "LayoutModel",
            "_view_count": null,
            "_view_module": "@jupyter-widgets/base",
            "_view_module_version": "1.2.0",
            "_view_name": "LayoutView",
            "align_content": null,
            "align_items": null,
            "align_self": null,
            "border": null,
            "bottom": null,
            "display": null,
            "flex": null,
            "flex_flow": null,
            "grid_area": null,
            "grid_auto_columns": null,
            "grid_auto_flow": null,
            "grid_auto_rows": null,
            "grid_column": null,
            "grid_gap": null,
            "grid_row": null,
            "grid_template_areas": null,
            "grid_template_columns": null,
            "grid_template_rows": null,
            "height": null,
            "justify_content": null,
            "justify_items": null,
            "left": null,
            "margin": null,
            "max_height": null,
            "max_width": null,
            "min_height": null,
            "min_width": null,
            "object_fit": null,
            "object_position": null,
            "order": null,
            "overflow": null,
            "overflow_x": null,
            "overflow_y": null,
            "padding": null,
            "right": null,
            "top": null,
            "visibility": null,
            "width": null
          }
        },
        "19db3ee5c9474ead9d8ba6c078565f23": {
          "model_module": "@jupyter-widgets/controls",
          "model_name": "ProgressStyleModel",
          "model_module_version": "1.5.0",
          "state": {
            "_model_module": "@jupyter-widgets/controls",
            "_model_module_version": "1.5.0",
            "_model_name": "ProgressStyleModel",
            "_view_count": null,
            "_view_module": "@jupyter-widgets/base",
            "_view_module_version": "1.2.0",
            "_view_name": "StyleView",
            "bar_color": null,
            "description_width": ""
          }
        },
        "bc805389b9d9434ea7963424f0229b90": {
          "model_module": "@jupyter-widgets/base",
          "model_name": "LayoutModel",
          "model_module_version": "1.2.0",
          "state": {
            "_model_module": "@jupyter-widgets/base",
            "_model_module_version": "1.2.0",
            "_model_name": "LayoutModel",
            "_view_count": null,
            "_view_module": "@jupyter-widgets/base",
            "_view_module_version": "1.2.0",
            "_view_name": "LayoutView",
            "align_content": null,
            "align_items": null,
            "align_self": null,
            "border": null,
            "bottom": null,
            "display": null,
            "flex": null,
            "flex_flow": null,
            "grid_area": null,
            "grid_auto_columns": null,
            "grid_auto_flow": null,
            "grid_auto_rows": null,
            "grid_column": null,
            "grid_gap": null,
            "grid_row": null,
            "grid_template_areas": null,
            "grid_template_columns": null,
            "grid_template_rows": null,
            "height": null,
            "justify_content": null,
            "justify_items": null,
            "left": null,
            "margin": null,
            "max_height": null,
            "max_width": null,
            "min_height": null,
            "min_width": null,
            "object_fit": null,
            "object_position": null,
            "order": null,
            "overflow": null,
            "overflow_x": null,
            "overflow_y": null,
            "padding": null,
            "right": null,
            "top": null,
            "visibility": null,
            "width": null
          }
        },
        "3df72e54c0c94913915492a9252d45c0": {
          "model_module": "@jupyter-widgets/controls",
          "model_name": "DescriptionStyleModel",
          "model_module_version": "1.5.0",
          "state": {
            "_model_module": "@jupyter-widgets/controls",
            "_model_module_version": "1.5.0",
            "_model_name": "DescriptionStyleModel",
            "_view_count": null,
            "_view_module": "@jupyter-widgets/base",
            "_view_module_version": "1.2.0",
            "_view_name": "StyleView",
            "description_width": ""
          }
        },
        "163a77f6da7d4eb9b60a03be73cf0bc6": {
          "model_module": "@jupyter-widgets/controls",
          "model_name": "HBoxModel",
          "model_module_version": "1.5.0",
          "state": {
            "_dom_classes": [],
            "_model_module": "@jupyter-widgets/controls",
            "_model_module_version": "1.5.0",
            "_model_name": "HBoxModel",
            "_view_count": null,
            "_view_module": "@jupyter-widgets/controls",
            "_view_module_version": "1.5.0",
            "_view_name": "HBoxView",
            "box_style": "",
            "children": [
              "IPY_MODEL_cba51f413d054fa2b8b69d482e0e9667",
              "IPY_MODEL_26693abe858444c487bd6b23f8fe2481",
              "IPY_MODEL_37483db64b0f4294a990c113a497932f"
            ],
            "layout": "IPY_MODEL_8bf9de9ddfa04c9a820d23d3b85f91b9"
          }
        },
        "cba51f413d054fa2b8b69d482e0e9667": {
          "model_module": "@jupyter-widgets/controls",
          "model_name": "HTMLModel",
          "model_module_version": "1.5.0",
          "state": {
            "_dom_classes": [],
            "_model_module": "@jupyter-widgets/controls",
            "_model_module_version": "1.5.0",
            "_model_name": "HTMLModel",
            "_view_count": null,
            "_view_module": "@jupyter-widgets/controls",
            "_view_module_version": "1.5.0",
            "_view_name": "HTMLView",
            "description": "",
            "description_tooltip": null,
            "layout": "IPY_MODEL_20b6a4cd8bdd4577afbf7fbc575c847e",
            "placeholder": "​",
            "style": "IPY_MODEL_fd8b3f00ae9e425594cc4ae30a8b8531",
            "value": "tokenizer.json: 100%"
          }
        },
        "26693abe858444c487bd6b23f8fe2481": {
          "model_module": "@jupyter-widgets/controls",
          "model_name": "FloatProgressModel",
          "model_module_version": "1.5.0",
          "state": {
            "_dom_classes": [],
            "_model_module": "@jupyter-widgets/controls",
            "_model_module_version": "1.5.0",
            "_model_name": "FloatProgressModel",
            "_view_count": null,
            "_view_module": "@jupyter-widgets/controls",
            "_view_module_version": "1.5.0",
            "_view_name": "ProgressView",
            "bar_style": "success",
            "description": "",
            "description_tooltip": null,
            "layout": "IPY_MODEL_90c09ce30bce43cfbb3b2fdc1b0d18b3",
            "max": 466062,
            "min": 0,
            "orientation": "horizontal",
            "style": "IPY_MODEL_e88351a895b54cb087dc1cd7650f28fb",
            "value": 466062
          }
        },
        "37483db64b0f4294a990c113a497932f": {
          "model_module": "@jupyter-widgets/controls",
          "model_name": "HTMLModel",
          "model_module_version": "1.5.0",
          "state": {
            "_dom_classes": [],
            "_model_module": "@jupyter-widgets/controls",
            "_model_module_version": "1.5.0",
            "_model_name": "HTMLModel",
            "_view_count": null,
            "_view_module": "@jupyter-widgets/controls",
            "_view_module_version": "1.5.0",
            "_view_name": "HTMLView",
            "description": "",
            "description_tooltip": null,
            "layout": "IPY_MODEL_688c310ce57b49ee8514e5f5cc171253",
            "placeholder": "​",
            "style": "IPY_MODEL_c43f8948506945d28dd03d759acd750b",
            "value": " 466k/466k [00:00&lt;00:00, 7.92MB/s]"
          }
        },
        "8bf9de9ddfa04c9a820d23d3b85f91b9": {
          "model_module": "@jupyter-widgets/base",
          "model_name": "LayoutModel",
          "model_module_version": "1.2.0",
          "state": {
            "_model_module": "@jupyter-widgets/base",
            "_model_module_version": "1.2.0",
            "_model_name": "LayoutModel",
            "_view_count": null,
            "_view_module": "@jupyter-widgets/base",
            "_view_module_version": "1.2.0",
            "_view_name": "LayoutView",
            "align_content": null,
            "align_items": null,
            "align_self": null,
            "border": null,
            "bottom": null,
            "display": null,
            "flex": null,
            "flex_flow": null,
            "grid_area": null,
            "grid_auto_columns": null,
            "grid_auto_flow": null,
            "grid_auto_rows": null,
            "grid_column": null,
            "grid_gap": null,
            "grid_row": null,
            "grid_template_areas": null,
            "grid_template_columns": null,
            "grid_template_rows": null,
            "height": null,
            "justify_content": null,
            "justify_items": null,
            "left": null,
            "margin": null,
            "max_height": null,
            "max_width": null,
            "min_height": null,
            "min_width": null,
            "object_fit": null,
            "object_position": null,
            "order": null,
            "overflow": null,
            "overflow_x": null,
            "overflow_y": null,
            "padding": null,
            "right": null,
            "top": null,
            "visibility": null,
            "width": null
          }
        },
        "20b6a4cd8bdd4577afbf7fbc575c847e": {
          "model_module": "@jupyter-widgets/base",
          "model_name": "LayoutModel",
          "model_module_version": "1.2.0",
          "state": {
            "_model_module": "@jupyter-widgets/base",
            "_model_module_version": "1.2.0",
            "_model_name": "LayoutModel",
            "_view_count": null,
            "_view_module": "@jupyter-widgets/base",
            "_view_module_version": "1.2.0",
            "_view_name": "LayoutView",
            "align_content": null,
            "align_items": null,
            "align_self": null,
            "border": null,
            "bottom": null,
            "display": null,
            "flex": null,
            "flex_flow": null,
            "grid_area": null,
            "grid_auto_columns": null,
            "grid_auto_flow": null,
            "grid_auto_rows": null,
            "grid_column": null,
            "grid_gap": null,
            "grid_row": null,
            "grid_template_areas": null,
            "grid_template_columns": null,
            "grid_template_rows": null,
            "height": null,
            "justify_content": null,
            "justify_items": null,
            "left": null,
            "margin": null,
            "max_height": null,
            "max_width": null,
            "min_height": null,
            "min_width": null,
            "object_fit": null,
            "object_position": null,
            "order": null,
            "overflow": null,
            "overflow_x": null,
            "overflow_y": null,
            "padding": null,
            "right": null,
            "top": null,
            "visibility": null,
            "width": null
          }
        },
        "fd8b3f00ae9e425594cc4ae30a8b8531": {
          "model_module": "@jupyter-widgets/controls",
          "model_name": "DescriptionStyleModel",
          "model_module_version": "1.5.0",
          "state": {
            "_model_module": "@jupyter-widgets/controls",
            "_model_module_version": "1.5.0",
            "_model_name": "DescriptionStyleModel",
            "_view_count": null,
            "_view_module": "@jupyter-widgets/base",
            "_view_module_version": "1.2.0",
            "_view_name": "StyleView",
            "description_width": ""
          }
        },
        "90c09ce30bce43cfbb3b2fdc1b0d18b3": {
          "model_module": "@jupyter-widgets/base",
          "model_name": "LayoutModel",
          "model_module_version": "1.2.0",
          "state": {
            "_model_module": "@jupyter-widgets/base",
            "_model_module_version": "1.2.0",
            "_model_name": "LayoutModel",
            "_view_count": null,
            "_view_module": "@jupyter-widgets/base",
            "_view_module_version": "1.2.0",
            "_view_name": "LayoutView",
            "align_content": null,
            "align_items": null,
            "align_self": null,
            "border": null,
            "bottom": null,
            "display": null,
            "flex": null,
            "flex_flow": null,
            "grid_area": null,
            "grid_auto_columns": null,
            "grid_auto_flow": null,
            "grid_auto_rows": null,
            "grid_column": null,
            "grid_gap": null,
            "grid_row": null,
            "grid_template_areas": null,
            "grid_template_columns": null,
            "grid_template_rows": null,
            "height": null,
            "justify_content": null,
            "justify_items": null,
            "left": null,
            "margin": null,
            "max_height": null,
            "max_width": null,
            "min_height": null,
            "min_width": null,
            "object_fit": null,
            "object_position": null,
            "order": null,
            "overflow": null,
            "overflow_x": null,
            "overflow_y": null,
            "padding": null,
            "right": null,
            "top": null,
            "visibility": null,
            "width": null
          }
        },
        "e88351a895b54cb087dc1cd7650f28fb": {
          "model_module": "@jupyter-widgets/controls",
          "model_name": "ProgressStyleModel",
          "model_module_version": "1.5.0",
          "state": {
            "_model_module": "@jupyter-widgets/controls",
            "_model_module_version": "1.5.0",
            "_model_name": "ProgressStyleModel",
            "_view_count": null,
            "_view_module": "@jupyter-widgets/base",
            "_view_module_version": "1.2.0",
            "_view_name": "StyleView",
            "bar_color": null,
            "description_width": ""
          }
        },
        "688c310ce57b49ee8514e5f5cc171253": {
          "model_module": "@jupyter-widgets/base",
          "model_name": "LayoutModel",
          "model_module_version": "1.2.0",
          "state": {
            "_model_module": "@jupyter-widgets/base",
            "_model_module_version": "1.2.0",
            "_model_name": "LayoutModel",
            "_view_count": null,
            "_view_module": "@jupyter-widgets/base",
            "_view_module_version": "1.2.0",
            "_view_name": "LayoutView",
            "align_content": null,
            "align_items": null,
            "align_self": null,
            "border": null,
            "bottom": null,
            "display": null,
            "flex": null,
            "flex_flow": null,
            "grid_area": null,
            "grid_auto_columns": null,
            "grid_auto_flow": null,
            "grid_auto_rows": null,
            "grid_column": null,
            "grid_gap": null,
            "grid_row": null,
            "grid_template_areas": null,
            "grid_template_columns": null,
            "grid_template_rows": null,
            "height": null,
            "justify_content": null,
            "justify_items": null,
            "left": null,
            "margin": null,
            "max_height": null,
            "max_width": null,
            "min_height": null,
            "min_width": null,
            "object_fit": null,
            "object_position": null,
            "order": null,
            "overflow": null,
            "overflow_x": null,
            "overflow_y": null,
            "padding": null,
            "right": null,
            "top": null,
            "visibility": null,
            "width": null
          }
        },
        "c43f8948506945d28dd03d759acd750b": {
          "model_module": "@jupyter-widgets/controls",
          "model_name": "DescriptionStyleModel",
          "model_module_version": "1.5.0",
          "state": {
            "_model_module": "@jupyter-widgets/controls",
            "_model_module_version": "1.5.0",
            "_model_name": "DescriptionStyleModel",
            "_view_count": null,
            "_view_module": "@jupyter-widgets/base",
            "_view_module_version": "1.2.0",
            "_view_name": "StyleView",
            "description_width": ""
          }
        },
        "e960f058a54341038186fee16f5d27d1": {
          "model_module": "@jupyter-widgets/controls",
          "model_name": "HBoxModel",
          "model_module_version": "1.5.0",
          "state": {
            "_dom_classes": [],
            "_model_module": "@jupyter-widgets/controls",
            "_model_module_version": "1.5.0",
            "_model_name": "HBoxModel",
            "_view_count": null,
            "_view_module": "@jupyter-widgets/controls",
            "_view_module_version": "1.5.0",
            "_view_name": "HBoxView",
            "box_style": "",
            "children": [
              "IPY_MODEL_97467631c6b344afbd90162c2b442748",
              "IPY_MODEL_33e9d93171034d359a79fa4fea4a0997",
              "IPY_MODEL_117535e20c5445a1a911cb7e7fc85421"
            ],
            "layout": "IPY_MODEL_e96118e1ace24a818b20e82a27096abd"
          }
        },
        "97467631c6b344afbd90162c2b442748": {
          "model_module": "@jupyter-widgets/controls",
          "model_name": "HTMLModel",
          "model_module_version": "1.5.0",
          "state": {
            "_dom_classes": [],
            "_model_module": "@jupyter-widgets/controls",
            "_model_module_version": "1.5.0",
            "_model_name": "HTMLModel",
            "_view_count": null,
            "_view_module": "@jupyter-widgets/controls",
            "_view_module_version": "1.5.0",
            "_view_name": "HTMLView",
            "description": "",
            "description_tooltip": null,
            "layout": "IPY_MODEL_9cfddefdce87443b9ffa41bf014f1688",
            "placeholder": "​",
            "style": "IPY_MODEL_a59753aea38843c3bcb704c6e8716d0a",
            "value": "config.json: 100%"
          }
        },
        "33e9d93171034d359a79fa4fea4a0997": {
          "model_module": "@jupyter-widgets/controls",
          "model_name": "FloatProgressModel",
          "model_module_version": "1.5.0",
          "state": {
            "_dom_classes": [],
            "_model_module": "@jupyter-widgets/controls",
            "_model_module_version": "1.5.0",
            "_model_name": "FloatProgressModel",
            "_view_count": null,
            "_view_module": "@jupyter-widgets/controls",
            "_view_module_version": "1.5.0",
            "_view_name": "ProgressView",
            "bar_style": "success",
            "description": "",
            "description_tooltip": null,
            "layout": "IPY_MODEL_999808bb28b84aa39a5abff7942bf089",
            "max": 570,
            "min": 0,
            "orientation": "horizontal",
            "style": "IPY_MODEL_bb221b0b44734eaf85e35a2821d66861",
            "value": 570
          }
        },
        "117535e20c5445a1a911cb7e7fc85421": {
          "model_module": "@jupyter-widgets/controls",
          "model_name": "HTMLModel",
          "model_module_version": "1.5.0",
          "state": {
            "_dom_classes": [],
            "_model_module": "@jupyter-widgets/controls",
            "_model_module_version": "1.5.0",
            "_model_name": "HTMLModel",
            "_view_count": null,
            "_view_module": "@jupyter-widgets/controls",
            "_view_module_version": "1.5.0",
            "_view_name": "HTMLView",
            "description": "",
            "description_tooltip": null,
            "layout": "IPY_MODEL_9f72af523efd4db7bb414fb514da450c",
            "placeholder": "​",
            "style": "IPY_MODEL_ae9c17ee40b640b09ea96e3688a3dfcf",
            "value": " 570/570 [00:00&lt;00:00, 51.9kB/s]"
          }
        },
        "e96118e1ace24a818b20e82a27096abd": {
          "model_module": "@jupyter-widgets/base",
          "model_name": "LayoutModel",
          "model_module_version": "1.2.0",
          "state": {
            "_model_module": "@jupyter-widgets/base",
            "_model_module_version": "1.2.0",
            "_model_name": "LayoutModel",
            "_view_count": null,
            "_view_module": "@jupyter-widgets/base",
            "_view_module_version": "1.2.0",
            "_view_name": "LayoutView",
            "align_content": null,
            "align_items": null,
            "align_self": null,
            "border": null,
            "bottom": null,
            "display": null,
            "flex": null,
            "flex_flow": null,
            "grid_area": null,
            "grid_auto_columns": null,
            "grid_auto_flow": null,
            "grid_auto_rows": null,
            "grid_column": null,
            "grid_gap": null,
            "grid_row": null,
            "grid_template_areas": null,
            "grid_template_columns": null,
            "grid_template_rows": null,
            "height": null,
            "justify_content": null,
            "justify_items": null,
            "left": null,
            "margin": null,
            "max_height": null,
            "max_width": null,
            "min_height": null,
            "min_width": null,
            "object_fit": null,
            "object_position": null,
            "order": null,
            "overflow": null,
            "overflow_x": null,
            "overflow_y": null,
            "padding": null,
            "right": null,
            "top": null,
            "visibility": null,
            "width": null
          }
        },
        "9cfddefdce87443b9ffa41bf014f1688": {
          "model_module": "@jupyter-widgets/base",
          "model_name": "LayoutModel",
          "model_module_version": "1.2.0",
          "state": {
            "_model_module": "@jupyter-widgets/base",
            "_model_module_version": "1.2.0",
            "_model_name": "LayoutModel",
            "_view_count": null,
            "_view_module": "@jupyter-widgets/base",
            "_view_module_version": "1.2.0",
            "_view_name": "LayoutView",
            "align_content": null,
            "align_items": null,
            "align_self": null,
            "border": null,
            "bottom": null,
            "display": null,
            "flex": null,
            "flex_flow": null,
            "grid_area": null,
            "grid_auto_columns": null,
            "grid_auto_flow": null,
            "grid_auto_rows": null,
            "grid_column": null,
            "grid_gap": null,
            "grid_row": null,
            "grid_template_areas": null,
            "grid_template_columns": null,
            "grid_template_rows": null,
            "height": null,
            "justify_content": null,
            "justify_items": null,
            "left": null,
            "margin": null,
            "max_height": null,
            "max_width": null,
            "min_height": null,
            "min_width": null,
            "object_fit": null,
            "object_position": null,
            "order": null,
            "overflow": null,
            "overflow_x": null,
            "overflow_y": null,
            "padding": null,
            "right": null,
            "top": null,
            "visibility": null,
            "width": null
          }
        },
        "a59753aea38843c3bcb704c6e8716d0a": {
          "model_module": "@jupyter-widgets/controls",
          "model_name": "DescriptionStyleModel",
          "model_module_version": "1.5.0",
          "state": {
            "_model_module": "@jupyter-widgets/controls",
            "_model_module_version": "1.5.0",
            "_model_name": "DescriptionStyleModel",
            "_view_count": null,
            "_view_module": "@jupyter-widgets/base",
            "_view_module_version": "1.2.0",
            "_view_name": "StyleView",
            "description_width": ""
          }
        },
        "999808bb28b84aa39a5abff7942bf089": {
          "model_module": "@jupyter-widgets/base",
          "model_name": "LayoutModel",
          "model_module_version": "1.2.0",
          "state": {
            "_model_module": "@jupyter-widgets/base",
            "_model_module_version": "1.2.0",
            "_model_name": "LayoutModel",
            "_view_count": null,
            "_view_module": "@jupyter-widgets/base",
            "_view_module_version": "1.2.0",
            "_view_name": "LayoutView",
            "align_content": null,
            "align_items": null,
            "align_self": null,
            "border": null,
            "bottom": null,
            "display": null,
            "flex": null,
            "flex_flow": null,
            "grid_area": null,
            "grid_auto_columns": null,
            "grid_auto_flow": null,
            "grid_auto_rows": null,
            "grid_column": null,
            "grid_gap": null,
            "grid_row": null,
            "grid_template_areas": null,
            "grid_template_columns": null,
            "grid_template_rows": null,
            "height": null,
            "justify_content": null,
            "justify_items": null,
            "left": null,
            "margin": null,
            "max_height": null,
            "max_width": null,
            "min_height": null,
            "min_width": null,
            "object_fit": null,
            "object_position": null,
            "order": null,
            "overflow": null,
            "overflow_x": null,
            "overflow_y": null,
            "padding": null,
            "right": null,
            "top": null,
            "visibility": null,
            "width": null
          }
        },
        "bb221b0b44734eaf85e35a2821d66861": {
          "model_module": "@jupyter-widgets/controls",
          "model_name": "ProgressStyleModel",
          "model_module_version": "1.5.0",
          "state": {
            "_model_module": "@jupyter-widgets/controls",
            "_model_module_version": "1.5.0",
            "_model_name": "ProgressStyleModel",
            "_view_count": null,
            "_view_module": "@jupyter-widgets/base",
            "_view_module_version": "1.2.0",
            "_view_name": "StyleView",
            "bar_color": null,
            "description_width": ""
          }
        },
        "9f72af523efd4db7bb414fb514da450c": {
          "model_module": "@jupyter-widgets/base",
          "model_name": "LayoutModel",
          "model_module_version": "1.2.0",
          "state": {
            "_model_module": "@jupyter-widgets/base",
            "_model_module_version": "1.2.0",
            "_model_name": "LayoutModel",
            "_view_count": null,
            "_view_module": "@jupyter-widgets/base",
            "_view_module_version": "1.2.0",
            "_view_name": "LayoutView",
            "align_content": null,
            "align_items": null,
            "align_self": null,
            "border": null,
            "bottom": null,
            "display": null,
            "flex": null,
            "flex_flow": null,
            "grid_area": null,
            "grid_auto_columns": null,
            "grid_auto_flow": null,
            "grid_auto_rows": null,
            "grid_column": null,
            "grid_gap": null,
            "grid_row": null,
            "grid_template_areas": null,
            "grid_template_columns": null,
            "grid_template_rows": null,
            "height": null,
            "justify_content": null,
            "justify_items": null,
            "left": null,
            "margin": null,
            "max_height": null,
            "max_width": null,
            "min_height": null,
            "min_width": null,
            "object_fit": null,
            "object_position": null,
            "order": null,
            "overflow": null,
            "overflow_x": null,
            "overflow_y": null,
            "padding": null,
            "right": null,
            "top": null,
            "visibility": null,
            "width": null
          }
        },
        "ae9c17ee40b640b09ea96e3688a3dfcf": {
          "model_module": "@jupyter-widgets/controls",
          "model_name": "DescriptionStyleModel",
          "model_module_version": "1.5.0",
          "state": {
            "_model_module": "@jupyter-widgets/controls",
            "_model_module_version": "1.5.0",
            "_model_name": "DescriptionStyleModel",
            "_view_count": null,
            "_view_module": "@jupyter-widgets/base",
            "_view_module_version": "1.2.0",
            "_view_name": "StyleView",
            "description_width": ""
          }
        },
        "dff641cd484749f1b96fa18d65146ca6": {
          "model_module": "@jupyter-widgets/controls",
          "model_name": "HBoxModel",
          "model_module_version": "1.5.0",
          "state": {
            "_dom_classes": [],
            "_model_module": "@jupyter-widgets/controls",
            "_model_module_version": "1.5.0",
            "_model_name": "HBoxModel",
            "_view_count": null,
            "_view_module": "@jupyter-widgets/controls",
            "_view_module_version": "1.5.0",
            "_view_name": "HBoxView",
            "box_style": "",
            "children": [
              "IPY_MODEL_e5301e09d2be45a3a9c5fdaa9743e29c",
              "IPY_MODEL_2d74855f3c9344e78b987e96dc10e574",
              "IPY_MODEL_5dacaae59c8a45c694a650a685974eca"
            ],
            "layout": "IPY_MODEL_340bfcc19fd34104912f16f0101a8536"
          }
        },
        "e5301e09d2be45a3a9c5fdaa9743e29c": {
          "model_module": "@jupyter-widgets/controls",
          "model_name": "HTMLModel",
          "model_module_version": "1.5.0",
          "state": {
            "_dom_classes": [],
            "_model_module": "@jupyter-widgets/controls",
            "_model_module_version": "1.5.0",
            "_model_name": "HTMLModel",
            "_view_count": null,
            "_view_module": "@jupyter-widgets/controls",
            "_view_module_version": "1.5.0",
            "_view_name": "HTMLView",
            "description": "",
            "description_tooltip": null,
            "layout": "IPY_MODEL_3af60ea280dc469abf5204ed2a0cf757",
            "placeholder": "​",
            "style": "IPY_MODEL_c82bb3bdc72c436d9f31f6ca8746e735",
            "value": "model.safetensors: 100%"
          }
        },
        "2d74855f3c9344e78b987e96dc10e574": {
          "model_module": "@jupyter-widgets/controls",
          "model_name": "FloatProgressModel",
          "model_module_version": "1.5.0",
          "state": {
            "_dom_classes": [],
            "_model_module": "@jupyter-widgets/controls",
            "_model_module_version": "1.5.0",
            "_model_name": "FloatProgressModel",
            "_view_count": null,
            "_view_module": "@jupyter-widgets/controls",
            "_view_module_version": "1.5.0",
            "_view_name": "ProgressView",
            "bar_style": "success",
            "description": "",
            "description_tooltip": null,
            "layout": "IPY_MODEL_7ee87ddff6994414a1a6cd4fc93f75e0",
            "max": 440449768,
            "min": 0,
            "orientation": "horizontal",
            "style": "IPY_MODEL_151ea789c9534427a559949c82713030",
            "value": 440449768
          }
        },
        "5dacaae59c8a45c694a650a685974eca": {
          "model_module": "@jupyter-widgets/controls",
          "model_name": "HTMLModel",
          "model_module_version": "1.5.0",
          "state": {
            "_dom_classes": [],
            "_model_module": "@jupyter-widgets/controls",
            "_model_module_version": "1.5.0",
            "_model_name": "HTMLModel",
            "_view_count": null,
            "_view_module": "@jupyter-widgets/controls",
            "_view_module_version": "1.5.0",
            "_view_name": "HTMLView",
            "description": "",
            "description_tooltip": null,
            "layout": "IPY_MODEL_aef93e5d5b2548e0a923ca46f5e573cd",
            "placeholder": "​",
            "style": "IPY_MODEL_b29e1cf7946e42fcb56482b4f2bdc408",
            "value": " 440M/440M [00:02&lt;00:00, 195MB/s]"
          }
        },
        "340bfcc19fd34104912f16f0101a8536": {
          "model_module": "@jupyter-widgets/base",
          "model_name": "LayoutModel",
          "model_module_version": "1.2.0",
          "state": {
            "_model_module": "@jupyter-widgets/base",
            "_model_module_version": "1.2.0",
            "_model_name": "LayoutModel",
            "_view_count": null,
            "_view_module": "@jupyter-widgets/base",
            "_view_module_version": "1.2.0",
            "_view_name": "LayoutView",
            "align_content": null,
            "align_items": null,
            "align_self": null,
            "border": null,
            "bottom": null,
            "display": null,
            "flex": null,
            "flex_flow": null,
            "grid_area": null,
            "grid_auto_columns": null,
            "grid_auto_flow": null,
            "grid_auto_rows": null,
            "grid_column": null,
            "grid_gap": null,
            "grid_row": null,
            "grid_template_areas": null,
            "grid_template_columns": null,
            "grid_template_rows": null,
            "height": null,
            "justify_content": null,
            "justify_items": null,
            "left": null,
            "margin": null,
            "max_height": null,
            "max_width": null,
            "min_height": null,
            "min_width": null,
            "object_fit": null,
            "object_position": null,
            "order": null,
            "overflow": null,
            "overflow_x": null,
            "overflow_y": null,
            "padding": null,
            "right": null,
            "top": null,
            "visibility": null,
            "width": null
          }
        },
        "3af60ea280dc469abf5204ed2a0cf757": {
          "model_module": "@jupyter-widgets/base",
          "model_name": "LayoutModel",
          "model_module_version": "1.2.0",
          "state": {
            "_model_module": "@jupyter-widgets/base",
            "_model_module_version": "1.2.0",
            "_model_name": "LayoutModel",
            "_view_count": null,
            "_view_module": "@jupyter-widgets/base",
            "_view_module_version": "1.2.0",
            "_view_name": "LayoutView",
            "align_content": null,
            "align_items": null,
            "align_self": null,
            "border": null,
            "bottom": null,
            "display": null,
            "flex": null,
            "flex_flow": null,
            "grid_area": null,
            "grid_auto_columns": null,
            "grid_auto_flow": null,
            "grid_auto_rows": null,
            "grid_column": null,
            "grid_gap": null,
            "grid_row": null,
            "grid_template_areas": null,
            "grid_template_columns": null,
            "grid_template_rows": null,
            "height": null,
            "justify_content": null,
            "justify_items": null,
            "left": null,
            "margin": null,
            "max_height": null,
            "max_width": null,
            "min_height": null,
            "min_width": null,
            "object_fit": null,
            "object_position": null,
            "order": null,
            "overflow": null,
            "overflow_x": null,
            "overflow_y": null,
            "padding": null,
            "right": null,
            "top": null,
            "visibility": null,
            "width": null
          }
        },
        "c82bb3bdc72c436d9f31f6ca8746e735": {
          "model_module": "@jupyter-widgets/controls",
          "model_name": "DescriptionStyleModel",
          "model_module_version": "1.5.0",
          "state": {
            "_model_module": "@jupyter-widgets/controls",
            "_model_module_version": "1.5.0",
            "_model_name": "DescriptionStyleModel",
            "_view_count": null,
            "_view_module": "@jupyter-widgets/base",
            "_view_module_version": "1.2.0",
            "_view_name": "StyleView",
            "description_width": ""
          }
        },
        "7ee87ddff6994414a1a6cd4fc93f75e0": {
          "model_module": "@jupyter-widgets/base",
          "model_name": "LayoutModel",
          "model_module_version": "1.2.0",
          "state": {
            "_model_module": "@jupyter-widgets/base",
            "_model_module_version": "1.2.0",
            "_model_name": "LayoutModel",
            "_view_count": null,
            "_view_module": "@jupyter-widgets/base",
            "_view_module_version": "1.2.0",
            "_view_name": "LayoutView",
            "align_content": null,
            "align_items": null,
            "align_self": null,
            "border": null,
            "bottom": null,
            "display": null,
            "flex": null,
            "flex_flow": null,
            "grid_area": null,
            "grid_auto_columns": null,
            "grid_auto_flow": null,
            "grid_auto_rows": null,
            "grid_column": null,
            "grid_gap": null,
            "grid_row": null,
            "grid_template_areas": null,
            "grid_template_columns": null,
            "grid_template_rows": null,
            "height": null,
            "justify_content": null,
            "justify_items": null,
            "left": null,
            "margin": null,
            "max_height": null,
            "max_width": null,
            "min_height": null,
            "min_width": null,
            "object_fit": null,
            "object_position": null,
            "order": null,
            "overflow": null,
            "overflow_x": null,
            "overflow_y": null,
            "padding": null,
            "right": null,
            "top": null,
            "visibility": null,
            "width": null
          }
        },
        "151ea789c9534427a559949c82713030": {
          "model_module": "@jupyter-widgets/controls",
          "model_name": "ProgressStyleModel",
          "model_module_version": "1.5.0",
          "state": {
            "_model_module": "@jupyter-widgets/controls",
            "_model_module_version": "1.5.0",
            "_model_name": "ProgressStyleModel",
            "_view_count": null,
            "_view_module": "@jupyter-widgets/base",
            "_view_module_version": "1.2.0",
            "_view_name": "StyleView",
            "bar_color": null,
            "description_width": ""
          }
        },
        "aef93e5d5b2548e0a923ca46f5e573cd": {
          "model_module": "@jupyter-widgets/base",
          "model_name": "LayoutModel",
          "model_module_version": "1.2.0",
          "state": {
            "_model_module": "@jupyter-widgets/base",
            "_model_module_version": "1.2.0",
            "_model_name": "LayoutModel",
            "_view_count": null,
            "_view_module": "@jupyter-widgets/base",
            "_view_module_version": "1.2.0",
            "_view_name": "LayoutView",
            "align_content": null,
            "align_items": null,
            "align_self": null,
            "border": null,
            "bottom": null,
            "display": null,
            "flex": null,
            "flex_flow": null,
            "grid_area": null,
            "grid_auto_columns": null,
            "grid_auto_flow": null,
            "grid_auto_rows": null,
            "grid_column": null,
            "grid_gap": null,
            "grid_row": null,
            "grid_template_areas": null,
            "grid_template_columns": null,
            "grid_template_rows": null,
            "height": null,
            "justify_content": null,
            "justify_items": null,
            "left": null,
            "margin": null,
            "max_height": null,
            "max_width": null,
            "min_height": null,
            "min_width": null,
            "object_fit": null,
            "object_position": null,
            "order": null,
            "overflow": null,
            "overflow_x": null,
            "overflow_y": null,
            "padding": null,
            "right": null,
            "top": null,
            "visibility": null,
            "width": null
          }
        },
        "b29e1cf7946e42fcb56482b4f2bdc408": {
          "model_module": "@jupyter-widgets/controls",
          "model_name": "DescriptionStyleModel",
          "model_module_version": "1.5.0",
          "state": {
            "_model_module": "@jupyter-widgets/controls",
            "_model_module_version": "1.5.0",
            "_model_name": "DescriptionStyleModel",
            "_view_count": null,
            "_view_module": "@jupyter-widgets/base",
            "_view_module_version": "1.2.0",
            "_view_name": "StyleView",
            "description_width": ""
          }
        }
      }
    }
  },
  "cells": [
    {
      "cell_type": "markdown",
      "metadata": {
        "id": "view-in-github",
        "colab_type": "text"
      },
      "source": [
        "<a href=\"https://colab.research.google.com/github/saisampaththumati-datascientists/NLP-natural_learning_language-/blob/main/NLP_Problem.ipynb\" target=\"_parent\"><img src=\"https://colab.research.google.com/assets/colab-badge.svg\" alt=\"Open In Colab\"/></a>"
      ]
    },
    {
      "cell_type": "code",
      "execution_count": null,
      "metadata": {
        "id": "p7dcTqcHECfL"
      },
      "outputs": [],
      "source": [
        "import pandas as pd\n",
        "import numpy as np\n",
        "import torch\n",
        "import seaborn as sns\n",
        "from sklearn import metrics\n",
        "from sklearn.model_selection import train_test_split\n",
        "from sklearn.preprocessing import LabelEncoder\n",
        "import matplotlib.pyplot as plt\n",
        "import tensorflow as tf\n",
        "from tensorflow import keras\n",
        "# importing the re text prepossing\n",
        "import re\n",
        "from transformers import BarthezTokenizer, TFBartForSequenceClassification,BertTokenizer,TFBertForSequenceClassification"
      ]
    },
    {
      "cell_type": "code",
      "source": [
        "df= pd.read_csv(\"/content/Articles (2).csv\")\n",
        "df.head()"
      ],
      "metadata": {
        "colab": {
          "base_uri": "https://localhost:8080/",
          "height": 206
        },
        "id": "Ij2CBMWNQ4HO",
        "outputId": "5a180585-fe8b-41a7-cc66-fa8168815cad"
      },
      "execution_count": null,
      "outputs": [
        {
          "output_type": "execute_result",
          "data": {
            "text/plain": [
              "        Date published  Category    Section  \\\n",
              "0  2021-07-15 02:46:59      news      world   \n",
              "1  2021-05-12 07:52:09      news      world   \n",
              "2  2021-06-16 02:51:30      news       asia   \n",
              "3  2022-03-15 09:57:36  business  investing   \n",
              "4  2022-03-15 11:27:02  business   business   \n",
              "\n",
              "                                            Headline  \\\n",
              "0  There's a shortage of truckers, but TuSimple t...   \n",
              "1  Bioservo's robotic 'Ironhand' could protect fa...   \n",
              "2  This swarm of robots gets smarter the more it ...   \n",
              "3  Russia is no longer an option for investors. T...   \n",
              "4  Russian energy investment ban part of new EU s...   \n",
              "\n",
              "                                         Description  \\\n",
              "0  The e-commerce boom has exacerbated a global t...   \n",
              "1  Working in a factory can mean doing the same t...   \n",
              "2  In a Hong Kong warehouse, a swarm of autonomou...   \n",
              "3  For many years, the world's most popular emerg...   \n",
              "4  The European Union formally approved on Tuesda...   \n",
              "\n",
              "                                            Keywords  \\\n",
              "0  world, There's a shortage of truckers, but TuS...   \n",
              "1  world, Bioservo's robotic 'Ironhand' could pro...   \n",
              "2  asia, This swarm of robots gets smarter the mo...   \n",
              "3  investing, Russia is no longer an option for i...   \n",
              "4  business, Russian energy investment ban part o...   \n",
              "\n",
              "                                        Article text  \n",
              "0   (CNN)Right now, there's a shortage of truck d...  \n",
              "1   (CNN)Working in a factory or warehouse can me...  \n",
              "2   (CNN)In a Hong Kong warehouse, a swarm of aut...  \n",
              "3  New York (CNN Business)For many years, the wor...  \n",
              "4  The European Union formally approved on Tuesda...  "
            ],
            "text/html": [
              "\n",
              "  <div id=\"df-06f9829f-1566-49ff-a55f-1503cff0ffc0\" class=\"colab-df-container\">\n",
              "    <div>\n",
              "<style scoped>\n",
              "    .dataframe tbody tr th:only-of-type {\n",
              "        vertical-align: middle;\n",
              "    }\n",
              "\n",
              "    .dataframe tbody tr th {\n",
              "        vertical-align: top;\n",
              "    }\n",
              "\n",
              "    .dataframe thead th {\n",
              "        text-align: right;\n",
              "    }\n",
              "</style>\n",
              "<table border=\"1\" class=\"dataframe\">\n",
              "  <thead>\n",
              "    <tr style=\"text-align: right;\">\n",
              "      <th></th>\n",
              "      <th>Date published</th>\n",
              "      <th>Category</th>\n",
              "      <th>Section</th>\n",
              "      <th>Headline</th>\n",
              "      <th>Description</th>\n",
              "      <th>Keywords</th>\n",
              "      <th>Article text</th>\n",
              "    </tr>\n",
              "  </thead>\n",
              "  <tbody>\n",
              "    <tr>\n",
              "      <th>0</th>\n",
              "      <td>2021-07-15 02:46:59</td>\n",
              "      <td>news</td>\n",
              "      <td>world</td>\n",
              "      <td>There's a shortage of truckers, but TuSimple t...</td>\n",
              "      <td>The e-commerce boom has exacerbated a global t...</td>\n",
              "      <td>world, There's a shortage of truckers, but TuS...</td>\n",
              "      <td>(CNN)Right now, there's a shortage of truck d...</td>\n",
              "    </tr>\n",
              "    <tr>\n",
              "      <th>1</th>\n",
              "      <td>2021-05-12 07:52:09</td>\n",
              "      <td>news</td>\n",
              "      <td>world</td>\n",
              "      <td>Bioservo's robotic 'Ironhand' could protect fa...</td>\n",
              "      <td>Working in a factory can mean doing the same t...</td>\n",
              "      <td>world, Bioservo's robotic 'Ironhand' could pro...</td>\n",
              "      <td>(CNN)Working in a factory or warehouse can me...</td>\n",
              "    </tr>\n",
              "    <tr>\n",
              "      <th>2</th>\n",
              "      <td>2021-06-16 02:51:30</td>\n",
              "      <td>news</td>\n",
              "      <td>asia</td>\n",
              "      <td>This swarm of robots gets smarter the more it ...</td>\n",
              "      <td>In a Hong Kong warehouse, a swarm of autonomou...</td>\n",
              "      <td>asia, This swarm of robots gets smarter the mo...</td>\n",
              "      <td>(CNN)In a Hong Kong warehouse, a swarm of aut...</td>\n",
              "    </tr>\n",
              "    <tr>\n",
              "      <th>3</th>\n",
              "      <td>2022-03-15 09:57:36</td>\n",
              "      <td>business</td>\n",
              "      <td>investing</td>\n",
              "      <td>Russia is no longer an option for investors. T...</td>\n",
              "      <td>For many years, the world's most popular emerg...</td>\n",
              "      <td>investing, Russia is no longer an option for i...</td>\n",
              "      <td>New York (CNN Business)For many years, the wor...</td>\n",
              "    </tr>\n",
              "    <tr>\n",
              "      <th>4</th>\n",
              "      <td>2022-03-15 11:27:02</td>\n",
              "      <td>business</td>\n",
              "      <td>business</td>\n",
              "      <td>Russian energy investment ban part of new EU s...</td>\n",
              "      <td>The European Union formally approved on Tuesda...</td>\n",
              "      <td>business, Russian energy investment ban part o...</td>\n",
              "      <td>The European Union formally approved on Tuesda...</td>\n",
              "    </tr>\n",
              "  </tbody>\n",
              "</table>\n",
              "</div>\n",
              "    <div class=\"colab-df-buttons\">\n",
              "\n",
              "  <div class=\"colab-df-container\">\n",
              "    <button class=\"colab-df-convert\" onclick=\"convertToInteractive('df-06f9829f-1566-49ff-a55f-1503cff0ffc0')\"\n",
              "            title=\"Convert this dataframe to an interactive table.\"\n",
              "            style=\"display:none;\">\n",
              "\n",
              "  <svg xmlns=\"http://www.w3.org/2000/svg\" height=\"24px\" viewBox=\"0 -960 960 960\">\n",
              "    <path d=\"M120-120v-720h720v720H120Zm60-500h600v-160H180v160Zm220 220h160v-160H400v160Zm0 220h160v-160H400v160ZM180-400h160v-160H180v160Zm440 0h160v-160H620v160ZM180-180h160v-160H180v160Zm440 0h160v-160H620v160Z\"/>\n",
              "  </svg>\n",
              "    </button>\n",
              "\n",
              "  <style>\n",
              "    .colab-df-container {\n",
              "      display:flex;\n",
              "      gap: 12px;\n",
              "    }\n",
              "\n",
              "    .colab-df-convert {\n",
              "      background-color: #E8F0FE;\n",
              "      border: none;\n",
              "      border-radius: 50%;\n",
              "      cursor: pointer;\n",
              "      display: none;\n",
              "      fill: #1967D2;\n",
              "      height: 32px;\n",
              "      padding: 0 0 0 0;\n",
              "      width: 32px;\n",
              "    }\n",
              "\n",
              "    .colab-df-convert:hover {\n",
              "      background-color: #E2EBFA;\n",
              "      box-shadow: 0px 1px 2px rgba(60, 64, 67, 0.3), 0px 1px 3px 1px rgba(60, 64, 67, 0.15);\n",
              "      fill: #174EA6;\n",
              "    }\n",
              "\n",
              "    .colab-df-buttons div {\n",
              "      margin-bottom: 4px;\n",
              "    }\n",
              "\n",
              "    [theme=dark] .colab-df-convert {\n",
              "      background-color: #3B4455;\n",
              "      fill: #D2E3FC;\n",
              "    }\n",
              "\n",
              "    [theme=dark] .colab-df-convert:hover {\n",
              "      background-color: #434B5C;\n",
              "      box-shadow: 0px 1px 3px 1px rgba(0, 0, 0, 0.15);\n",
              "      filter: drop-shadow(0px 1px 2px rgba(0, 0, 0, 0.3));\n",
              "      fill: #FFFFFF;\n",
              "    }\n",
              "  </style>\n",
              "\n",
              "    <script>\n",
              "      const buttonEl =\n",
              "        document.querySelector('#df-06f9829f-1566-49ff-a55f-1503cff0ffc0 button.colab-df-convert');\n",
              "      buttonEl.style.display =\n",
              "        google.colab.kernel.accessAllowed ? 'block' : 'none';\n",
              "\n",
              "      async function convertToInteractive(key) {\n",
              "        const element = document.querySelector('#df-06f9829f-1566-49ff-a55f-1503cff0ffc0');\n",
              "        const dataTable =\n",
              "          await google.colab.kernel.invokeFunction('convertToInteractive',\n",
              "                                                    [key], {});\n",
              "        if (!dataTable) return;\n",
              "\n",
              "        const docLinkHtml = 'Like what you see? Visit the ' +\n",
              "          '<a target=\"_blank\" href=https://colab.research.google.com/notebooks/data_table.ipynb>data table notebook</a>'\n",
              "          + ' to learn more about interactive tables.';\n",
              "        element.innerHTML = '';\n",
              "        dataTable['output_type'] = 'display_data';\n",
              "        await google.colab.output.renderOutput(dataTable, element);\n",
              "        const docLink = document.createElement('div');\n",
              "        docLink.innerHTML = docLinkHtml;\n",
              "        element.appendChild(docLink);\n",
              "      }\n",
              "    </script>\n",
              "  </div>\n",
              "\n",
              "\n",
              "<div id=\"df-1bead7d9-440c-41ce-9b73-a81edd97e9ac\">\n",
              "  <button class=\"colab-df-quickchart\" onclick=\"quickchart('df-1bead7d9-440c-41ce-9b73-a81edd97e9ac')\"\n",
              "            title=\"Suggest charts\"\n",
              "            style=\"display:none;\">\n",
              "\n",
              "<svg xmlns=\"http://www.w3.org/2000/svg\" height=\"24px\"viewBox=\"0 0 24 24\"\n",
              "     width=\"24px\">\n",
              "    <g>\n",
              "        <path d=\"M19 3H5c-1.1 0-2 .9-2 2v14c0 1.1.9 2 2 2h14c1.1 0 2-.9 2-2V5c0-1.1-.9-2-2-2zM9 17H7v-7h2v7zm4 0h-2V7h2v10zm4 0h-2v-4h2v4z\"/>\n",
              "    </g>\n",
              "</svg>\n",
              "  </button>\n",
              "\n",
              "<style>\n",
              "  .colab-df-quickchart {\n",
              "      --bg-color: #E8F0FE;\n",
              "      --fill-color: #1967D2;\n",
              "      --hover-bg-color: #E2EBFA;\n",
              "      --hover-fill-color: #174EA6;\n",
              "      --disabled-fill-color: #AAA;\n",
              "      --disabled-bg-color: #DDD;\n",
              "  }\n",
              "\n",
              "  [theme=dark] .colab-df-quickchart {\n",
              "      --bg-color: #3B4455;\n",
              "      --fill-color: #D2E3FC;\n",
              "      --hover-bg-color: #434B5C;\n",
              "      --hover-fill-color: #FFFFFF;\n",
              "      --disabled-bg-color: #3B4455;\n",
              "      --disabled-fill-color: #666;\n",
              "  }\n",
              "\n",
              "  .colab-df-quickchart {\n",
              "    background-color: var(--bg-color);\n",
              "    border: none;\n",
              "    border-radius: 50%;\n",
              "    cursor: pointer;\n",
              "    display: none;\n",
              "    fill: var(--fill-color);\n",
              "    height: 32px;\n",
              "    padding: 0;\n",
              "    width: 32px;\n",
              "  }\n",
              "\n",
              "  .colab-df-quickchart:hover {\n",
              "    background-color: var(--hover-bg-color);\n",
              "    box-shadow: 0 1px 2px rgba(60, 64, 67, 0.3), 0 1px 3px 1px rgba(60, 64, 67, 0.15);\n",
              "    fill: var(--button-hover-fill-color);\n",
              "  }\n",
              "\n",
              "  .colab-df-quickchart-complete:disabled,\n",
              "  .colab-df-quickchart-complete:disabled:hover {\n",
              "    background-color: var(--disabled-bg-color);\n",
              "    fill: var(--disabled-fill-color);\n",
              "    box-shadow: none;\n",
              "  }\n",
              "\n",
              "  .colab-df-spinner {\n",
              "    border: 2px solid var(--fill-color);\n",
              "    border-color: transparent;\n",
              "    border-bottom-color: var(--fill-color);\n",
              "    animation:\n",
              "      spin 1s steps(1) infinite;\n",
              "  }\n",
              "\n",
              "  @keyframes spin {\n",
              "    0% {\n",
              "      border-color: transparent;\n",
              "      border-bottom-color: var(--fill-color);\n",
              "      border-left-color: var(--fill-color);\n",
              "    }\n",
              "    20% {\n",
              "      border-color: transparent;\n",
              "      border-left-color: var(--fill-color);\n",
              "      border-top-color: var(--fill-color);\n",
              "    }\n",
              "    30% {\n",
              "      border-color: transparent;\n",
              "      border-left-color: var(--fill-color);\n",
              "      border-top-color: var(--fill-color);\n",
              "      border-right-color: var(--fill-color);\n",
              "    }\n",
              "    40% {\n",
              "      border-color: transparent;\n",
              "      border-right-color: var(--fill-color);\n",
              "      border-top-color: var(--fill-color);\n",
              "    }\n",
              "    60% {\n",
              "      border-color: transparent;\n",
              "      border-right-color: var(--fill-color);\n",
              "    }\n",
              "    80% {\n",
              "      border-color: transparent;\n",
              "      border-right-color: var(--fill-color);\n",
              "      border-bottom-color: var(--fill-color);\n",
              "    }\n",
              "    90% {\n",
              "      border-color: transparent;\n",
              "      border-bottom-color: var(--fill-color);\n",
              "    }\n",
              "  }\n",
              "</style>\n",
              "\n",
              "  <script>\n",
              "    async function quickchart(key) {\n",
              "      const quickchartButtonEl =\n",
              "        document.querySelector('#' + key + ' button');\n",
              "      quickchartButtonEl.disabled = true;  // To prevent multiple clicks.\n",
              "      quickchartButtonEl.classList.add('colab-df-spinner');\n",
              "      try {\n",
              "        const charts = await google.colab.kernel.invokeFunction(\n",
              "            'suggestCharts', [key], {});\n",
              "      } catch (error) {\n",
              "        console.error('Error during call to suggestCharts:', error);\n",
              "      }\n",
              "      quickchartButtonEl.classList.remove('colab-df-spinner');\n",
              "      quickchartButtonEl.classList.add('colab-df-quickchart-complete');\n",
              "    }\n",
              "    (() => {\n",
              "      let quickchartButtonEl =\n",
              "        document.querySelector('#df-1bead7d9-440c-41ce-9b73-a81edd97e9ac button');\n",
              "      quickchartButtonEl.style.display =\n",
              "        google.colab.kernel.accessAllowed ? 'block' : 'none';\n",
              "    })();\n",
              "  </script>\n",
              "</div>\n",
              "\n",
              "    </div>\n",
              "  </div>\n"
            ],
            "application/vnd.google.colaboratory.intrinsic+json": {
              "type": "dataframe",
              "variable_name": "df",
              "summary": "{\n  \"name\": \"df\",\n  \"rows\": 4076,\n  \"fields\": [\n    {\n      \"column\": \"Date published\",\n      \"properties\": {\n        \"dtype\": \"object\",\n        \"num_unique_values\": 4076,\n        \"samples\": [\n          \"2021-05-27 01:05:30\",\n          \"2021-06-22 09:55:02\",\n          \"2021-11-30 09:30:47\"\n        ],\n        \"semantic_type\": \"\",\n        \"description\": \"\"\n      }\n    },\n    {\n      \"column\": \"Category\",\n      \"properties\": {\n        \"dtype\": \"category\",\n        \"num_unique_values\": 6,\n        \"samples\": [\n          \"news\",\n          \"business\",\n          \"politics\"\n        ],\n        \"semantic_type\": \"\",\n        \"description\": \"\"\n      }\n    },\n    {\n      \"column\": \"Section\",\n      \"properties\": {\n        \"dtype\": \"category\",\n        \"num_unique_values\": 37,\n        \"samples\": [\n          \"tennis\",\n          \"golf\",\n          \"media\"\n        ],\n        \"semantic_type\": \"\",\n        \"description\": \"\"\n      }\n    },\n    {\n      \"column\": \"Headline\",\n      \"properties\": {\n        \"dtype\": \"string\",\n        \"num_unique_values\": 4071,\n        \"samples\": [\n          \"Why Francis and Benedict won't answer the accusations dividing their church - CNN\",\n          \"Arizona audit funding cloaked in secrecy - CNNPolitics\",\n          \"Peng Shuai: Chinese tennis star denies making sexual assault allegation against Zhang Gaoli, but WTA concerns persist - CNN\"\n        ],\n        \"semantic_type\": \"\",\n        \"description\": \"\"\n      }\n    },\n    {\n      \"column\": \"Description\",\n      \"properties\": {\n        \"dtype\": \"string\",\n        \"num_unique_values\": 4069,\n        \"samples\": [\n          \"The Brooklyn Nets extended their winning streak to five games with a 116-103 victory over the Toronto Raptors on Sunday.\",\n          \"A Saudi Arabian-backed takeover of Newcastle United has been agreed, the Premier League and the club announced on Thursday.\",\n          \"Olympic champion sprinter Yohan Blake of Jamaica said he would rather miss the Tokyo Games than get the Covid-19 vaccine, although getting vaccinated will not be required of the athletes competing there this summer.\"\n        ],\n        \"semantic_type\": \"\",\n        \"description\": \"\"\n      }\n    },\n    {\n      \"column\": \"Keywords\",\n      \"properties\": {\n        \"dtype\": \"string\",\n        \"num_unique_values\": 4071,\n        \"samples\": [\n          \"europe, Why Francis and Benedict won't answer the accusations dividing their church - CNN\",\n          \"politics, Arizona audit funding cloaked in secrecy - CNNPolitics\",\n          \"tennis, Peng Shuai: Chinese tennis star denies making sexual assault allegation against Zhang Gaoli, but WTA concerns persist - CNN\"\n        ],\n        \"semantic_type\": \"\",\n        \"description\": \"\"\n      }\n    },\n    {\n      \"column\": \"Article text\",\n      \"properties\": {\n        \"dtype\": \"string\",\n        \"num_unique_values\": 4075,\n        \"samples\": [\n          \" (CNN)The European Union has a China problem. The bloc, for financial and strategic reasons, wants to build strong economic ties with Beijing that bolster Brussels' desire to be a serious player on the world stage as the leading light of Western values.The problem is, doing so in any serious way means turning a blind eye to China's well-documented human rights violations.For much of the past decade, the world's largest trading bloc has gone out of its way to establish an economic partnership with Beijing that doesn't conflict too aggressively with Brussels' lofty values. The EU was criticized from both in and outside the bloc when it announced last December the conclusion in principle of negotiations with the Chinese government on its \\\"Comprehensive Agreement on Investment\\\" (CAI).  According to EU Commission President Ursula von der Leyen, the agreement, if ratified, \\\"will provide unprecedented access to the Chinese market,\\\" while also committing \\\"China to ambitious principles on sustainability, transparency and non-discrimination.\\\" Any agreement like this needs to be approved by the EU's 27 member states and ratified by the European parliament.  Read MorePrecisely how bound China would be to any of the EU's redlines was an immediate cause for concern. \\\"The deal makes statements about human rights and forced labor, but there is no way of forcing China to do anything,\\\" says Samira Rafaela, a member of the EU parliament who sits on the international trade committee.Queen Elizabeth visits UK's largest warship, as it set sails for South China SeaMany of Rafaela's colleagues across the political spectrum clearly agree. Last week, the parliament voted on a motion to freeze the CAI until further notice. Ostensibly, this was in protest at China placing sanctions on five MEPs who had criticized China's treatment of Muslim Uyghurs in Xinjiang among other things.  However, in reality the sanctions were really the final straw for some who couldn't stomach Brussels striking a friendly deal with a government in Beijing that allegedly imprisons people in forced labor camps, undermines democracy in Hong Kong and is increasingly hostile in its own region.  \\\"The statement we are sending with this motion isn't simply, if China lifts the sanctions then CAI is back on the table,\\\" says Reinhard B\\u00fctikofer, chair of the parliament's delegation on China relations. \\\"If sanctions are lifted, we will look at the detail, but it's currently far from satisfactory. It's weak on forced labor, weak on sustainability, weak on dispute resolutions. These problems will still exist even if we resurrect the agreement.\\\"  Given the chances of China lifting these sanctions any time soon is virtually zero, this creates a problem for the top brass in the EU Commission, who have invested a lot of political capital in the deal.   For the EU's increasingly political executive branch, China formed a key part of its plan to become a bigger player on the global stage and become diplomatically independent of its most important ally: the United States. \\\"Strategic autonomy,\\\" as Brussels calls it, has been a priority for EU officials who are concerned about Europe's inherent vulnerabilities, be they from Russian aggression in the east, over-reliance on China for medical supplies or the risk of another president like Donald Trump pulling American troops out of Europe.  \\\"The China agreement was a big plank in that strategy,\\\" says Steven Blockmans, director of research at the Centre for European Policy Studies. \\\"If the Chinese and European parliament don't move, the EU risks losing a deal that would have cemented the idea it can make decisions to defend its own commercial interests, without having to call the White House first.\\\" Despite the European parliament's protests, the commission still thinks the deal is right for the EU. Officials who spoke with CNN explained that they understood the parliament's concerns and that the political conditions didn't exist at the moment. One official even lauded the parliament's action, saying it provided proof that \\\"economic interests will not prevent the EU from standing up for human rights.\\\" However, they also said this was a rare window of opportunity to get China committing to something on paper, and that window could run out for political reasons -- most notably after upcoming elections in France and Germany, the two member states most supportive of the deal.  It's at member state level that the apparent split between parliament and commission gets interesting. It's been known for some time that locking in some kind of formal relationship with China was a big priority for Angela Merkel as she tries to nail down her legacy. The German Chancellor will stand down after 16 years in power this autumn, as Germany holds federal elections.  Chinese Premier Li Keqiang (R) and German Chancellor Angela Merkel attend a joint news conference at the Great Hall of the People in Beijing on May 24, 2018. As things stand, it's likely that Merkel's party -- no longer with a leader who holds as much political capital as her -- will have to enter a coalition with the anti-Beijing Greens. This could significantly soften German support for the deal.  The other key sponsor of the deal was French President Emmanuel Macron, a man who also faces re-election next year. The fact that Macron's biggest rival is far-right Marine Le Pen has led some to think he might, in the coming months, cool on globalist policies.  As for the other member states, diplomats who spoke to CNN pointed out that the CAI is not a full trade deal and that there was no urgent need to rush anything through. As one diplomat put it, \\\"there is an awakening in Europe about the real character of its relationship with China and governments don't like it. This will be parked for a while is my guess.\\\" The commission remains convinced that its political capital was well spent and that member states will ultimately choose their economies over other priorities. \\\"Even if leadership changes, the economic reality in Germany and France isn't going to change, and economics has a habit of trumping other concerns,\\\" the diplomat said.   Philippe Lamberts, a senior Belgian MEP, disagrees: \\\"I think EU-China relations are going to get worse before they get better. Even if they lift their sanctions, what message does it send on European values if we agree a deal with such weak provisions on human rights, democracy and sustainability?\\\"  The EU's record on human rights, critics argue, is already patchy. While last week the European parliament did stand up to both China and Turkey -- calling for the suspension of talks with Ankara to join the bloc over its own human rights record -- campaigners say that the EU is not doing enough to uphold its own standards on human records inside or outside the bloc.  Chinese President Xi Jinping and French Emmanuel Macron (taste wine as they visit France's pavilion during the China International Import Expo in Shanghai on November 5, 2019.\\\"Trade and investment are an area where economic interests have always prevailed over respect for human rights, as much as security concerns have always prevailed in migration management,\\\" says Elena Crespi, program officer for Western Europe at the International Federation for Human Rights.  And while the parliament has a good track record on human rights, awarding its Sakharov Prize for Freedom of Thought to an imprisoned Uyghur scholar in 2019, critics believe the commission falls short in comparison.  \\\"The current commission is not sufficiently doing its job in upholding European values,\\\" says Alice Stollmeyer, executive director of Defend Democracy. \\\"Whether it's fudging on rule of law in Hungary and Poland or failing to properly speak out against atrocities elsewhere, the EU sadly seems to have a policy of appeasement for abusers.\\\" It's no secret that the EU is in a transitional phase. Those at the center of the project see a future of closer union and its officials in Brussels becoming serious players on the world stage in their own right.  If a balanced relationship with China was indeed central to this, the current mood among elected politicians across the member states will be of serious concern to the Brussels elite.  Perhaps more worrying, Blockmans points out, is whether China reassesses how much it wants a deal with the bloc. \\\"It might be that China still sees the EU as a secondary player -- a lackey to the US. If that's that case, they might decide that this is a deal worth collapsing for their own political ends.\\\"  Regardless, the point is moot while Europe's political class refuses to even look at this deal. The longer this deadlock on sanctions goes on, the greater the chance it totally collapses. And it if does, those at the top table in Brussels might regret investing so much political capital in dealing with one of the world's worst human rights offenders.  \",\n          \" (CNN)Senegal and Liverpool football star Sadio Mane has donated $693,000 (\\u00a3500,000) to help fund the construction of a hospital in his hometown of Bambali in Senegal. The village, about 400 kilometers outside the capital city Dakar, did not previously have a hospital. Mane met with Senegalese President Macky Sall earlier this month to discuss the project, which will include departments for maternity care, dental facilities and consulting rooms. Le footballeur Sadio Man\\u00e9 a \\u00e9t\\u00e9 re\\u00e7u cet apr\\u00e8s-midi par le Pr\\u00e9sident @Macky_Sall. L'attaquant de Liverpool a pr\\u00e9sent\\u00e9 au Chef de l'Etat un ambitieux projet de construction d'un h\\u00f4pital \\u00e0 Bambali et compte sur l'accompagnement de l'Etat pour le personnel m\\u00e9dical. pic.twitter.com/aPBwtY8Iz7\\u2014 Pr\\u00e9sidence S\\u00e9n\\u00e9gal (@PR_Senegal) June 10, 2021\\n\\n\\\"The Liverpool striker has presented the Head of State with an ambitious plan to build a hospital in Bambali and is counting on state support for medical personnel,\\\" the official account for the presidency tweeted in June. Mane also shared his enthusiasm for the project, tweeting: \\\"Very honored by the audience that the Head of State, His Excellency @Macky_Sall granted me. A good time to discuss football but also our social projects.\\\" Read MoreIn 2019, Mane donated close to $350,000 (\\u00a3250,000) to build a school in Bambali. The year before he also gifted 300 Liverpool shirts to his home village so that residents could wear them during the Champions League final.  READ: Samuel Eto'o is celebrated for much more than football in his hometownThe Reds forward, who recently scored goals for his national team in friendly matches against Zambia and Cape Verde, will be back in action for the start of Liverpool's pre-season on July 12. \",\n          \" (CNN)The 2021 Atlantic hurricane season, just like the 2020 season, was one for the record books -- but for different reasons. The biggest similarity was the high number of named storms. The 2021 season became only the third in history to use all of the names on the rotating seasonal list (the previous years were 2020 and 2005).We ended the season with 21 named storms, 7 hurricanes, and 4 major hurricanes (Category 3 or higher). During an average year there would be 14 named storms, 7 hurricanes, and 3 major hurricanes. This year met or exceeded each of those categories, and it was forecast to be that way. The Atlantic hurricane season runs from June 1 to November 30.There were four major hurricanes this season: Grace, Ida, Larry, and Sam. The strongest two were Ida and Sam, which both reached Category 4 strength. Grace and Larry peaked as Category 3 storms. The first half of the season was off to the races -- as the US was impacted by eight named storms: Claudette, Danny, Elsa, Fred, Henri, Ida, Mindy, and Nicholas.Read MoreThen, suddenly, the world's oceans became eerily quiet. After September 25 the Atlantic and the rest of the world would struggle to produce a named storm.That was not what meteorologists expected.\\\"The globe has had no major (Category 3+, max winds >=111 mph) hurricane/typhoon/cyclone formations since September 25. All other hurricane seasons in the satellite era (since 1966) have had at least two global major hurricane formations between September 26 - November 19,\\\" Phil Klotzbach, a research scientist at Colorado State University, said in a tweet.  Both last year and this year La Ni\\u00f1a conditions were observed during the last several weeks of the season, which typically favors late season tropical activity. 2020 saw three named storms in November (Eta, Theta, and Iota) and 2021 saw just one (Wanda) during the first few days.How this hurricane season ended marks one of the biggest differences between this year and last.Klotzbach explained that usually La Ni\\u00f1a weakens or limits vertical wind shear, but surprisingly there was quite elevated wind shear in the Caribbean in October and November -- the focal region for storms late in the season -- and that led to a quiet latter part of the 2021 Atlantic hurricane season.NOAA predicts 6th consecutive above-average hurricane seasonWhile an active season was predicted, it's impossible to know in advance exactly where each storm will go and what kind of damage it may cause. A \\\"bad\\\" season is all about perspective. Central American countries may consider this to have been a \\\"good\\\" year since not a single named storm hit any part of the region. In 2020, Central America was hit by three named storms, two of which were major hurricanes. In the US, the state of Louisiana can't seem to catch a break. In 2020, the Pelican State was impacted by five named storms: Cristobal, Laura, Marco, Delta and Zeta. This year the state was impacted by three named storms: Claudette, Ida and Nicholas.In 2020 more hurricanes made landfall in the US, but this year the storms cost over $20 billion more. Billions in damageWhile only one major hurricane made landfall across the US (Ida), a total of four named storms left behind over $1 billion in damage each: Tropical Storm Elsa, Tropical Storm Fred, Hurricane Ida, and Hurricane Nicholas.Ida alone exceeded the cost in damage of all seven billion-dollar tropical cyclones that made landfall across the US in 2020, including hurricanes like Laura, Delta, and Zeta.\\\"To date, Hurricane Ida is the costliest disaster this year -- exceeding $60 billion,\\\" according to the National Oceanic and Atmospheric Administration. \\\"Ida already ranks among the top-five most costly hurricanes on record for the US since 1980.\\\"JUST WATCHEDThis Louisiana family lost their mom in Hurricane Ida. Here's why they aren't going anywhereReplayMore Videos ...MUST WATCHThis Louisiana family lost their mom in Hurricane Ida. Here's why they aren't going anywhere 03:28Ida was the strongest Atlantic hurricane of the year to make landfall with maximum sustained winds of 150 mph when it struck near Port Fourchon, Louisiana, on August 29. It was one of only three hurricanes to ever make landfall in the state of Louisiana with winds of 150 mph, the most recent being Laura from 2020. Photos: Ida's remnants wreak havoc in the EastThe stadium for the Somerset Patriots, a minor-league baseball team in Bridgewater Township, New Jersey, is partially flooded by overflow from the Raritan River on Thursday, September 2.Hide Caption 1 of 24 Photos: Ida's remnants wreak havoc in the EastA man wades through floodwaters in Manville, New Jersey, on September 2.Hide Caption 2 of 24 Photos: Ida's remnants wreak havoc in the EastCommuters walk into a flooded subway station in New York City on September 2.Hide Caption 3 of 24 Photos: Ida's remnants wreak havoc in the EastFirst responders rescue people who were trapped by floodwaters in Mamaroneck, New York, on September 2.Hide Caption 4 of 24 Photos: Ida's remnants wreak havoc in the EastA building in Queens, New York, is damaged on September 2.Hide Caption 5 of 24 Photos: Ida's remnants wreak havoc in the EastA person walks in floodwaters in Philadelphia on September 2.Hide Caption 6 of 24 Photos: Ida's remnants wreak havoc in the EastA United Automatic Fire Sprinkler employee helps clean up on September 2 after the business flooded in Woodland Park, New Jersey.Hide Caption 7 of 24 Photos: Ida's remnants wreak havoc in the EastA motorist drives on a flooded expressway in Brooklyn, New York, early on September 2, as the remnants of Hurricane Ida swept through the area.Hide Caption 8 of 24 Photos: Ida's remnants wreak havoc in the EastPeople stand inside a subway station in New York City as water runs past their feet on Wednesday, September 1.Hide Caption 9 of 24 Photos: Ida's remnants wreak havoc in the EastMembers of the New York City Fire Department rescue a woman from her stalled car on September 1.Hide Caption 10 of 24 Photos: Ida's remnants wreak havoc in the EastMembers of the Weldon Fire Company walk through floodwaters in Dresher, Pennsylvania, on September 1.Hide Caption 11 of 24 Photos: Ida's remnants wreak havoc in the EastPeople navigate heavy rains and flooded walkways at the Billie Jean King National Tennis Center in New York City on September 1.Hide Caption 12 of 24 Photos: Ida's remnants wreak havoc in the EastWorkers clear a road from flooding in Bridgeville, Pennsylvania, on September 1.Hide Caption 13 of 24 Photos: Ida's remnants wreak havoc in the EastSergio Rossi, owner of Sergio Tailoring, covers flood-damaged clothing at his shop in Oakdale, Pennsylvania, on September 1.Hide Caption 14 of 24 Photos: Ida's remnants wreak havoc in the EastA downed tree blocks a road in Plymouth Meeting, Pennsylvania, on September 1.Hide Caption 15 of 24 Photos: Ida's remnants wreak havoc in the EastA tennis fan covers herself from rain as she attends a match at the US Open in New York on September 1. A second-round singles match between Kevin Anderson and Diego Schwartzman was halted early in the second set as water came through multiple openings of the roof on Louis Armstrong Stadium. The match was moved to the Arthur Ashe Stadium and completed just after 1 a.m. Thursday.Hide Caption 16 of 24 Photos: Ida's remnants wreak havoc in the EastMembers of the Oakdale Fire Department clear debris from their station after heavy rains in Oakdale, Pennsylvania, on September 1.Hide Caption 17 of 24 Photos: Ida's remnants wreak havoc in the EastRaindrops are illuminated by a camera flash near the US Capitol as Ida's remnants pass over Washington, DC, on September 1.Hide Caption 18 of 24 Photos: Ida's remnants wreak havoc in the EastA worker surveys damage in Annapolis, Maryland, on September 1.Hide Caption 19 of 24 Photos: Ida's remnants wreak havoc in the EastDebris litters a park in Oakdale, Pennsylvania, on September 1.Hide Caption 20 of 24 Photos: Ida's remnants wreak havoc in the EastA man walks his dog in Camp Hill, Pennsylvania, on September 1.Hide Caption 21 of 24 Photos: Ida's remnants wreak havoc in the EastA house sits above floodwaters in Glenshaw, Pennsylvania, on September 1.Hide Caption 22 of 24 Photos: Ida's remnants wreak havoc in the EastWater is pumped from the basement of a business in Oakdale, Pennsylvania, during cleanup on September 1.Hide Caption 23 of 24 Photos: Ida's remnants wreak havoc in the EastPeople walk through heavy rain in New York's Times Square on September 1.Hide Caption 24 of 24\\\"Grand Isle, Louisiana took a direct hit with 100% of its homes damaged and nearly 40% were nearly-to-completely destroyed,\\\" according to NOAA. \\\"There was heavy damage to the energy infrastructure across southern Louisiana causing widespread, long duration power outages to millions of people.\\\"In the following days the remnants of Ida moved to the Northeast and combined with a frontal system, delivering extreme rainfall rates and flash flooding, inundating streets, homes and neighborhoods.Flash flood emergencies were declared in New Jersey and New York. At least 55 people died across New York, New Jersey, Connecticut, Maryland, Pennsylvania and Virginia.This season's quirksThe strongest storm of the season didn't hit land but video was captured from inside it.Hurricane Sam, like Ida, also reached Category 4 strength with maximum sustained winds of 150 mph. Sam remained a Category 4 hurricane for 4.5 days and generated the fifth-highest accumulated cyclone energy (ACE) recorded in the satellite era.\\\"ACE is integrated metric accounting for storm intensity and duration,\\\" Klotzbach tweeted. \\\"Sam was a long-lived, intense hurricane.\\\"Fortunately, unlike Ida, Sam remained out over the open waters of the Atlantic and never made landfall.Sam's long life, of over 11 days as a hurricane, allowed a research drone to be sailed into it, and, for the first time, to transmit video from inside a major hurricane at ocean level.JUST WATCHEDWatch how Hurricane Sam was filmed like never beforeReplayMore Videos ...MUST WATCHWatch how Hurricane Sam was filmed like never before 02:27A couple of other storms made some meteorological records.Tropical Storm Ana formed in a unique area of the Atlantic Ocean. In the last 100 years, no named storm had ever developed east of Bermuda in the month of May. Tropical Storm Ana broke that record. Typically, storms during this month form over the eastern Gulf of Mexico, western Caribbean Sea and near the southeastern US coast.Another unique storm was Subtropical Storm Teresa. Reports of subtropical storms are not uncommon, especially in the 21st century, thanks to advanced technology. What is uncommon is for a storm to remain subtropical for its entire life, never transitioning to \\\"tropical\\\" status. Teresa was also extremely short-lived, at only 24 hours. Subtropical Storm Teresa formed on Friday, September 24, at 5 p.m. Atlantic Standard Time. Exactly 24 hours later, the NHC issued its final advisory as Teresa became a remnant, low-pressure system. Ida will likely be the only name on the retired list this year, despite there being three other major hurricanes, simply because of the amount of damage and fatalities caused. The letter \\\"I\\\" already has more retired names than any other letter in the alphabet. There are already 12 retired storm names that start with the letter \\\"I\\\", and Ida will likely become the 13th.\"\n        ],\n        \"semantic_type\": \"\",\n        \"description\": \"\"\n      }\n    }\n  ]\n}"
            }
          },
          "metadata": {},
          "execution_count": 7
        }
      ]
    },
    {
      "cell_type": "code",
      "source": [
        "df.info()"
      ],
      "metadata": {
        "colab": {
          "base_uri": "https://localhost:8080/"
        },
        "id": "jEIYCMQhRH0s",
        "outputId": "98d1d576-d5e9-4185-a55b-246e5920614a"
      },
      "execution_count": null,
      "outputs": [
        {
          "output_type": "stream",
          "name": "stdout",
          "text": [
            "<class 'pandas.core.frame.DataFrame'>\n",
            "RangeIndex: 4076 entries, 0 to 4075\n",
            "Data columns (total 7 columns):\n",
            " #   Column          Non-Null Count  Dtype \n",
            "---  ------          --------------  ----- \n",
            " 0   Date published  4076 non-null   object\n",
            " 1   Category        4076 non-null   object\n",
            " 2   Section         4076 non-null   object\n",
            " 3   Headline        4076 non-null   object\n",
            " 4   Description     4076 non-null   object\n",
            " 5   Keywords        4076 non-null   object\n",
            " 6   Article text    4076 non-null   object\n",
            "dtypes: object(7)\n",
            "memory usage: 223.0+ KB\n"
          ]
        }
      ]
    },
    {
      "cell_type": "code",
      "source": [
        "df.describe()"
      ],
      "metadata": {
        "colab": {
          "base_uri": "https://localhost:8080/",
          "height": 174
        },
        "id": "yJhk21C5Sz7m",
        "outputId": "4c7d28e1-a80f-4b51-af88-b75881ce5dd2"
      },
      "execution_count": null,
      "outputs": [
        {
          "output_type": "execute_result",
          "data": {
            "text/plain": [
              "             Date published Category Section  \\\n",
              "count                  4076     4076    4076   \n",
              "unique                 4076        6      37   \n",
              "top     2021-12-01 14:32:33    sport   sport   \n",
              "freq                      1     2176    1088   \n",
              "\n",
              "                                                 Headline  \\\n",
              "count                                                4076   \n",
              "unique                                               4071   \n",
              "top     Here's who won gold medals at the Tokyo Olympi...   \n",
              "freq                                                    2   \n",
              "\n",
              "                                              Description  \\\n",
              "count                                                4076   \n",
              "unique                                               4069   \n",
              "top     Austria's Chancellor Sebastian Kurz said in a ...   \n",
              "freq                                                    2   \n",
              "\n",
              "                                                 Keywords  \\\n",
              "count                                                4076   \n",
              "unique                                               4071   \n",
              "top     sport, Here's who won gold medals at the Tokyo...   \n",
              "freq                                                    2   \n",
              "\n",
              "                                             Article text  \n",
              "count                                                4076  \n",
              "unique                                               4075  \n",
              "top      (CNN)It has been delayed by a year, but that ...  \n",
              "freq                                                    2  "
            ],
            "text/html": [
              "\n",
              "  <div id=\"df-ed6b0837-efae-40c8-86a2-70f69397327d\" class=\"colab-df-container\">\n",
              "    <div>\n",
              "<style scoped>\n",
              "    .dataframe tbody tr th:only-of-type {\n",
              "        vertical-align: middle;\n",
              "    }\n",
              "\n",
              "    .dataframe tbody tr th {\n",
              "        vertical-align: top;\n",
              "    }\n",
              "\n",
              "    .dataframe thead th {\n",
              "        text-align: right;\n",
              "    }\n",
              "</style>\n",
              "<table border=\"1\" class=\"dataframe\">\n",
              "  <thead>\n",
              "    <tr style=\"text-align: right;\">\n",
              "      <th></th>\n",
              "      <th>Date published</th>\n",
              "      <th>Category</th>\n",
              "      <th>Section</th>\n",
              "      <th>Headline</th>\n",
              "      <th>Description</th>\n",
              "      <th>Keywords</th>\n",
              "      <th>Article text</th>\n",
              "    </tr>\n",
              "  </thead>\n",
              "  <tbody>\n",
              "    <tr>\n",
              "      <th>count</th>\n",
              "      <td>4076</td>\n",
              "      <td>4076</td>\n",
              "      <td>4076</td>\n",
              "      <td>4076</td>\n",
              "      <td>4076</td>\n",
              "      <td>4076</td>\n",
              "      <td>4076</td>\n",
              "    </tr>\n",
              "    <tr>\n",
              "      <th>unique</th>\n",
              "      <td>4076</td>\n",
              "      <td>6</td>\n",
              "      <td>37</td>\n",
              "      <td>4071</td>\n",
              "      <td>4069</td>\n",
              "      <td>4071</td>\n",
              "      <td>4075</td>\n",
              "    </tr>\n",
              "    <tr>\n",
              "      <th>top</th>\n",
              "      <td>2021-12-01 14:32:33</td>\n",
              "      <td>sport</td>\n",
              "      <td>sport</td>\n",
              "      <td>Here's who won gold medals at the Tokyo Olympi...</td>\n",
              "      <td>Austria's Chancellor Sebastian Kurz said in a ...</td>\n",
              "      <td>sport, Here's who won gold medals at the Tokyo...</td>\n",
              "      <td>(CNN)It has been delayed by a year, but that ...</td>\n",
              "    </tr>\n",
              "    <tr>\n",
              "      <th>freq</th>\n",
              "      <td>1</td>\n",
              "      <td>2176</td>\n",
              "      <td>1088</td>\n",
              "      <td>2</td>\n",
              "      <td>2</td>\n",
              "      <td>2</td>\n",
              "      <td>2</td>\n",
              "    </tr>\n",
              "  </tbody>\n",
              "</table>\n",
              "</div>\n",
              "    <div class=\"colab-df-buttons\">\n",
              "\n",
              "  <div class=\"colab-df-container\">\n",
              "    <button class=\"colab-df-convert\" onclick=\"convertToInteractive('df-ed6b0837-efae-40c8-86a2-70f69397327d')\"\n",
              "            title=\"Convert this dataframe to an interactive table.\"\n",
              "            style=\"display:none;\">\n",
              "\n",
              "  <svg xmlns=\"http://www.w3.org/2000/svg\" height=\"24px\" viewBox=\"0 -960 960 960\">\n",
              "    <path d=\"M120-120v-720h720v720H120Zm60-500h600v-160H180v160Zm220 220h160v-160H400v160Zm0 220h160v-160H400v160ZM180-400h160v-160H180v160Zm440 0h160v-160H620v160ZM180-180h160v-160H180v160Zm440 0h160v-160H620v160Z\"/>\n",
              "  </svg>\n",
              "    </button>\n",
              "\n",
              "  <style>\n",
              "    .colab-df-container {\n",
              "      display:flex;\n",
              "      gap: 12px;\n",
              "    }\n",
              "\n",
              "    .colab-df-convert {\n",
              "      background-color: #E8F0FE;\n",
              "      border: none;\n",
              "      border-radius: 50%;\n",
              "      cursor: pointer;\n",
              "      display: none;\n",
              "      fill: #1967D2;\n",
              "      height: 32px;\n",
              "      padding: 0 0 0 0;\n",
              "      width: 32px;\n",
              "    }\n",
              "\n",
              "    .colab-df-convert:hover {\n",
              "      background-color: #E2EBFA;\n",
              "      box-shadow: 0px 1px 2px rgba(60, 64, 67, 0.3), 0px 1px 3px 1px rgba(60, 64, 67, 0.15);\n",
              "      fill: #174EA6;\n",
              "    }\n",
              "\n",
              "    .colab-df-buttons div {\n",
              "      margin-bottom: 4px;\n",
              "    }\n",
              "\n",
              "    [theme=dark] .colab-df-convert {\n",
              "      background-color: #3B4455;\n",
              "      fill: #D2E3FC;\n",
              "    }\n",
              "\n",
              "    [theme=dark] .colab-df-convert:hover {\n",
              "      background-color: #434B5C;\n",
              "      box-shadow: 0px 1px 3px 1px rgba(0, 0, 0, 0.15);\n",
              "      filter: drop-shadow(0px 1px 2px rgba(0, 0, 0, 0.3));\n",
              "      fill: #FFFFFF;\n",
              "    }\n",
              "  </style>\n",
              "\n",
              "    <script>\n",
              "      const buttonEl =\n",
              "        document.querySelector('#df-ed6b0837-efae-40c8-86a2-70f69397327d button.colab-df-convert');\n",
              "      buttonEl.style.display =\n",
              "        google.colab.kernel.accessAllowed ? 'block' : 'none';\n",
              "\n",
              "      async function convertToInteractive(key) {\n",
              "        const element = document.querySelector('#df-ed6b0837-efae-40c8-86a2-70f69397327d');\n",
              "        const dataTable =\n",
              "          await google.colab.kernel.invokeFunction('convertToInteractive',\n",
              "                                                    [key], {});\n",
              "        if (!dataTable) return;\n",
              "\n",
              "        const docLinkHtml = 'Like what you see? Visit the ' +\n",
              "          '<a target=\"_blank\" href=https://colab.research.google.com/notebooks/data_table.ipynb>data table notebook</a>'\n",
              "          + ' to learn more about interactive tables.';\n",
              "        element.innerHTML = '';\n",
              "        dataTable['output_type'] = 'display_data';\n",
              "        await google.colab.output.renderOutput(dataTable, element);\n",
              "        const docLink = document.createElement('div');\n",
              "        docLink.innerHTML = docLinkHtml;\n",
              "        element.appendChild(docLink);\n",
              "      }\n",
              "    </script>\n",
              "  </div>\n",
              "\n",
              "\n",
              "<div id=\"df-42e8f0f5-015e-48b9-9878-e6a3c772fcea\">\n",
              "  <button class=\"colab-df-quickchart\" onclick=\"quickchart('df-42e8f0f5-015e-48b9-9878-e6a3c772fcea')\"\n",
              "            title=\"Suggest charts\"\n",
              "            style=\"display:none;\">\n",
              "\n",
              "<svg xmlns=\"http://www.w3.org/2000/svg\" height=\"24px\"viewBox=\"0 0 24 24\"\n",
              "     width=\"24px\">\n",
              "    <g>\n",
              "        <path d=\"M19 3H5c-1.1 0-2 .9-2 2v14c0 1.1.9 2 2 2h14c1.1 0 2-.9 2-2V5c0-1.1-.9-2-2-2zM9 17H7v-7h2v7zm4 0h-2V7h2v10zm4 0h-2v-4h2v4z\"/>\n",
              "    </g>\n",
              "</svg>\n",
              "  </button>\n",
              "\n",
              "<style>\n",
              "  .colab-df-quickchart {\n",
              "      --bg-color: #E8F0FE;\n",
              "      --fill-color: #1967D2;\n",
              "      --hover-bg-color: #E2EBFA;\n",
              "      --hover-fill-color: #174EA6;\n",
              "      --disabled-fill-color: #AAA;\n",
              "      --disabled-bg-color: #DDD;\n",
              "  }\n",
              "\n",
              "  [theme=dark] .colab-df-quickchart {\n",
              "      --bg-color: #3B4455;\n",
              "      --fill-color: #D2E3FC;\n",
              "      --hover-bg-color: #434B5C;\n",
              "      --hover-fill-color: #FFFFFF;\n",
              "      --disabled-bg-color: #3B4455;\n",
              "      --disabled-fill-color: #666;\n",
              "  }\n",
              "\n",
              "  .colab-df-quickchart {\n",
              "    background-color: var(--bg-color);\n",
              "    border: none;\n",
              "    border-radius: 50%;\n",
              "    cursor: pointer;\n",
              "    display: none;\n",
              "    fill: var(--fill-color);\n",
              "    height: 32px;\n",
              "    padding: 0;\n",
              "    width: 32px;\n",
              "  }\n",
              "\n",
              "  .colab-df-quickchart:hover {\n",
              "    background-color: var(--hover-bg-color);\n",
              "    box-shadow: 0 1px 2px rgba(60, 64, 67, 0.3), 0 1px 3px 1px rgba(60, 64, 67, 0.15);\n",
              "    fill: var(--button-hover-fill-color);\n",
              "  }\n",
              "\n",
              "  .colab-df-quickchart-complete:disabled,\n",
              "  .colab-df-quickchart-complete:disabled:hover {\n",
              "    background-color: var(--disabled-bg-color);\n",
              "    fill: var(--disabled-fill-color);\n",
              "    box-shadow: none;\n",
              "  }\n",
              "\n",
              "  .colab-df-spinner {\n",
              "    border: 2px solid var(--fill-color);\n",
              "    border-color: transparent;\n",
              "    border-bottom-color: var(--fill-color);\n",
              "    animation:\n",
              "      spin 1s steps(1) infinite;\n",
              "  }\n",
              "\n",
              "  @keyframes spin {\n",
              "    0% {\n",
              "      border-color: transparent;\n",
              "      border-bottom-color: var(--fill-color);\n",
              "      border-left-color: var(--fill-color);\n",
              "    }\n",
              "    20% {\n",
              "      border-color: transparent;\n",
              "      border-left-color: var(--fill-color);\n",
              "      border-top-color: var(--fill-color);\n",
              "    }\n",
              "    30% {\n",
              "      border-color: transparent;\n",
              "      border-left-color: var(--fill-color);\n",
              "      border-top-color: var(--fill-color);\n",
              "      border-right-color: var(--fill-color);\n",
              "    }\n",
              "    40% {\n",
              "      border-color: transparent;\n",
              "      border-right-color: var(--fill-color);\n",
              "      border-top-color: var(--fill-color);\n",
              "    }\n",
              "    60% {\n",
              "      border-color: transparent;\n",
              "      border-right-color: var(--fill-color);\n",
              "    }\n",
              "    80% {\n",
              "      border-color: transparent;\n",
              "      border-right-color: var(--fill-color);\n",
              "      border-bottom-color: var(--fill-color);\n",
              "    }\n",
              "    90% {\n",
              "      border-color: transparent;\n",
              "      border-bottom-color: var(--fill-color);\n",
              "    }\n",
              "  }\n",
              "</style>\n",
              "\n",
              "  <script>\n",
              "    async function quickchart(key) {\n",
              "      const quickchartButtonEl =\n",
              "        document.querySelector('#' + key + ' button');\n",
              "      quickchartButtonEl.disabled = true;  // To prevent multiple clicks.\n",
              "      quickchartButtonEl.classList.add('colab-df-spinner');\n",
              "      try {\n",
              "        const charts = await google.colab.kernel.invokeFunction(\n",
              "            'suggestCharts', [key], {});\n",
              "      } catch (error) {\n",
              "        console.error('Error during call to suggestCharts:', error);\n",
              "      }\n",
              "      quickchartButtonEl.classList.remove('colab-df-spinner');\n",
              "      quickchartButtonEl.classList.add('colab-df-quickchart-complete');\n",
              "    }\n",
              "    (() => {\n",
              "      let quickchartButtonEl =\n",
              "        document.querySelector('#df-42e8f0f5-015e-48b9-9878-e6a3c772fcea button');\n",
              "      quickchartButtonEl.style.display =\n",
              "        google.colab.kernel.accessAllowed ? 'block' : 'none';\n",
              "    })();\n",
              "  </script>\n",
              "</div>\n",
              "\n",
              "    </div>\n",
              "  </div>\n"
            ],
            "application/vnd.google.colaboratory.intrinsic+json": {
              "type": "dataframe",
              "summary": "{\n  \"name\": \"df\",\n  \"rows\": 4,\n  \"fields\": [\n    {\n      \"column\": \"Date published\",\n      \"properties\": {\n        \"dtype\": \"date\",\n        \"min\": \"1970-01-01 00:00:00.000000001\",\n        \"max\": \"2021-12-01 14:32:33\",\n        \"num_unique_values\": 3,\n        \"samples\": [\n          \"4076\",\n          \"2021-12-01 14:32:33\",\n          \"1\"\n        ],\n        \"semantic_type\": \"\",\n        \"description\": \"\"\n      }\n    },\n    {\n      \"column\": \"Category\",\n      \"properties\": {\n        \"dtype\": \"string\",\n        \"num_unique_values\": 4,\n        \"samples\": [\n          6,\n          \"2176\",\n          \"4076\"\n        ],\n        \"semantic_type\": \"\",\n        \"description\": \"\"\n      }\n    },\n    {\n      \"column\": \"Section\",\n      \"properties\": {\n        \"dtype\": \"string\",\n        \"num_unique_values\": 4,\n        \"samples\": [\n          37,\n          \"1088\",\n          \"4076\"\n        ],\n        \"semantic_type\": \"\",\n        \"description\": \"\"\n      }\n    },\n    {\n      \"column\": \"Headline\",\n      \"properties\": {\n        \"dtype\": \"string\",\n        \"num_unique_values\": 4,\n        \"samples\": [\n          4071,\n          \"2\",\n          \"4076\"\n        ],\n        \"semantic_type\": \"\",\n        \"description\": \"\"\n      }\n    },\n    {\n      \"column\": \"Description\",\n      \"properties\": {\n        \"dtype\": \"string\",\n        \"num_unique_values\": 4,\n        \"samples\": [\n          4069,\n          \"2\",\n          \"4076\"\n        ],\n        \"semantic_type\": \"\",\n        \"description\": \"\"\n      }\n    },\n    {\n      \"column\": \"Keywords\",\n      \"properties\": {\n        \"dtype\": \"string\",\n        \"num_unique_values\": 4,\n        \"samples\": [\n          4071,\n          \"2\",\n          \"4076\"\n        ],\n        \"semantic_type\": \"\",\n        \"description\": \"\"\n      }\n    },\n    {\n      \"column\": \"Article text\",\n      \"properties\": {\n        \"dtype\": \"string\",\n        \"num_unique_values\": 4,\n        \"samples\": [\n          4075,\n          \"2\",\n          \"4076\"\n        ],\n        \"semantic_type\": \"\",\n        \"description\": \"\"\n      }\n    }\n  ]\n}"
            }
          },
          "metadata": {},
          "execution_count": 9
        }
      ]
    },
    {
      "cell_type": "code",
      "source": [
        "df.loc[3,\"Article text\"]"
      ],
      "metadata": {
        "colab": {
          "base_uri": "https://localhost:8080/",
          "height": 105
        },
        "id": "ETY2AxG3S2LA",
        "outputId": "ffd5131a-bfe1-43a5-bcab-f8b9caef1546"
      },
      "execution_count": null,
      "outputs": [
        {
          "output_type": "execute_result",
          "data": {
            "text/plain": [
              "'New York (CNN Business)For many years, the world\\'s most popular emerging markets have been the so-called BRICS: Brazil, Russia, India, China and South Africa.But given that Russia is no longer a market that Westerners can access following the invasion of Ukraine, it might be time for investors to stop lumping all of the emerging markets together.\"The BRICS had their day in the sun and that has faded,\" said Eric Winograd, senior economist at AllianceBernstein.Several major US index providers have removed Russian stocks from indexes at a price of \"zero\" or \"effectively zero.\" Trading shares of several leading US-listed Russian companies, such as search engine Yandex and telecom MTS, have been halted. And the Moscow Stock Exchange has been closed since February 25, the day after the invasion.Russia could default on its debt within days\"The idea that a country as large as Russia can be removed from indexes is a big deal,\" Winograd said.Read MoreIt seems likely that Russia will not be included in top emerging markets funds anytime soon. Even for those Westerners still willing to invest in Russian assets, it\\'s not clear what comes next.\"Some investors are asking about exposure to Russia in emerging markets funds. With indexes starting to exclude Russia, it\\'s still a wait-and-see game,\" said Mychal Campos, head of investing at Betterment.For investors looking to get exposure to emerging markets, Winograd said, each country should be looked at individually.\"The name of the game will be differentiation. Don\\'t invest in emerging markets based on an acronym,\" Winograd said. \"It\\'s always strange to say that Argentina and South Korea are the same thing, for example. They\\'re not.\" Forget the BRICS and look at TICKS or MIST?To stick with the acronyms, the shutdown of the Russian stock market has essentially turned the BRICS into the BICS — and that could be a permanent change, said Rahul Sen Sharma, managing partner with Indxx, a global index provider. \"Will investors ever embrace Russia again? If there is no liquidity, it\\'s a moot point. But it\\'s also hard to believe that people will rush into Russia anytime soon,\" Sen Sharma told CNN Business.Sen Sharma said some investors may start to look at other emerging markets to replace Russia, such as Taiwan and South Korea. The BRICS could become the TICKS. He added that Poland, Turkey and Mexico are intriguing, as are the Philippines and Indonesia. You could dub Mexico, Indonesia, South Korea and Turkey the MIST markets. \"People love their acronyms,\" Sen Sharma joked.Of course, any emerging market in Europe — think Poland —  is inherently risky because of how close it is geographically to Russia and Ukraine. So other Central and Eastern European nations may be a hard sell for Western investors.War in Ukraine has sparked a scramble for dollarsOther experts argue that investors are looking more at individual companies in emerging markets and less at the countries themselves.\"A typical investor sees emerging markets as a class of stocks. It\\'s a piece of a portfolio,\" said Callie Cox, US investment analyst at eToro.\"The emerging markets landscape has been changing for awhile,\" Cox added, noting that many investors have been skeptical of Russia since its annexation of Crimea in 2014. \"There has been more anxiety.\"'"
            ],
            "application/vnd.google.colaboratory.intrinsic+json": {
              "type": "string"
            }
          },
          "metadata": {},
          "execution_count": 10
        }
      ]
    },
    {
      "cell_type": "code",
      "source": [
        " # function to create labeled barplots\n",
        "\n",
        "def labeled_barplot(data, feature, perc=False, n=None):\n",
        "    \"\"\"\n",
        "    Barplot with percentage at the top\n",
        "\n",
        "    data: dataframe\n",
        "    feature: dataframe column\n",
        "    perc: whether to display percentages instead of count (default is False)\n",
        "    n: displays the top n category levels (default is None, i.e., display all levels)\n",
        "    \"\"\"\n",
        "\n",
        "    total = len(data[feature])  # length of the column\n",
        "    count = data[feature].nunique()\n",
        "    if n is None:\n",
        "        plt.figure(figsize=(count + 1, 5))\n",
        "    else:\n",
        "        plt.figure(figsize=(n + 1, 5))\n",
        "\n",
        "    plt.xticks(rotation=90, fontsize=15)\n",
        "    ax = sns.countplot(\n",
        "        data=data,\n",
        "        x=feature,\n",
        "        palette=\"Paired\",\n",
        "        order=data[feature].value_counts().index[:n].sort_values(),\n",
        "    )\n",
        "\n",
        "    for p in ax.patches:\n",
        "        if perc == True:\n",
        "            label = \"{:.1f}%\".format(\n",
        "                100 * p.get_height() / total\n",
        "            )  # percentage of each class of the category\n",
        "        else:\n",
        "            label = p.get_height()  # count of each level of the category\n",
        "\n",
        "        x = p.get_x() + p.get_width() / 2  # width of the plot\n",
        "        y = p.get_height()  # height of the plot\n",
        "\n",
        "        ax.annotate(\n",
        "            label,\n",
        "            (x, y),\n",
        "            ha=\"center\",\n",
        "            va=\"center\",\n",
        "            size=12,\n",
        "            xytext=(0, 5),\n",
        "            textcoords=\"offset points\",\n",
        "        )  # annotate the percentage\n",
        "\n",
        "    plt.show()  # show the plot"
      ],
      "metadata": {
        "id": "2zZF5vtFTHxH"
      },
      "execution_count": null,
      "outputs": []
    },
    {
      "cell_type": "code",
      "source": [
        "labeled_barplot(df,\"Category\",perc=True);"
      ],
      "metadata": {
        "colab": {
          "base_uri": "https://localhost:8080/",
          "height": 688
        },
        "id": "EhxnqNJGTv9I",
        "outputId": "26a7eab2-1a8c-4e61-dd31-885917e6aa35"
      },
      "execution_count": null,
      "outputs": [
        {
          "output_type": "stream",
          "name": "stderr",
          "text": [
            "<ipython-input-11-1efd3ad12d5f>:21: FutureWarning: \n",
            "\n",
            "Passing `palette` without assigning `hue` is deprecated and will be removed in v0.14.0. Assign the `x` variable to `hue` and set `legend=False` for the same effect.\n",
            "\n",
            "  ax = sns.countplot(\n"
          ]
        },
        {
          "output_type": "display_data",
          "data": {
            "text/plain": [
              "<Figure size 700x500 with 1 Axes>"
            ],
            "image/png": "[encoded data removed]"
          },
          "metadata": {}
        }
      ]
    },
    {
      "cell_type": "code",
      "source": [
        "labeled_barplot(df,\"Section\",perc=True,n=10);"
      ],
      "metadata": {
        "colab": {
          "base_uri": "https://localhost:8080/",
          "height": 654
        },
        "id": "32xuInPbT618",
        "outputId": "72586068-e93b-4d60-ab96-83eaf7698fcc"
      },
      "execution_count": null,
      "outputs": [
        {
          "output_type": "stream",
          "name": "stderr",
          "text": [
            "<ipython-input-11-1efd3ad12d5f>:21: FutureWarning: \n",
            "\n",
            "Passing `palette` without assigning `hue` is deprecated and will be removed in v0.14.0. Assign the `x` variable to `hue` and set `legend=False` for the same effect.\n",
            "\n",
            "  ax = sns.countplot(\n"
          ]
        },
        {
          "output_type": "display_data",
          "data": {
            "text/plain": [
              "<Figure size 1100x500 with 1 Axes>"
            ],
            "image/png": "[encoded data removed]"
          },
          "metadata": {}
        }
      ]
    },
    {
      "cell_type": "code",
      "source": [
        "## data pre processing\n",
        "def Data_cleaning(text):\n",
        "  #convering the to lower case\n",
        "  text=text.lower()\n",
        "  # removing the special characters and numbers\n",
        "  text=re.sub(r'[^A-Za-z\\s]','',text)\n",
        "  #remove the space\n",
        "  text=re.sub(r'\\s+',\" \",text)\n",
        "  return text\n",
        "\n"
      ],
      "metadata": {
        "id": "51ZRk1h5UEd2"
      },
      "execution_count": null,
      "outputs": []
    },
    {
      "cell_type": "code",
      "source": [
        "df[\"Article_text_clean\"]=df[\"Article text\"].apply(Data_cleaning)\n",
        "df[\"Article_text_clean\"][1]"
      ],
      "metadata": {
        "colab": {
          "base_uri": "https://localhost:8080/",
          "height": 105
        },
        "id": "-rVQp1k1X7mD",
        "outputId": "732ac7a7-5c0c-4dcc-8425-bc809555d72d"
      },
      "execution_count": null,
      "outputs": [
        {
          "output_type": "execute_result",
          "data": {
            "text/plain": [
              "' cnnworking in a factory or warehouse can mean doing the same task over and over and that repetition can lead to chronic injury now a batterypowered glove could help workers by taking some of the strainthe ironhand glove strengthens the wearers grip meaning they dont have to use as much force to perform repetitive manual tasks its developer bioservo says it can increase the wearers hand strength by the swedish company describes the system as a soft exoskeleton exoskeletons are an external device that supports and protects the body typically increasing strength and endurance most have a rigid structure but the ironhand is soft like a regular glove photos the robots running our warehousesrobots are an increasingly familiar presence in warehouses at the southeast london warehouse run by british online supermarket ocado robots fulfill shopping orders when an order is sent to the warehouse the bots spring to life and head towards the container they require scroll through to see more robots that are revolutionizing warehouseshide caption of photos the robots running our warehousesin response to the coronavirus pandemic mit collaborated with ava robotics and the greater boston food bank to design a robot that can use uv light to sanitize the floor of a square foot warehouse in just minutes hide caption of photos the robots running our warehousessevenfoot modelt robots produced by japanese startup telexistence have been stacking shelves in two of tokyos largest convenience store franchises featuring cameras microphones and sensors the modelt uses three fingers to stock items such as bottled drinks cans and rice bowls the robot is controlled by shop staff remotelyhide caption of photos the robots running our warehousesus company boston dynamics has become known for its advanced work robots handle is made for the warehouse and equipped with an onboard vision system it can lift boxes weighing over pounds hide caption of photos the robots running our warehousesstretch is the latest robot from boston dynamics and can work in warehouses and distribution centers designed to keep human workers out of harms way stretchs tentaclelike grippers mean it can manipulate boxes hide caption of photos the robots running our warehousesalthough not specifically designed for warehouses boston dynamics doglike robot spot can lift objects pick itself up after a fall open and walk through doors and even remind people to practice social distancing hide caption of photos the robots running our warehousesthis robot is used to plant seeds and check plants at the nordic harvest vertical farm based in taastrup denmark the indoor farm is one of the biggest in europehide caption of photos the robots running our warehousesrobots sort packages at a warehouse run by jdcom one of chinas largest ecommerce firms in wuhan china ahead of the annual singles day online shopping bonanza in hide caption of reducing fatiguewhen you have the glove on it provides strength and reduces the effort needed when lifting objects says mikael wester bioservos marketing director its all in order to reduce fatigue and prevent strain injuries in the long runthe ironhand system was developed with general motors as a partnerread morethe system consists of a backpack which houses the power pack and artificial tendons that connect to the glove there are sensors on each fingertip which switch on the motor when a user grabs an object a remote control or app can be used to adjust the strength and sensitivity of the gripwester says applications include assembly on the production line in the automotive industry using tools in construction and lifting heavy objects in warehouseseach ironhand system costs around the device also collects data that allows the company to assess the wearers risk of developing strain injuries according to the european agency for safety and health at work workrelated neck and upper limb disorders are the most common occupational disease in europe costing national economies up to of their gross national productfrom nasa to general motors the glove was originally intended for workers in a very different setting to the factory floor nasa developed an early version of the technology called roboglove to help astronauts grasp objects and carry out work in space the ironhand system being used for assembling parts in the automobile industry bioservo licensed the design in and then partnered with auto manufacturer general motors gm to develop the glove for its workers why online supermarket ocado wants to take the human touch out of groceriesergonomics is really the field of trying to fit the jobs to the workers instead of the workers having to conform and adapt to the job says stephen krajcarski a senior manager with gms ergonomics teamby using tools such as the ironhand we are really trying to mitigate any potential concerns or physical demands that may eventually cause a medical concern for that individual operator krajcarski says gm has helped bioservo to test and improve the ironhand by piloting it in a variety of jobs at its manufacturing plants he says some workers have found it easy to use but adds that its not suitable for all situationsthe ironhand is just one of the exoskeletons gm is looking into according to market research firm abi research the exoskeleton market will grow from million in to billion in if you look at exoskeletons this is just one of the tools that are out there says krajcarski but this is an exciting technologythis story has been updated to correct the cost of the ironhand system'"
            ],
            "application/vnd.google.colaboratory.intrinsic+json": {
              "type": "string"
            }
          },
          "metadata": {},
          "execution_count": 15
        }
      ]
    },
    {
      "cell_type": "code",
      "source": [
        "df"
      ],
      "metadata": {
        "colab": {
          "base_uri": "https://localhost:8080/",
          "height": 597
        },
        "id": "SEiho-VRX7gn",
        "outputId": "bfdd5e97-5b62-4d17-f38e-b6bf5b426f4a"
      },
      "execution_count": null,
      "outputs": [
        {
          "output_type": "execute_result",
          "data": {
            "text/plain": [
              "           Date published  Category    Section  \\\n",
              "0     2021-07-15 02:46:59      news      world   \n",
              "1     2021-05-12 07:52:09      news      world   \n",
              "2     2021-06-16 02:51:30      news       asia   \n",
              "3     2022-03-15 09:57:36  business  investing   \n",
              "4     2022-03-15 11:27:02  business   business   \n",
              "...                   ...       ...        ...   \n",
              "4071  2021-12-01 10:01:29     sport     tennis   \n",
              "4072  2021-12-01 17:56:15     sport       golf   \n",
              "4073  2021-12-01 11:32:15     sport     tennis   \n",
              "4074  2021-12-01 17:27:34      news     europe   \n",
              "4075  2021-12-01 14:32:33     sport       golf   \n",
              "\n",
              "                                               Headline  \\\n",
              "0     There's a shortage of truckers, but TuSimple t...   \n",
              "1     Bioservo's robotic 'Ironhand' could protect fa...   \n",
              "2     This swarm of robots gets smarter the more it ...   \n",
              "3     Russia is no longer an option for investors. T...   \n",
              "4     Russian energy investment ban part of new EU s...   \n",
              "...                                                 ...   \n",
              "4071  Australian Open: Australia's vaccine mandate i...   \n",
              "4072  Four golfers test positive ahead of South Afri...   \n",
              "4073  Peng Shuai: 'Unanimous conclusion' that tennis...   \n",
              "4074  This company is \"zapping\" cow dung with lightn...   \n",
              "4075     Tiger Woods: Is this the end of his era? - CNN   \n",
              "\n",
              "                                            Description  \\\n",
              "0     The e-commerce boom has exacerbated a global t...   \n",
              "1     Working in a factory can mean doing the same t...   \n",
              "2     In a Hong Kong warehouse, a swarm of autonomou...   \n",
              "3     For many years, the world's most popular emerg...   \n",
              "4     The European Union formally approved on Tuesda...   \n",
              "...                                                 ...   \n",
              "4071  The Australian Open's Covid-19 vaccine mandate...   \n",
              "4072  Four golfers scheduled to play in the South Af...   \n",
              "4073  Long-time International Olympic Committee (IOC...   \n",
              "4074  A Norwegian technology company has found a way...   \n",
              "4075  Tiger Woods is the rarest of athletes. At his ...   \n",
              "\n",
              "                                               Keywords  \\\n",
              "0     world, There's a shortage of truckers, but TuS...   \n",
              "1     world, Bioservo's robotic 'Ironhand' could pro...   \n",
              "2     asia, This swarm of robots gets smarter the mo...   \n",
              "3     investing, Russia is no longer an option for i...   \n",
              "4     business, Russian energy investment ban part o...   \n",
              "...                                                 ...   \n",
              "4071  tennis, Australian Open: Australia's vaccine m...   \n",
              "4072  golf, Four golfers test positive ahead of Sout...   \n",
              "4073  tennis, Peng Shuai: 'Unanimous conclusion' tha...   \n",
              "4074  europe, This company is \"zapping\" cow dung wit...   \n",
              "4075  golf, Tiger Woods: Is this the end of his era?...   \n",
              "\n",
              "                                           Article text  \\\n",
              "0      (CNN)Right now, there's a shortage of truck d...   \n",
              "1      (CNN)Working in a factory or warehouse can me...   \n",
              "2      (CNN)In a Hong Kong warehouse, a swarm of aut...   \n",
              "3     New York (CNN Business)For many years, the wor...   \n",
              "4     The European Union formally approved on Tuesda...   \n",
              "...                                                 ...   \n",
              "4071   (Reuters)The Australian Open's Covid-19 vacci...   \n",
              "4072   (CNN)Four golfers scheduled to play in the So...   \n",
              "4073   (CNN)Long-time International Olympic Committe...   \n",
              "4074  A Norwegian technology company has found a way...   \n",
              "4075  This story was excerpted from the November 23 ...   \n",
              "\n",
              "                                     Article_text_clean  \n",
              "0      cnnright now theres a shortage of truck drive...  \n",
              "1      cnnworking in a factory or warehouse can mean...  \n",
              "2      cnnin a hong kong warehouse a swarm of autono...  \n",
              "3     new york cnn businessfor many years the worlds...  \n",
              "4     the european union formally approved on tuesda...  \n",
              "...                                                 ...  \n",
              "4071   reutersthe australian opens covid vaccine man...  \n",
              "4072   cnnfour golfers scheduled to play in the sout...  \n",
              "4073   cnnlongtime international olympic committee i...  \n",
              "4074  a norwegian technology company has found a way...  \n",
              "4075  this story was excerpted from the november edi...  \n",
              "\n",
              "[4076 rows x 8 columns]"
            ],
            "text/html": [
              "\n",
              "  <div id=\"df-bb1b72c3-c75e-4213-8937-53e903478257\" class=\"colab-df-container\">\n",
              "    <div>\n",
              "<style scoped>\n",
              "    .dataframe tbody tr th:only-of-type {\n",
              "        vertical-align: middle;\n",
              "    }\n",
              "\n",
              "    .dataframe tbody tr th {\n",
              "        vertical-align: top;\n",
              "    }\n",
              "\n",
              "    .dataframe thead th {\n",
              "        text-align: right;\n",
              "    }\n",
              "</style>\n",
              "<table border=\"1\" class=\"dataframe\">\n",
              "  <thead>\n",
              "    <tr style=\"text-align: right;\">\n",
              "      <th></th>\n",
              "      <th>Date published</th>\n",
              "      <th>Category</th>\n",
              "      <th>Section</th>\n",
              "      <th>Headline</th>\n",
              "      <th>Description</th>\n",
              "      <th>Keywords</th>\n",
              "      <th>Article text</th>\n",
              "      <th>Article_text_clean</th>\n",
              "    </tr>\n",
              "  </thead>\n",
              "  <tbody>\n",
              "    <tr>\n",
              "      <th>0</th>\n",
              "      <td>2021-07-15 02:46:59</td>\n",
              "      <td>news</td>\n",
              "      <td>world</td>\n",
              "      <td>There's a shortage of truckers, but TuSimple t...</td>\n",
              "      <td>The e-commerce boom has exacerbated a global t...</td>\n",
              "      <td>world, There's a shortage of truckers, but TuS...</td>\n",
              "      <td>(CNN)Right now, there's a shortage of truck d...</td>\n",
              "      <td>cnnright now theres a shortage of truck drive...</td>\n",
              "    </tr>\n",
              "    <tr>\n",
              "      <th>1</th>\n",
              "      <td>2021-05-12 07:52:09</td>\n",
              "      <td>news</td>\n",
              "      <td>world</td>\n",
              "      <td>Bioservo's robotic 'Ironhand' could protect fa...</td>\n",
              "      <td>Working in a factory can mean doing the same t...</td>\n",
              "      <td>world, Bioservo's robotic 'Ironhand' could pro...</td>\n",
              "      <td>(CNN)Working in a factory or warehouse can me...</td>\n",
              "      <td>cnnworking in a factory or warehouse can mean...</td>\n",
              "    </tr>\n",
              "    <tr>\n",
              "      <th>2</th>\n",
              "      <td>2021-06-16 02:51:30</td>\n",
              "      <td>news</td>\n",
              "      <td>asia</td>\n",
              "      <td>This swarm of robots gets smarter the more it ...</td>\n",
              "      <td>In a Hong Kong warehouse, a swarm of autonomou...</td>\n",
              "      <td>asia, This swarm of robots gets smarter the mo...</td>\n",
              "      <td>(CNN)In a Hong Kong warehouse, a swarm of aut...</td>\n",
              "      <td>cnnin a hong kong warehouse a swarm of autono...</td>\n",
              "    </tr>\n",
              "    <tr>\n",
              "      <th>3</th>\n",
              "      <td>2022-03-15 09:57:36</td>\n",
              "      <td>business</td>\n",
              "      <td>investing</td>\n",
              "      <td>Russia is no longer an option for investors. T...</td>\n",
              "      <td>For many years, the world's most popular emerg...</td>\n",
              "      <td>investing, Russia is no longer an option for i...</td>\n",
              "      <td>New York (CNN Business)For many years, the wor...</td>\n",
              "      <td>new york cnn businessfor many years the worlds...</td>\n",
              "    </tr>\n",
              "    <tr>\n",
              "      <th>4</th>\n",
              "      <td>2022-03-15 11:27:02</td>\n",
              "      <td>business</td>\n",
              "      <td>business</td>\n",
              "      <td>Russian energy investment ban part of new EU s...</td>\n",
              "      <td>The European Union formally approved on Tuesda...</td>\n",
              "      <td>business, Russian energy investment ban part o...</td>\n",
              "      <td>The European Union formally approved on Tuesda...</td>\n",
              "      <td>the european union formally approved on tuesda...</td>\n",
              "    </tr>\n",
              "    <tr>\n",
              "      <th>...</th>\n",
              "      <td>...</td>\n",
              "      <td>...</td>\n",
              "      <td>...</td>\n",
              "      <td>...</td>\n",
              "      <td>...</td>\n",
              "      <td>...</td>\n",
              "      <td>...</td>\n",
              "      <td>...</td>\n",
              "    </tr>\n",
              "    <tr>\n",
              "      <th>4071</th>\n",
              "      <td>2021-12-01 10:01:29</td>\n",
              "      <td>sport</td>\n",
              "      <td>tennis</td>\n",
              "      <td>Australian Open: Australia's vaccine mandate i...</td>\n",
              "      <td>The Australian Open's Covid-19 vaccine mandate...</td>\n",
              "      <td>tennis, Australian Open: Australia's vaccine m...</td>\n",
              "      <td>(Reuters)The Australian Open's Covid-19 vacci...</td>\n",
              "      <td>reutersthe australian opens covid vaccine man...</td>\n",
              "    </tr>\n",
              "    <tr>\n",
              "      <th>4072</th>\n",
              "      <td>2021-12-01 17:56:15</td>\n",
              "      <td>sport</td>\n",
              "      <td>golf</td>\n",
              "      <td>Four golfers test positive ahead of South Afri...</td>\n",
              "      <td>Four golfers scheduled to play in the South Af...</td>\n",
              "      <td>golf, Four golfers test positive ahead of Sout...</td>\n",
              "      <td>(CNN)Four golfers scheduled to play in the So...</td>\n",
              "      <td>cnnfour golfers scheduled to play in the sout...</td>\n",
              "    </tr>\n",
              "    <tr>\n",
              "      <th>4073</th>\n",
              "      <td>2021-12-01 11:32:15</td>\n",
              "      <td>sport</td>\n",
              "      <td>tennis</td>\n",
              "      <td>Peng Shuai: 'Unanimous conclusion' that tennis...</td>\n",
              "      <td>Long-time International Olympic Committee (IOC...</td>\n",
              "      <td>tennis, Peng Shuai: 'Unanimous conclusion' tha...</td>\n",
              "      <td>(CNN)Long-time International Olympic Committe...</td>\n",
              "      <td>cnnlongtime international olympic committee i...</td>\n",
              "    </tr>\n",
              "    <tr>\n",
              "      <th>4074</th>\n",
              "      <td>2021-12-01 17:27:34</td>\n",
              "      <td>news</td>\n",
              "      <td>europe</td>\n",
              "      <td>This company is \"zapping\" cow dung with lightn...</td>\n",
              "      <td>A Norwegian technology company has found a way...</td>\n",
              "      <td>europe, This company is \"zapping\" cow dung wit...</td>\n",
              "      <td>A Norwegian technology company has found a way...</td>\n",
              "      <td>a norwegian technology company has found a way...</td>\n",
              "    </tr>\n",
              "    <tr>\n",
              "      <th>4075</th>\n",
              "      <td>2021-12-01 14:32:33</td>\n",
              "      <td>sport</td>\n",
              "      <td>golf</td>\n",
              "      <td>Tiger Woods: Is this the end of his era? - CNN</td>\n",
              "      <td>Tiger Woods is the rarest of athletes. At his ...</td>\n",
              "      <td>golf, Tiger Woods: Is this the end of his era?...</td>\n",
              "      <td>This story was excerpted from the November 23 ...</td>\n",
              "      <td>this story was excerpted from the november edi...</td>\n",
              "    </tr>\n",
              "  </tbody>\n",
              "</table>\n",
              "<p>4076 rows × 8 columns</p>\n",
              "</div>\n",
              "    <div class=\"colab-df-buttons\">\n",
              "\n",
              "  <div class=\"colab-df-container\">\n",
              "    <button class=\"colab-df-convert\" onclick=\"convertToInteractive('df-bb1b72c3-c75e-4213-8937-53e903478257')\"\n",
              "            title=\"Convert this dataframe to an interactive table.\"\n",
              "            style=\"display:none;\">\n",
              "\n",
              "  <svg xmlns=\"http://www.w3.org/2000/svg\" height=\"24px\" viewBox=\"0 -960 960 960\">\n",
              "    <path d=\"M120-120v-720h720v720H120Zm60-500h600v-160H180v160Zm220 220h160v-160H400v160Zm0 220h160v-160H400v160ZM180-400h160v-160H180v160Zm440 0h160v-160H620v160ZM180-180h160v-160H180v160Zm440 0h160v-160H620v160Z\"/>\n",
              "  </svg>\n",
              "    </button>\n",
              "\n",
              "  <style>\n",
              "    .colab-df-container {\n",
              "      display:flex;\n",
              "      gap: 12px;\n",
              "    }\n",
              "\n",
              "    .colab-df-convert {\n",
              "      background-color: #E8F0FE;\n",
              "      border: none;\n",
              "      border-radius: 50%;\n",
              "      cursor: pointer;\n",
              "      display: none;\n",
              "      fill: #1967D2;\n",
              "      height: 32px;\n",
              "      padding: 0 0 0 0;\n",
              "      width: 32px;\n",
              "    }\n",
              "\n",
              "    .colab-df-convert:hover {\n",
              "      background-color: #E2EBFA;\n",
              "      box-shadow: 0px 1px 2px rgba(60, 64, 67, 0.3), 0px 1px 3px 1px rgba(60, 64, 67, 0.15);\n",
              "      fill: #174EA6;\n",
              "    }\n",
              "\n",
              "    .colab-df-buttons div {\n",
              "      margin-bottom: 4px;\n",
              "    }\n",
              "\n",
              "    [theme=dark] .colab-df-convert {\n",
              "      background-color: #3B4455;\n",
              "      fill: #D2E3FC;\n",
              "    }\n",
              "\n",
              "    [theme=dark] .colab-df-convert:hover {\n",
              "      background-color: #434B5C;\n",
              "      box-shadow: 0px 1px 3px 1px rgba(0, 0, 0, 0.15);\n",
              "      filter: drop-shadow(0px 1px 2px rgba(0, 0, 0, 0.3));\n",
              "      fill: #FFFFFF;\n",
              "    }\n",
              "  </style>\n",
              "\n",
              "    <script>\n",
              "      const buttonEl =\n",
              "        document.querySelector('#df-bb1b72c3-c75e-4213-8937-53e903478257 button.colab-df-convert');\n",
              "      buttonEl.style.display =\n",
              "        google.colab.kernel.accessAllowed ? 'block' : 'none';\n",
              "\n",
              "      async function convertToInteractive(key) {\n",
              "        const element = document.querySelector('#df-bb1b72c3-c75e-4213-8937-53e903478257');\n",
              "        const dataTable =\n",
              "          await google.colab.kernel.invokeFunction('convertToInteractive',\n",
              "                                                    [key], {});\n",
              "        if (!dataTable) return;\n",
              "\n",
              "        const docLinkHtml = 'Like what you see? Visit the ' +\n",
              "          '<a target=\"_blank\" href=https://colab.research.google.com/notebooks/data_table.ipynb>data table notebook</a>'\n",
              "          + ' to learn more about interactive tables.';\n",
              "        element.innerHTML = '';\n",
              "        dataTable['output_type'] = 'display_data';\n",
              "        await google.colab.output.renderOutput(dataTable, element);\n",
              "        const docLink = document.createElement('div');\n",
              "        docLink.innerHTML = docLinkHtml;\n",
              "        element.appendChild(docLink);\n",
              "      }\n",
              "    </script>\n",
              "  </div>\n",
              "\n",
              "\n",
              "<div id=\"df-72afe8cd-1854-4aef-b70a-4468349cafb4\">\n",
              "  <button class=\"colab-df-quickchart\" onclick=\"quickchart('df-72afe8cd-1854-4aef-b70a-4468349cafb4')\"\n",
              "            title=\"Suggest charts\"\n",
              "            style=\"display:none;\">\n",
              "\n",
              "<svg xmlns=\"http://www.w3.org/2000/svg\" height=\"24px\"viewBox=\"0 0 24 24\"\n",
              "     width=\"24px\">\n",
              "    <g>\n",
              "        <path d=\"M19 3H5c-1.1 0-2 .9-2 2v14c0 1.1.9 2 2 2h14c1.1 0 2-.9 2-2V5c0-1.1-.9-2-2-2zM9 17H7v-7h2v7zm4 0h-2V7h2v10zm4 0h-2v-4h2v4z\"/>\n",
              "    </g>\n",
              "</svg>\n",
              "  </button>\n",
              "\n",
              "<style>\n",
              "  .colab-df-quickchart {\n",
              "      --bg-color: #E8F0FE;\n",
              "      --fill-color: #1967D2;\n",
              "      --hover-bg-color: #E2EBFA;\n",
              "      --hover-fill-color: #174EA6;\n",
              "      --disabled-fill-color: #AAA;\n",
              "      --disabled-bg-color: #DDD;\n",
              "  }\n",
              "\n",
              "  [theme=dark] .colab-df-quickchart {\n",
              "      --bg-color: #3B4455;\n",
              "      --fill-color: #D2E3FC;\n",
              "      --hover-bg-color: #434B5C;\n",
              "      --hover-fill-color: #FFFFFF;\n",
              "      --disabled-bg-color: #3B4455;\n",
              "      --disabled-fill-color: #666;\n",
              "  }\n",
              "\n",
              "  .colab-df-quickchart {\n",
              "    background-color: var(--bg-color);\n",
              "    border: none;\n",
              "    border-radius: 50%;\n",
              "    cursor: pointer;\n",
              "    display: none;\n",
              "    fill: var(--fill-color);\n",
              "    height: 32px;\n",
              "    padding: 0;\n",
              "    width: 32px;\n",
              "  }\n",
              "\n",
              "  .colab-df-quickchart:hover {\n",
              "    background-color: var(--hover-bg-color);\n",
              "    box-shadow: 0 1px 2px rgba(60, 64, 67, 0.3), 0 1px 3px 1px rgba(60, 64, 67, 0.15);\n",
              "    fill: var(--button-hover-fill-color);\n",
              "  }\n",
              "\n",
              "  .colab-df-quickchart-complete:disabled,\n",
              "  .colab-df-quickchart-complete:disabled:hover {\n",
              "    background-color: var(--disabled-bg-color);\n",
              "    fill: var(--disabled-fill-color);\n",
              "    box-shadow: none;\n",
              "  }\n",
              "\n",
              "  .colab-df-spinner {\n",
              "    border: 2px solid var(--fill-color);\n",
              "    border-color: transparent;\n",
              "    border-bottom-color: var(--fill-color);\n",
              "    animation:\n",
              "      spin 1s steps(1) infinite;\n",
              "  }\n",
              "\n",
              "  @keyframes spin {\n",
              "    0% {\n",
              "      border-color: transparent;\n",
              "      border-bottom-color: var(--fill-color);\n",
              "      border-left-color: var(--fill-color);\n",
              "    }\n",
              "    20% {\n",
              "      border-color: transparent;\n",
              "      border-left-color: var(--fill-color);\n",
              "      border-top-color: var(--fill-color);\n",
              "    }\n",
              "    30% {\n",
              "      border-color: transparent;\n",
              "      border-left-color: var(--fill-color);\n",
              "      border-top-color: var(--fill-color);\n",
              "      border-right-color: var(--fill-color);\n",
              "    }\n",
              "    40% {\n",
              "      border-color: transparent;\n",
              "      border-right-color: var(--fill-color);\n",
              "      border-top-color: var(--fill-color);\n",
              "    }\n",
              "    60% {\n",
              "      border-color: transparent;\n",
              "      border-right-color: var(--fill-color);\n",
              "    }\n",
              "    80% {\n",
              "      border-color: transparent;\n",
              "      border-right-color: var(--fill-color);\n",
              "      border-bottom-color: var(--fill-color);\n",
              "    }\n",
              "    90% {\n",
              "      border-color: transparent;\n",
              "      border-bottom-color: var(--fill-color);\n",
              "    }\n",
              "  }\n",
              "</style>\n",
              "\n",
              "  <script>\n",
              "    async function quickchart(key) {\n",
              "      const quickchartButtonEl =\n",
              "        document.querySelector('#' + key + ' button');\n",
              "      quickchartButtonEl.disabled = true;  // To prevent multiple clicks.\n",
              "      quickchartButtonEl.classList.add('colab-df-spinner');\n",
              "      try {\n",
              "        const charts = await google.colab.kernel.invokeFunction(\n",
              "            'suggestCharts', [key], {});\n",
              "      } catch (error) {\n",
              "        console.error('Error during call to suggestCharts:', error);\n",
              "      }\n",
              "      quickchartButtonEl.classList.remove('colab-df-spinner');\n",
              "      quickchartButtonEl.classList.add('colab-df-quickchart-complete');\n",
              "    }\n",
              "    (() => {\n",
              "      let quickchartButtonEl =\n",
              "        document.querySelector('#df-72afe8cd-1854-4aef-b70a-4468349cafb4 button');\n",
              "      quickchartButtonEl.style.display =\n",
              "        google.colab.kernel.accessAllowed ? 'block' : 'none';\n",
              "    })();\n",
              "  </script>\n",
              "</div>\n",
              "\n",
              "  <div id=\"id_6bc1d68c-1fab-4904-9135-009c85544c2d\">\n",
              "    <style>\n",
              "      .colab-df-generate {\n",
              "        background-color: #E8F0FE;\n",
              "        border: none;\n",
              "        border-radius: 50%;\n",
              "        cursor: pointer;\n",
              "        display: none;\n",
              "        fill: #1967D2;\n",
              "        height: 32px;\n",
              "        padding: 0 0 0 0;\n",
              "        width: 32px;\n",
              "      }\n",
              "\n",
              "      .colab-df-generate:hover {\n",
              "        background-color: #E2EBFA;\n",
              "        box-shadow: 0px 1px 2px rgba(60, 64, 67, 0.3), 0px 1px 3px 1px rgba(60, 64, 67, 0.15);\n",
              "        fill: #174EA6;\n",
              "      }\n",
              "\n",
              "      [theme=dark] .colab-df-generate {\n",
              "        background-color: #3B4455;\n",
              "        fill: #D2E3FC;\n",
              "      }\n",
              "\n",
              "      [theme=dark] .colab-df-generate:hover {\n",
              "        background-color: #434B5C;\n",
              "        box-shadow: 0px 1px 3px 1px rgba(0, 0, 0, 0.15);\n",
              "        filter: drop-shadow(0px 1px 2px rgba(0, 0, 0, 0.3));\n",
              "        fill: #FFFFFF;\n",
              "      }\n",
              "    </style>\n",
              "    <button class=\"colab-df-generate\" onclick=\"generateWithVariable('df')\"\n",
              "            title=\"Generate code using this dataframe.\"\n",
              "            style=\"display:none;\">\n",
              "\n",
              "  <svg xmlns=\"http://www.w3.org/2000/svg\" height=\"24px\"viewBox=\"0 0 24 24\"\n",
              "       width=\"24px\">\n",
              "    <path d=\"M7,19H8.4L18.45,9,17,7.55,7,17.6ZM5,21V16.75L18.45,3.32a2,2,0,0,1,2.83,0l1.4,1.43a1.91,1.91,0,0,1,.58,1.4,1.91,1.91,0,0,1-.58,1.4L9.25,21ZM18.45,9,17,7.55Zm-12,3A5.31,5.31,0,0,0,4.9,8.1,5.31,5.31,0,0,0,1,6.5,5.31,5.31,0,0,0,4.9,4.9,5.31,5.31,0,0,0,6.5,1,5.31,5.31,0,0,0,8.1,4.9,5.31,5.31,0,0,0,12,6.5,5.46,5.46,0,0,0,6.5,12Z\"/>\n",
              "  </svg>\n",
              "    </button>\n",
              "    <script>\n",
              "      (() => {\n",
              "      const buttonEl =\n",
              "        document.querySelector('#id_6bc1d68c-1fab-4904-9135-009c85544c2d button.colab-df-generate');\n",
              "      buttonEl.style.display =\n",
              "        google.colab.kernel.accessAllowed ? 'block' : 'none';\n",
              "\n",
              "      buttonEl.onclick = () => {\n",
              "        google.colab.notebook.generateWithVariable('df');\n",
              "      }\n",
              "      })();\n",
              "    </script>\n",
              "  </div>\n",
              "\n",
              "    </div>\n",
              "  </div>\n"
            ],
            "application/vnd.google.colaboratory.intrinsic+json": {
              "type": "dataframe",
              "variable_name": "df",
              "summary": "{\n  \"name\": \"df\",\n  \"rows\": 4076,\n  \"fields\": [\n    {\n      \"column\": \"Date published\",\n      \"properties\": {\n        \"dtype\": \"object\",\n        \"num_unique_values\": 4076,\n        \"samples\": [\n          \"2021-05-27 01:05:30\",\n          \"2021-06-22 09:55:02\",\n          \"2021-11-30 09:30:47\"\n        ],\n        \"semantic_type\": \"\",\n        \"description\": \"\"\n      }\n    },\n    {\n      \"column\": \"Category\",\n      \"properties\": {\n        \"dtype\": \"category\",\n        \"num_unique_values\": 6,\n        \"samples\": [\n          \"news\",\n          \"business\",\n          \"politics\"\n        ],\n        \"semantic_type\": \"\",\n        \"description\": \"\"\n      }\n    },\n    {\n      \"column\": \"Section\",\n      \"properties\": {\n        \"dtype\": \"category\",\n        \"num_unique_values\": 37,\n        \"samples\": [\n          \"tennis\",\n          \"golf\",\n          \"media\"\n        ],\n        \"semantic_type\": \"\",\n        \"description\": \"\"\n      }\n    },\n    {\n      \"column\": \"Headline\",\n      \"properties\": {\n        \"dtype\": \"string\",\n        \"num_unique_values\": 4071,\n        \"samples\": [\n          \"Why Francis and Benedict won't answer the accusations dividing their church - CNN\",\n          \"Arizona audit funding cloaked in secrecy - CNNPolitics\",\n          \"Peng Shuai: Chinese tennis star denies making sexual assault allegation against Zhang Gaoli, but WTA concerns persist - CNN\"\n        ],\n        \"semantic_type\": \"\",\n        \"description\": \"\"\n      }\n    },\n    {\n      \"column\": \"Description\",\n      \"properties\": {\n        \"dtype\": \"string\",\n        \"num_unique_values\": 4069,\n        \"samples\": [\n          \"The Brooklyn Nets extended their winning streak to five games with a 116-103 victory over the Toronto Raptors on Sunday.\",\n          \"A Saudi Arabian-backed takeover of Newcastle United has been agreed, the Premier League and the club announced on Thursday.\",\n          \"Olympic champion sprinter Yohan Blake of Jamaica said he would rather miss the Tokyo Games than get the Covid-19 vaccine, although getting vaccinated will not be required of the athletes competing there this summer.\"\n        ],\n        \"semantic_type\": \"\",\n        \"description\": \"\"\n      }\n    },\n    {\n      \"column\": \"Keywords\",\n      \"properties\": {\n        \"dtype\": \"string\",\n        \"num_unique_values\": 4071,\n        \"samples\": [\n          \"europe, Why Francis and Benedict won't answer the accusations dividing their church - CNN\",\n          \"politics, Arizona audit funding cloaked in secrecy - CNNPolitics\",\n          \"tennis, Peng Shuai: Chinese tennis star denies making sexual assault allegation against Zhang Gaoli, but WTA concerns persist - CNN\"\n        ],\n        \"semantic_type\": \"\",\n        \"description\": \"\"\n      }\n    },\n    {\n      \"column\": \"Article text\",\n      \"properties\": {\n        \"dtype\": \"string\",\n        \"num_unique_values\": 4075,\n        \"samples\": [\n          \" (CNN)The European Union has a China problem. The bloc, for financial and strategic reasons, wants to build strong economic ties with Beijing that bolster Brussels' desire to be a serious player on the world stage as the leading light of Western values.The problem is, doing so in any serious way means turning a blind eye to China's well-documented human rights violations.For much of the past decade, the world's largest trading bloc has gone out of its way to establish an economic partnership with Beijing that doesn't conflict too aggressively with Brussels' lofty values. The EU was criticized from both in and outside the bloc when it announced last December the conclusion in principle of negotiations with the Chinese government on its \\\"Comprehensive Agreement on Investment\\\" (CAI).  According to EU Commission President Ursula von der Leyen, the agreement, if ratified, \\\"will provide unprecedented access to the Chinese market,\\\" while also committing \\\"China to ambitious principles on sustainability, transparency and non-discrimination.\\\" Any agreement like this needs to be approved by the EU's 27 member states and ratified by the European parliament.  Read MorePrecisely how bound China would be to any of the EU's redlines was an immediate cause for concern. \\\"The deal makes statements about human rights and forced labor, but there is no way of forcing China to do anything,\\\" says Samira Rafaela, a member of the EU parliament who sits on the international trade committee.Queen Elizabeth visits UK's largest warship, as it set sails for South China SeaMany of Rafaela's colleagues across the political spectrum clearly agree. Last week, the parliament voted on a motion to freeze the CAI until further notice. Ostensibly, this was in protest at China placing sanctions on five MEPs who had criticized China's treatment of Muslim Uyghurs in Xinjiang among other things.  However, in reality the sanctions were really the final straw for some who couldn't stomach Brussels striking a friendly deal with a government in Beijing that allegedly imprisons people in forced labor camps, undermines democracy in Hong Kong and is increasingly hostile in its own region.  \\\"The statement we are sending with this motion isn't simply, if China lifts the sanctions then CAI is back on the table,\\\" says Reinhard B\\u00fctikofer, chair of the parliament's delegation on China relations. \\\"If sanctions are lifted, we will look at the detail, but it's currently far from satisfactory. It's weak on forced labor, weak on sustainability, weak on dispute resolutions. These problems will still exist even if we resurrect the agreement.\\\"  Given the chances of China lifting these sanctions any time soon is virtually zero, this creates a problem for the top brass in the EU Commission, who have invested a lot of political capital in the deal.   For the EU's increasingly political executive branch, China formed a key part of its plan to become a bigger player on the global stage and become diplomatically independent of its most important ally: the United States. \\\"Strategic autonomy,\\\" as Brussels calls it, has been a priority for EU officials who are concerned about Europe's inherent vulnerabilities, be they from Russian aggression in the east, over-reliance on China for medical supplies or the risk of another president like Donald Trump pulling American troops out of Europe.  \\\"The China agreement was a big plank in that strategy,\\\" says Steven Blockmans, director of research at the Centre for European Policy Studies. \\\"If the Chinese and European parliament don't move, the EU risks losing a deal that would have cemented the idea it can make decisions to defend its own commercial interests, without having to call the White House first.\\\" Despite the European parliament's protests, the commission still thinks the deal is right for the EU. Officials who spoke with CNN explained that they understood the parliament's concerns and that the political conditions didn't exist at the moment. One official even lauded the parliament's action, saying it provided proof that \\\"economic interests will not prevent the EU from standing up for human rights.\\\" However, they also said this was a rare window of opportunity to get China committing to something on paper, and that window could run out for political reasons -- most notably after upcoming elections in France and Germany, the two member states most supportive of the deal.  It's at member state level that the apparent split between parliament and commission gets interesting. It's been known for some time that locking in some kind of formal relationship with China was a big priority for Angela Merkel as she tries to nail down her legacy. The German Chancellor will stand down after 16 years in power this autumn, as Germany holds federal elections.  Chinese Premier Li Keqiang (R) and German Chancellor Angela Merkel attend a joint news conference at the Great Hall of the People in Beijing on May 24, 2018. As things stand, it's likely that Merkel's party -- no longer with a leader who holds as much political capital as her -- will have to enter a coalition with the anti-Beijing Greens. This could significantly soften German support for the deal.  The other key sponsor of the deal was French President Emmanuel Macron, a man who also faces re-election next year. The fact that Macron's biggest rival is far-right Marine Le Pen has led some to think he might, in the coming months, cool on globalist policies.  As for the other member states, diplomats who spoke to CNN pointed out that the CAI is not a full trade deal and that there was no urgent need to rush anything through. As one diplomat put it, \\\"there is an awakening in Europe about the real character of its relationship with China and governments don't like it. This will be parked for a while is my guess.\\\" The commission remains convinced that its political capital was well spent and that member states will ultimately choose their economies over other priorities. \\\"Even if leadership changes, the economic reality in Germany and France isn't going to change, and economics has a habit of trumping other concerns,\\\" the diplomat said.   Philippe Lamberts, a senior Belgian MEP, disagrees: \\\"I think EU-China relations are going to get worse before they get better. Even if they lift their sanctions, what message does it send on European values if we agree a deal with such weak provisions on human rights, democracy and sustainability?\\\"  The EU's record on human rights, critics argue, is already patchy. While last week the European parliament did stand up to both China and Turkey -- calling for the suspension of talks with Ankara to join the bloc over its own human rights record -- campaigners say that the EU is not doing enough to uphold its own standards on human records inside or outside the bloc.  Chinese President Xi Jinping and French Emmanuel Macron (taste wine as they visit France's pavilion during the China International Import Expo in Shanghai on November 5, 2019.\\\"Trade and investment are an area where economic interests have always prevailed over respect for human rights, as much as security concerns have always prevailed in migration management,\\\" says Elena Crespi, program officer for Western Europe at the International Federation for Human Rights.  And while the parliament has a good track record on human rights, awarding its Sakharov Prize for Freedom of Thought to an imprisoned Uyghur scholar in 2019, critics believe the commission falls short in comparison.  \\\"The current commission is not sufficiently doing its job in upholding European values,\\\" says Alice Stollmeyer, executive director of Defend Democracy. \\\"Whether it's fudging on rule of law in Hungary and Poland or failing to properly speak out against atrocities elsewhere, the EU sadly seems to have a policy of appeasement for abusers.\\\" It's no secret that the EU is in a transitional phase. Those at the center of the project see a future of closer union and its officials in Brussels becoming serious players on the world stage in their own right.  If a balanced relationship with China was indeed central to this, the current mood among elected politicians across the member states will be of serious concern to the Brussels elite.  Perhaps more worrying, Blockmans points out, is whether China reassesses how much it wants a deal with the bloc. \\\"It might be that China still sees the EU as a secondary player -- a lackey to the US. If that's that case, they might decide that this is a deal worth collapsing for their own political ends.\\\"  Regardless, the point is moot while Europe's political class refuses to even look at this deal. The longer this deadlock on sanctions goes on, the greater the chance it totally collapses. And it if does, those at the top table in Brussels might regret investing so much political capital in dealing with one of the world's worst human rights offenders.  \",\n          \" (CNN)Senegal and Liverpool football star Sadio Mane has donated $693,000 (\\u00a3500,000) to help fund the construction of a hospital in his hometown of Bambali in Senegal. The village, about 400 kilometers outside the capital city Dakar, did not previously have a hospital. Mane met with Senegalese President Macky Sall earlier this month to discuss the project, which will include departments for maternity care, dental facilities and consulting rooms. Le footballeur Sadio Man\\u00e9 a \\u00e9t\\u00e9 re\\u00e7u cet apr\\u00e8s-midi par le Pr\\u00e9sident @Macky_Sall. L'attaquant de Liverpool a pr\\u00e9sent\\u00e9 au Chef de l'Etat un ambitieux projet de construction d'un h\\u00f4pital \\u00e0 Bambali et compte sur l'accompagnement de l'Etat pour le personnel m\\u00e9dical. pic.twitter.com/aPBwtY8Iz7\\u2014 Pr\\u00e9sidence S\\u00e9n\\u00e9gal (@PR_Senegal) June 10, 2021\\n\\n\\\"The Liverpool striker has presented the Head of State with an ambitious plan to build a hospital in Bambali and is counting on state support for medical personnel,\\\" the official account for the presidency tweeted in June. Mane also shared his enthusiasm for the project, tweeting: \\\"Very honored by the audience that the Head of State, His Excellency @Macky_Sall granted me. A good time to discuss football but also our social projects.\\\" Read MoreIn 2019, Mane donated close to $350,000 (\\u00a3250,000) to build a school in Bambali. The year before he also gifted 300 Liverpool shirts to his home village so that residents could wear them during the Champions League final.  READ: Samuel Eto'o is celebrated for much more than football in his hometownThe Reds forward, who recently scored goals for his national team in friendly matches against Zambia and Cape Verde, will be back in action for the start of Liverpool's pre-season on July 12. \",\n          \" (CNN)The 2021 Atlantic hurricane season, just like the 2020 season, was one for the record books -- but for different reasons. The biggest similarity was the high number of named storms. The 2021 season became only the third in history to use all of the names on the rotating seasonal list (the previous years were 2020 and 2005).We ended the season with 21 named storms, 7 hurricanes, and 4 major hurricanes (Category 3 or higher). During an average year there would be 14 named storms, 7 hurricanes, and 3 major hurricanes. This year met or exceeded each of those categories, and it was forecast to be that way. The Atlantic hurricane season runs from June 1 to November 30.There were four major hurricanes this season: Grace, Ida, Larry, and Sam. The strongest two were Ida and Sam, which both reached Category 4 strength. Grace and Larry peaked as Category 3 storms. The first half of the season was off to the races -- as the US was impacted by eight named storms: Claudette, Danny, Elsa, Fred, Henri, Ida, Mindy, and Nicholas.Read MoreThen, suddenly, the world's oceans became eerily quiet. After September 25 the Atlantic and the rest of the world would struggle to produce a named storm.That was not what meteorologists expected.\\\"The globe has had no major (Category 3+, max winds >=111 mph) hurricane/typhoon/cyclone formations since September 25. All other hurricane seasons in the satellite era (since 1966) have had at least two global major hurricane formations between September 26 - November 19,\\\" Phil Klotzbach, a research scientist at Colorado State University, said in a tweet.  Both last year and this year La Ni\\u00f1a conditions were observed during the last several weeks of the season, which typically favors late season tropical activity. 2020 saw three named storms in November (Eta, Theta, and Iota) and 2021 saw just one (Wanda) during the first few days.How this hurricane season ended marks one of the biggest differences between this year and last.Klotzbach explained that usually La Ni\\u00f1a weakens or limits vertical wind shear, but surprisingly there was quite elevated wind shear in the Caribbean in October and November -- the focal region for storms late in the season -- and that led to a quiet latter part of the 2021 Atlantic hurricane season.NOAA predicts 6th consecutive above-average hurricane seasonWhile an active season was predicted, it's impossible to know in advance exactly where each storm will go and what kind of damage it may cause. A \\\"bad\\\" season is all about perspective. Central American countries may consider this to have been a \\\"good\\\" year since not a single named storm hit any part of the region. In 2020, Central America was hit by three named storms, two of which were major hurricanes. In the US, the state of Louisiana can't seem to catch a break. In 2020, the Pelican State was impacted by five named storms: Cristobal, Laura, Marco, Delta and Zeta. This year the state was impacted by three named storms: Claudette, Ida and Nicholas.In 2020 more hurricanes made landfall in the US, but this year the storms cost over $20 billion more. Billions in damageWhile only one major hurricane made landfall across the US (Ida), a total of four named storms left behind over $1 billion in damage each: Tropical Storm Elsa, Tropical Storm Fred, Hurricane Ida, and Hurricane Nicholas.Ida alone exceeded the cost in damage of all seven billion-dollar tropical cyclones that made landfall across the US in 2020, including hurricanes like Laura, Delta, and Zeta.\\\"To date, Hurricane Ida is the costliest disaster this year -- exceeding $60 billion,\\\" according to the National Oceanic and Atmospheric Administration. \\\"Ida already ranks among the top-five most costly hurricanes on record for the US since 1980.\\\"JUST WATCHEDThis Louisiana family lost their mom in Hurricane Ida. Here's why they aren't going anywhereReplayMore Videos ...MUST WATCHThis Louisiana family lost their mom in Hurricane Ida. Here's why they aren't going anywhere 03:28Ida was the strongest Atlantic hurricane of the year to make landfall with maximum sustained winds of 150 mph when it struck near Port Fourchon, Louisiana, on August 29. It was one of only three hurricanes to ever make landfall in the state of Louisiana with winds of 150 mph, the most recent being Laura from 2020. Photos: Ida's remnants wreak havoc in the EastThe stadium for the Somerset Patriots, a minor-league baseball team in Bridgewater Township, New Jersey, is partially flooded by overflow from the Raritan River on Thursday, September 2.Hide Caption 1 of 24 Photos: Ida's remnants wreak havoc in the EastA man wades through floodwaters in Manville, New Jersey, on September 2.Hide Caption 2 of 24 Photos: Ida's remnants wreak havoc in the EastCommuters walk into a flooded subway station in New York City on September 2.Hide Caption 3 of 24 Photos: Ida's remnants wreak havoc in the EastFirst responders rescue people who were trapped by floodwaters in Mamaroneck, New York, on September 2.Hide Caption 4 of 24 Photos: Ida's remnants wreak havoc in the EastA building in Queens, New York, is damaged on September 2.Hide Caption 5 of 24 Photos: Ida's remnants wreak havoc in the EastA person walks in floodwaters in Philadelphia on September 2.Hide Caption 6 of 24 Photos: Ida's remnants wreak havoc in the EastA United Automatic Fire Sprinkler employee helps clean up on September 2 after the business flooded in Woodland Park, New Jersey.Hide Caption 7 of 24 Photos: Ida's remnants wreak havoc in the EastA motorist drives on a flooded expressway in Brooklyn, New York, early on September 2, as the remnants of Hurricane Ida swept through the area.Hide Caption 8 of 24 Photos: Ida's remnants wreak havoc in the EastPeople stand inside a subway station in New York City as water runs past their feet on Wednesday, September 1.Hide Caption 9 of 24 Photos: Ida's remnants wreak havoc in the EastMembers of the New York City Fire Department rescue a woman from her stalled car on September 1.Hide Caption 10 of 24 Photos: Ida's remnants wreak havoc in the EastMembers of the Weldon Fire Company walk through floodwaters in Dresher, Pennsylvania, on September 1.Hide Caption 11 of 24 Photos: Ida's remnants wreak havoc in the EastPeople navigate heavy rains and flooded walkways at the Billie Jean King National Tennis Center in New York City on September 1.Hide Caption 12 of 24 Photos: Ida's remnants wreak havoc in the EastWorkers clear a road from flooding in Bridgeville, Pennsylvania, on September 1.Hide Caption 13 of 24 Photos: Ida's remnants wreak havoc in the EastSergio Rossi, owner of Sergio Tailoring, covers flood-damaged clothing at his shop in Oakdale, Pennsylvania, on September 1.Hide Caption 14 of 24 Photos: Ida's remnants wreak havoc in the EastA downed tree blocks a road in Plymouth Meeting, Pennsylvania, on September 1.Hide Caption 15 of 24 Photos: Ida's remnants wreak havoc in the EastA tennis fan covers herself from rain as she attends a match at the US Open in New York on September 1. A second-round singles match between Kevin Anderson and Diego Schwartzman was halted early in the second set as water came through multiple openings of the roof on Louis Armstrong Stadium. The match was moved to the Arthur Ashe Stadium and completed just after 1 a.m. Thursday.Hide Caption 16 of 24 Photos: Ida's remnants wreak havoc in the EastMembers of the Oakdale Fire Department clear debris from their station after heavy rains in Oakdale, Pennsylvania, on September 1.Hide Caption 17 of 24 Photos: Ida's remnants wreak havoc in the EastRaindrops are illuminated by a camera flash near the US Capitol as Ida's remnants pass over Washington, DC, on September 1.Hide Caption 18 of 24 Photos: Ida's remnants wreak havoc in the EastA worker surveys damage in Annapolis, Maryland, on September 1.Hide Caption 19 of 24 Photos: Ida's remnants wreak havoc in the EastDebris litters a park in Oakdale, Pennsylvania, on September 1.Hide Caption 20 of 24 Photos: Ida's remnants wreak havoc in the EastA man walks his dog in Camp Hill, Pennsylvania, on September 1.Hide Caption 21 of 24 Photos: Ida's remnants wreak havoc in the EastA house sits above floodwaters in Glenshaw, Pennsylvania, on September 1.Hide Caption 22 of 24 Photos: Ida's remnants wreak havoc in the EastWater is pumped from the basement of a business in Oakdale, Pennsylvania, during cleanup on September 1.Hide Caption 23 of 24 Photos: Ida's remnants wreak havoc in the EastPeople walk through heavy rain in New York's Times Square on September 1.Hide Caption 24 of 24\\\"Grand Isle, Louisiana took a direct hit with 100% of its homes damaged and nearly 40% were nearly-to-completely destroyed,\\\" according to NOAA. \\\"There was heavy damage to the energy infrastructure across southern Louisiana causing widespread, long duration power outages to millions of people.\\\"In the following days the remnants of Ida moved to the Northeast and combined with a frontal system, delivering extreme rainfall rates and flash flooding, inundating streets, homes and neighborhoods.Flash flood emergencies were declared in New Jersey and New York. At least 55 people died across New York, New Jersey, Connecticut, Maryland, Pennsylvania and Virginia.This season's quirksThe strongest storm of the season didn't hit land but video was captured from inside it.Hurricane Sam, like Ida, also reached Category 4 strength with maximum sustained winds of 150 mph. Sam remained a Category 4 hurricane for 4.5 days and generated the fifth-highest accumulated cyclone energy (ACE) recorded in the satellite era.\\\"ACE is integrated metric accounting for storm intensity and duration,\\\" Klotzbach tweeted. \\\"Sam was a long-lived, intense hurricane.\\\"Fortunately, unlike Ida, Sam remained out over the open waters of the Atlantic and never made landfall.Sam's long life, of over 11 days as a hurricane, allowed a research drone to be sailed into it, and, for the first time, to transmit video from inside a major hurricane at ocean level.JUST WATCHEDWatch how Hurricane Sam was filmed like never beforeReplayMore Videos ...MUST WATCHWatch how Hurricane Sam was filmed like never before 02:27A couple of other storms made some meteorological records.Tropical Storm Ana formed in a unique area of the Atlantic Ocean. In the last 100 years, no named storm had ever developed east of Bermuda in the month of May. Tropical Storm Ana broke that record. Typically, storms during this month form over the eastern Gulf of Mexico, western Caribbean Sea and near the southeastern US coast.Another unique storm was Subtropical Storm Teresa. Reports of subtropical storms are not uncommon, especially in the 21st century, thanks to advanced technology. What is uncommon is for a storm to remain subtropical for its entire life, never transitioning to \\\"tropical\\\" status. Teresa was also extremely short-lived, at only 24 hours. Subtropical Storm Teresa formed on Friday, September 24, at 5 p.m. Atlantic Standard Time. Exactly 24 hours later, the NHC issued its final advisory as Teresa became a remnant, low-pressure system. Ida will likely be the only name on the retired list this year, despite there being three other major hurricanes, simply because of the amount of damage and fatalities caused. The letter \\\"I\\\" already has more retired names than any other letter in the alphabet. There are already 12 retired storm names that start with the letter \\\"I\\\", and Ida will likely become the 13th.\"\n        ],\n        \"semantic_type\": \"\",\n        \"description\": \"\"\n      }\n    },\n    {\n      \"column\": \"Article_text_clean\",\n      \"properties\": {\n        \"dtype\": \"string\",\n        \"num_unique_values\": 4075,\n        \"samples\": [\n          \" cnnthe european union has a china problem the bloc for financial and strategic reasons wants to build strong economic ties with beijing that bolster brussels desire to be a serious player on the world stage as the leading light of western valuesthe problem is doing so in any serious way means turning a blind eye to chinas welldocumented human rights violationsfor much of the past decade the worlds largest trading bloc has gone out of its way to establish an economic partnership with beijing that doesnt conflict too aggressively with brussels lofty values the eu was criticized from both in and outside the bloc when it announced last december the conclusion in principle of negotiations with the chinese government on its comprehensive agreement on investment cai according to eu commission president ursula von der leyen the agreement if ratified will provide unprecedented access to the chinese market while also committing china to ambitious principles on sustainability transparency and nondiscrimination any agreement like this needs to be approved by the eus member states and ratified by the european parliament read moreprecisely how bound china would be to any of the eus redlines was an immediate cause for concern the deal makes statements about human rights and forced labor but there is no way of forcing china to do anything says samira rafaela a member of the eu parliament who sits on the international trade committeequeen elizabeth visits uks largest warship as it set sails for south china seamany of rafaelas colleagues across the political spectrum clearly agree last week the parliament voted on a motion to freeze the cai until further notice ostensibly this was in protest at china placing sanctions on five meps who had criticized chinas treatment of muslim uyghurs in xinjiang among other things however in reality the sanctions were really the final straw for some who couldnt stomach brussels striking a friendly deal with a government in beijing that allegedly imprisons people in forced labor camps undermines democracy in hong kong and is increasingly hostile in its own region the statement we are sending with this motion isnt simply if china lifts the sanctions then cai is back on the table says reinhard btikofer chair of the parliaments delegation on china relations if sanctions are lifted we will look at the detail but its currently far from satisfactory its weak on forced labor weak on sustainability weak on dispute resolutions these problems will still exist even if we resurrect the agreement given the chances of china lifting these sanctions any time soon is virtually zero this creates a problem for the top brass in the eu commission who have invested a lot of political capital in the deal for the eus increasingly political executive branch china formed a key part of its plan to become a bigger player on the global stage and become diplomatically independent of its most important ally the united states strategic autonomy as brussels calls it has been a priority for eu officials who are concerned about europes inherent vulnerabilities be they from russian aggression in the east overreliance on china for medical supplies or the risk of another president like donald trump pulling american troops out of europe the china agreement was a big plank in that strategy says steven blockmans director of research at the centre for european policy studies if the chinese and european parliament dont move the eu risks losing a deal that would have cemented the idea it can make decisions to defend its own commercial interests without having to call the white house first despite the european parliaments protests the commission still thinks the deal is right for the eu officials who spoke with cnn explained that they understood the parliaments concerns and that the political conditions didnt exist at the moment one official even lauded the parliaments action saying it provided proof that economic interests will not prevent the eu from standing up for human rights however they also said this was a rare window of opportunity to get china committing to something on paper and that window could run out for political reasons most notably after upcoming elections in france and germany the two member states most supportive of the deal its at member state level that the apparent split between parliament and commission gets interesting its been known for some time that locking in some kind of formal relationship with china was a big priority for angela merkel as she tries to nail down her legacy the german chancellor will stand down after years in power this autumn as germany holds federal elections chinese premier li keqiang r and german chancellor angela merkel attend a joint news conference at the great hall of the people in beijing on may as things stand its likely that merkels party no longer with a leader who holds as much political capital as her will have to enter a coalition with the antibeijing greens this could significantly soften german support for the deal the other key sponsor of the deal was french president emmanuel macron a man who also faces reelection next year the fact that macrons biggest rival is farright marine le pen has led some to think he might in the coming months cool on globalist policies as for the other member states diplomats who spoke to cnn pointed out that the cai is not a full trade deal and that there was no urgent need to rush anything through as one diplomat put it there is an awakening in europe about the real character of its relationship with china and governments dont like it this will be parked for a while is my guess the commission remains convinced that its political capital was well spent and that member states will ultimately choose their economies over other priorities even if leadership changes the economic reality in germany and france isnt going to change and economics has a habit of trumping other concerns the diplomat said philippe lamberts a senior belgian mep disagrees i think euchina relations are going to get worse before they get better even if they lift their sanctions what message does it send on european values if we agree a deal with such weak provisions on human rights democracy and sustainability the eus record on human rights critics argue is already patchy while last week the european parliament did stand up to both china and turkey calling for the suspension of talks with ankara to join the bloc over its own human rights record campaigners say that the eu is not doing enough to uphold its own standards on human records inside or outside the bloc chinese president xi jinping and french emmanuel macron taste wine as they visit frances pavilion during the china international import expo in shanghai on november trade and investment are an area where economic interests have always prevailed over respect for human rights as much as security concerns have always prevailed in migration management says elena crespi program officer for western europe at the international federation for human rights and while the parliament has a good track record on human rights awarding its sakharov prize for freedom of thought to an imprisoned uyghur scholar in critics believe the commission falls short in comparison the current commission is not sufficiently doing its job in upholding european values says alice stollmeyer executive director of defend democracy whether its fudging on rule of law in hungary and poland or failing to properly speak out against atrocities elsewhere the eu sadly seems to have a policy of appeasement for abusers its no secret that the eu is in a transitional phase those at the center of the project see a future of closer union and its officials in brussels becoming serious players on the world stage in their own right if a balanced relationship with china was indeed central to this the current mood among elected politicians across the member states will be of serious concern to the brussels elite perhaps more worrying blockmans points out is whether china reassesses how much it wants a deal with the bloc it might be that china still sees the eu as a secondary player a lackey to the us if thats that case they might decide that this is a deal worth collapsing for their own political ends regardless the point is moot while europes political class refuses to even look at this deal the longer this deadlock on sanctions goes on the greater the chance it totally collapses and it if does those at the top table in brussels might regret investing so much political capital in dealing with one of the worlds worst human rights offenders \",\n          \" cnnsenegal and liverpool football star sadio mane has donated to help fund the construction of a hospital in his hometown of bambali in senegal the village about kilometers outside the capital city dakar did not previously have a hospital mane met with senegalese president macky sall earlier this month to discuss the project which will include departments for maternity care dental facilities and consulting rooms le footballeur sadio man a t reu cet aprsmidi par le prsident mackysall lattaquant de liverpool a prsent au chef de letat un ambitieux projet de construction dun hpital bambali et compte sur laccompagnement de letat pour le personnel mdical pictwittercomapbwtyiz prsidence sngal prsenegal june the liverpool striker has presented the head of state with an ambitious plan to build a hospital in bambali and is counting on state support for medical personnel the official account for the presidency tweeted in june mane also shared his enthusiasm for the project tweeting very honored by the audience that the head of state his excellency mackysall granted me a good time to discuss football but also our social projects read morein mane donated close to to build a school in bambali the year before he also gifted liverpool shirts to his home village so that residents could wear them during the champions league final read samuel etoo is celebrated for much more than football in his hometownthe reds forward who recently scored goals for his national team in friendly matches against zambia and cape verde will be back in action for the start of liverpools preseason on july \",\n          \" cnnthe atlantic hurricane season just like the season was one for the record books but for different reasons the biggest similarity was the high number of named storms the season became only the third in history to use all of the names on the rotating seasonal list the previous years were and we ended the season with named storms hurricanes and major hurricanes category or higher during an average year there would be named storms hurricanes and major hurricanes this year met or exceeded each of those categories and it was forecast to be that way the atlantic hurricane season runs from june to november there were four major hurricanes this season grace ida larry and sam the strongest two were ida and sam which both reached category strength grace and larry peaked as category storms the first half of the season was off to the races as the us was impacted by eight named storms claudette danny elsa fred henri ida mindy and nicholasread morethen suddenly the worlds oceans became eerily quiet after september the atlantic and the rest of the world would struggle to produce a named stormthat was not what meteorologists expectedthe globe has had no major category max winds mph hurricanetyphooncyclone formations since september all other hurricane seasons in the satellite era since have had at least two global major hurricane formations between september november phil klotzbach a research scientist at colorado state university said in a tweet both last year and this year la nia conditions were observed during the last several weeks of the season which typically favors late season tropical activity saw three named storms in november eta theta and iota and saw just one wanda during the first few dayshow this hurricane season ended marks one of the biggest differences between this year and lastklotzbach explained that usually la nia weakens or limits vertical wind shear but surprisingly there was quite elevated wind shear in the caribbean in october and november the focal region for storms late in the season and that led to a quiet latter part of the atlantic hurricane seasonnoaa predicts th consecutive aboveaverage hurricane seasonwhile an active season was predicted its impossible to know in advance exactly where each storm will go and what kind of damage it may cause a bad season is all about perspective central american countries may consider this to have been a good year since not a single named storm hit any part of the region in central america was hit by three named storms two of which were major hurricanes in the us the state of louisiana cant seem to catch a break in the pelican state was impacted by five named storms cristobal laura marco delta and zeta this year the state was impacted by three named storms claudette ida and nicholasin more hurricanes made landfall in the us but this year the storms cost over billion more billions in damagewhile only one major hurricane made landfall across the us ida a total of four named storms left behind over billion in damage each tropical storm elsa tropical storm fred hurricane ida and hurricane nicholasida alone exceeded the cost in damage of all seven billiondollar tropical cyclones that made landfall across the us in including hurricanes like laura delta and zetato date hurricane ida is the costliest disaster this year exceeding billion according to the national oceanic and atmospheric administration ida already ranks among the topfive most costly hurricanes on record for the us since just watchedthis louisiana family lost their mom in hurricane ida heres why they arent going anywherereplaymore videos must watchthis louisiana family lost their mom in hurricane ida heres why they arent going anywhere ida was the strongest atlantic hurricane of the year to make landfall with maximum sustained winds of mph when it struck near port fourchon louisiana on august it was one of only three hurricanes to ever make landfall in the state of louisiana with winds of mph the most recent being laura from photos idas remnants wreak havoc in the eastthe stadium for the somerset patriots a minorleague baseball team in bridgewater township new jersey is partially flooded by overflow from the raritan river on thursday september hide caption of photos idas remnants wreak havoc in the easta man wades through floodwaters in manville new jersey on september hide caption of photos idas remnants wreak havoc in the eastcommuters walk into a flooded subway station in new york city on september hide caption of photos idas remnants wreak havoc in the eastfirst responders rescue people who were trapped by floodwaters in mamaroneck new york on september hide caption of photos idas remnants wreak havoc in the easta building in queens new york is damaged on september hide caption of photos idas remnants wreak havoc in the easta person walks in floodwaters in philadelphia on september hide caption of photos idas remnants wreak havoc in the easta united automatic fire sprinkler employee helps clean up on september after the business flooded in woodland park new jerseyhide caption of photos idas remnants wreak havoc in the easta motorist drives on a flooded expressway in brooklyn new york early on september as the remnants of hurricane ida swept through the areahide caption of photos idas remnants wreak havoc in the eastpeople stand inside a subway station in new york city as water runs past their feet on wednesday september hide caption of photos idas remnants wreak havoc in the eastmembers of the new york city fire department rescue a woman from her stalled car on september hide caption of photos idas remnants wreak havoc in the eastmembers of the weldon fire company walk through floodwaters in dresher pennsylvania on september hide caption of photos idas remnants wreak havoc in the eastpeople navigate heavy rains and flooded walkways at the billie jean king national tennis center in new york city on september hide caption of photos idas remnants wreak havoc in the eastworkers clear a road from flooding in bridgeville pennsylvania on september hide caption of photos idas remnants wreak havoc in the eastsergio rossi owner of sergio tailoring covers flooddamaged clothing at his shop in oakdale pennsylvania on september hide caption of photos idas remnants wreak havoc in the easta downed tree blocks a road in plymouth meeting pennsylvania on september hide caption of photos idas remnants wreak havoc in the easta tennis fan covers herself from rain as she attends a match at the us open in new york on september a secondround singles match between kevin anderson and diego schwartzman was halted early in the second set as water came through multiple openings of the roof on louis armstrong stadium the match was moved to the arthur ashe stadium and completed just after am thursdayhide caption of photos idas remnants wreak havoc in the eastmembers of the oakdale fire department clear debris from their station after heavy rains in oakdale pennsylvania on september hide caption of photos idas remnants wreak havoc in the eastraindrops are illuminated by a camera flash near the us capitol as idas remnants pass over washington dc on september hide caption of photos idas remnants wreak havoc in the easta worker surveys damage in annapolis maryland on september hide caption of photos idas remnants wreak havoc in the eastdebris litters a park in oakdale pennsylvania on september hide caption of photos idas remnants wreak havoc in the easta man walks his dog in camp hill pennsylvania on september hide caption of photos idas remnants wreak havoc in the easta house sits above floodwaters in glenshaw pennsylvania on september hide caption of photos idas remnants wreak havoc in the eastwater is pumped from the basement of a business in oakdale pennsylvania during cleanup on september hide caption of photos idas remnants wreak havoc in the eastpeople walk through heavy rain in new yorks times square on september hide caption of grand isle louisiana took a direct hit with of its homes damaged and nearly were nearlytocompletely destroyed according to noaa there was heavy damage to the energy infrastructure across southern louisiana causing widespread long duration power outages to millions of peoplein the following days the remnants of ida moved to the northeast and combined with a frontal system delivering extreme rainfall rates and flash flooding inundating streets homes and neighborhoodsflash flood emergencies were declared in new jersey and new york at least people died across new york new jersey connecticut maryland pennsylvania and virginiathis seasons quirksthe strongest storm of the season didnt hit land but video was captured from inside ithurricane sam like ida also reached category strength with maximum sustained winds of mph sam remained a category hurricane for days and generated the fifthhighest accumulated cyclone energy ace recorded in the satellite eraace is integrated metric accounting for storm intensity and duration klotzbach tweeted sam was a longlived intense hurricanefortunately unlike ida sam remained out over the open waters of the atlantic and never made landfallsams long life of over days as a hurricane allowed a research drone to be sailed into it and for the first time to transmit video from inside a major hurricane at ocean leveljust watchedwatch how hurricane sam was filmed like never beforereplaymore videos must watchwatch how hurricane sam was filmed like never before a couple of other storms made some meteorological recordstropical storm ana formed in a unique area of the atlantic ocean in the last years no named storm had ever developed east of bermuda in the month of may tropical storm ana broke that record typically storms during this month form over the eastern gulf of mexico western caribbean sea and near the southeastern us coastanother unique storm was subtropical storm teresa reports of subtropical storms are not uncommon especially in the st century thanks to advanced technology what is uncommon is for a storm to remain subtropical for its entire life never transitioning to tropical status teresa was also extremely shortlived at only hours subtropical storm teresa formed on friday september at pm atlantic standard time exactly hours later the nhc issued its final advisory as teresa became a remnant lowpressure system ida will likely be the only name on the retired list this year despite there being three other major hurricanes simply because of the amount of damage and fatalities caused the letter i already has more retired names than any other letter in the alphabet there are already retired storm names that start with the letter i and ida will likely become the th\"\n        ],\n        \"semantic_type\": \"\",\n        \"description\": \"\"\n      }\n    }\n  ]\n}"
            }
          },
          "metadata": {},
          "execution_count": 16
        }
      ]
    },
    {
      "cell_type": "markdown",
      "source": [
        "## Splitting Data"
      ],
      "metadata": {
        "id": "T3dR-SMbZZ7w"
      }
    },
    {
      "cell_type": "code",
      "source": [
        "# Creating dependent and independent variables\n",
        "X = df['Article_text_clean']\n",
        "y = df['Category']"
      ],
      "metadata": {
        "id": "9t8ZtK7zX7br"
      },
      "execution_count": null,
      "outputs": []
    },
    {
      "cell_type": "code",
      "source": [
        "x_train,x_temp,y_train,y_temp= train_test_split(X,y,random_state=1,shuffle=True,test_size=0.30)\n",
        "x_val,x_test,y_val,y_test=train_test_split(x_temp,y_temp,shuffle=True,random_state=1,test_size=0.30)\n",
        "x_test.shape,x_val.shape,x_train.shape"
      ],
      "metadata": {
        "colab": {
          "base_uri": "https://localhost:8080/"
        },
        "id": "yD0Vj1F6X7Wj",
        "outputId": "8f929aef-a51b-4dbc-f57f-c3600818aec3"
      },
      "execution_count": null,
      "outputs": [
        {
          "output_type": "execute_result",
          "data": {
            "text/plain": [
              "((367,), (856,), (2853,))"
            ]
          },
          "metadata": {},
          "execution_count": 18
        }
      ]
    },
    {
      "cell_type": "code",
      "source": [
        "encoder =LabelEncoder()\n",
        "y_train_en= encoder.fit_transform(y_train)\n",
        "y_test_en=encoder.transform(y_test)\n",
        "y_val_en=encoder.transform(y_val)"
      ],
      "metadata": {
        "id": "b5LqBIy6X7RG"
      },
      "execution_count": null,
      "outputs": []
    },
    {
      "cell_type": "code",
      "source": [
        "tokenizer = BertTokenizer.from_pretrained('bert-base-uncased', do_lower_case=True)"
      ],
      "metadata": {
        "colab": {
          "base_uri": "https://localhost:8080/",
          "height": 304,
          "referenced_widgets": [
            "5ff88140c012420491427b6f4e7f0478",
            "ca1dffc1dc3546dfaaa4a8316de6035e",
            "b863752582694910a12dab356edcfc4a",
            "4087d443cd4c475494c7a3ff09441991",
            "952550631af04265944f78c08113a8d4",
            "19c6d3837a46412c9084205692f28efa",
            "5831507cc46e42acbe5920805c454fc3",
            "6c9a6c65019942448dbf9233a0c05fd0",
            "7e2dce17581a487dae8cceb1d23ef80d",
            "e4016b54d05f47dea5cd5fe864665322",
            "989d4b80e304496d8f3bbd7016a7cb0c",
            "8f8a0d0a977d4fa4bbf43ae9d6bc1eca",
            "936db4b3d8eb405b9231cad09aecd7a4",
            "b664d16b8dea404eb3efcfef8585fdbb",
            "9e8d33b103fc49339fbe94443cc2f298",
            "639bfc47679c431582aae86b9e912ce9",
            "ddac30300edb4f2789d39ccb2c4ae66f",
            "57cfc4adead743aaa38357b313f9ed26",
            "030dd56a5a2449c48ffe4c9a042253c8",
            "19db3ee5c9474ead9d8ba6c078565f23",
            "bc805389b9d9434ea7963424f0229b90",
            "3df72e54c0c94913915492a9252d45c0",
            "163a77f6da7d4eb9b60a03be73cf0bc6",
            "cba51f413d054fa2b8b69d482e0e9667",
            "26693abe858444c487bd6b23f8fe2481",
            "37483db64b0f4294a990c113a497932f",
            "8bf9de9ddfa04c9a820d23d3b85f91b9",
            "20b6a4cd8bdd4577afbf7fbc575c847e",
            "fd8b3f00ae9e425594cc4ae30a8b8531",
            "90c09ce30bce43cfbb3b2fdc1b0d18b3",
            "e88351a895b54cb087dc1cd7650f28fb",
            "688c310ce57b49ee8514e5f5cc171253",
            "c43f8948506945d28dd03d759acd750b",
            "e960f058a54341038186fee16f5d27d1",
            "97467631c6b344afbd90162c2b442748",
            "33e9d93171034d359a79fa4fea4a0997",
            "117535e20c5445a1a911cb7e7fc85421",
            "e96118e1ace24a818b20e82a27096abd",
            "9cfddefdce87443b9ffa41bf014f1688",
            "a59753aea38843c3bcb704c6e8716d0a",
            "999808bb28b84aa39a5abff7942bf089",
            "bb221b0b44734eaf85e35a2821d66861",
            "9f72af523efd4db7bb414fb514da450c",
            "ae9c17ee40b640b09ea96e3688a3dfcf"
          ]
        },
        "id": "Cdao7UTyX7Mx",
        "outputId": "c86d62f2-4a0c-48a0-e5c6-fcddb5e384c5"
      },
      "execution_count": null,
      "outputs": [
        {
          "output_type": "stream",
          "name": "stderr",
          "text": [
            "/usr/local/lib/python3.10/dist-packages/huggingface_hub/utils/_token.py:89: UserWarning: \n",
            "The secret `HF_TOKEN` does not exist in your Colab secrets.\n",
            "To authenticate with the Hugging Face Hub, create a token in your settings tab (https://huggingface.co/settings/tokens), set it as secret in your Google Colab and restart your session.\n",
            "You will be able to reuse this secret in all of your notebooks.\n",
            "Please note that authentication is recommended but still optional to access public models or datasets.\n",
            "  warnings.warn(\n"
          ]
        },
        {
          "output_type": "display_data",
          "data": {
            "text/plain": [
              "tokenizer_config.json:   0%|          | 0.00/48.0 [00:00<?, ?B/s]"
            ],
            "application/vnd.jupyter.widget-view+json": {
              "version_major": 2,
              "version_minor": 0,
              "model_id": "5ff88140c012420491427b6f4e7f0478"
            }
          },
          "metadata": {}
        },
        {
          "output_type": "display_data",
          "data": {
            "text/plain": [
              "vocab.txt:   0%|          | 0.00/232k [00:00<?, ?B/s]"
            ],
            "application/vnd.jupyter.widget-view+json": {
              "version_major": 2,
              "version_minor": 0,
              "model_id": "8f8a0d0a977d4fa4bbf43ae9d6bc1eca"
            }
          },
          "metadata": {}
        },
        {
          "output_type": "display_data",
          "data": {
            "text/plain": [
              "tokenizer.json:   0%|          | 0.00/466k [00:00<?, ?B/s]"
            ],
            "application/vnd.jupyter.widget-view+json": {
              "version_major": 2,
              "version_minor": 0,
              "model_id": "163a77f6da7d4eb9b60a03be73cf0bc6"
            }
          },
          "metadata": {}
        },
        {
          "output_type": "stream",
          "name": "stderr",
          "text": [
            "/usr/local/lib/python3.10/dist-packages/huggingface_hub/file_download.py:1132: FutureWarning: `resume_download` is deprecated and will be removed in version 1.0.0. Downloads always resume when possible. If you want to force a new download, use `force_download=True`.\n",
            "  warnings.warn(\n"
          ]
        },
        {
          "output_type": "display_data",
          "data": {
            "text/plain": [
              "config.json:   0%|          | 0.00/570 [00:00<?, ?B/s]"
            ],
            "application/vnd.jupyter.widget-view+json": {
              "version_major": 2,
              "version_minor": 0,
              "model_id": "e960f058a54341038186fee16f5d27d1"
            }
          },
          "metadata": {}
        }
      ]
    },
    {
      "cell_type": "code",
      "source": [
        "max_length=512"
      ],
      "metadata": {
        "id": "wJRp711HX7GO"
      },
      "execution_count": null,
      "outputs": []
    },
    {
      "cell_type": "code",
      "source": [
        "tokenizer"
      ],
      "metadata": {
        "colab": {
          "base_uri": "https://localhost:8080/"
        },
        "id": "CgxRS0ayX68Q",
        "outputId": "5f8391a5-46f7-44fa-ad20-9e40ff9144b5"
      },
      "execution_count": null,
      "outputs": [
        {
          "output_type": "execute_result",
          "data": {
            "text/plain": [
              "BertTokenizer(name_or_path='bert-base-uncased', vocab_size=30522, model_max_length=512, is_fast=False, padding_side='right', truncation_side='right', special_tokens={'unk_token': '[UNK]', 'sep_token': '[SEP]', 'pad_token': '[PAD]', 'cls_token': '[CLS]', 'mask_token': '[MASK]'}, clean_up_tokenization_spaces=True),  added_tokens_decoder={\n",
              "\t0: AddedToken(\"[PAD]\", rstrip=False, lstrip=False, single_word=False, normalized=False, special=True),\n",
              "\t100: AddedToken(\"[UNK]\", rstrip=False, lstrip=False, single_word=False, normalized=False, special=True),\n",
              "\t101: AddedToken(\"[CLS]\", rstrip=False, lstrip=False, single_word=False, normalized=False, special=True),\n",
              "\t102: AddedToken(\"[SEP]\", rstrip=False, lstrip=False, single_word=False, normalized=False, special=True),\n",
              "\t103: AddedToken(\"[MASK]\", rstrip=False, lstrip=False, single_word=False, normalized=False, special=True),\n",
              "}"
            ]
          },
          "metadata": {},
          "execution_count": 22
        }
      ]
    },
    {
      "cell_type": "code",
      "source": [
        "X_train_tokenized = tokenizer(\n",
        "    x_train.values.tolist(),    # passing the data as a list to the tokenizer\n",
        "    max_length=max_length,    # specifies the maximum length of the tokenized data\n",
        "    padding='max_length',    # padding the data to the specified maximum length\n",
        "    truncation=True,    # truncating the input if it is longer than the specified maximum length\n",
        "    return_attention_mask=True,    # specifying to return attention masks\n",
        "    return_tensors='tf',    # specifying to return the output as tensorflow tensors\n",
        ")"
      ],
      "metadata": {
        "id": "9FeZjs-WX6rV"
      },
      "execution_count": null,
      "outputs": []
    },
    {
      "cell_type": "code",
      "source": [
        "X_train_tokenized"
      ],
      "metadata": {
        "colab": {
          "base_uri": "https://localhost:8080/"
        },
        "id": "Ax8NZ7ovX6UK",
        "outputId": "a74b0b82-6c9f-4205-f814-89c87563af85"
      },
      "execution_count": null,
      "outputs": [
        {
          "output_type": "execute_result",
          "data": {
            "text/plain": [
              "{'input_ids': <tf.Tensor: shape=(2853, 512), dtype=int32, numpy=\n",
              "array([[  101, 13229, 11236, ...,  2480,  5196,   102],\n",
              "       [  101, 13229,  3270, ...,  2003,  2045,   102],\n",
              "       [  101, 13229,  9103, ...,  1997,  1996,   102],\n",
              "       ...,\n",
              "       [  101, 13229, 10760, ...,     0,     0,     0],\n",
              "       [  101,  5553,  2638, ...,  6043,  6464,   102],\n",
              "       [  101, 13229, 24415, ...,     0,     0,     0]], dtype=int32)>, 'token_type_ids': <tf.Tensor: shape=(2853, 512), dtype=int32, numpy=\n",
              "array([[0, 0, 0, ..., 0, 0, 0],\n",
              "       [0, 0, 0, ..., 0, 0, 0],\n",
              "       [0, 0, 0, ..., 0, 0, 0],\n",
              "       ...,\n",
              "       [0, 0, 0, ..., 0, 0, 0],\n",
              "       [0, 0, 0, ..., 0, 0, 0],\n",
              "       [0, 0, 0, ..., 0, 0, 0]], dtype=int32)>, 'attention_mask': <tf.Tensor: shape=(2853, 512), dtype=int32, numpy=\n",
              "array([[1, 1, 1, ..., 1, 1, 1],\n",
              "       [1, 1, 1, ..., 1, 1, 1],\n",
              "       [1, 1, 1, ..., 1, 1, 1],\n",
              "       ...,\n",
              "       [1, 1, 1, ..., 0, 0, 0],\n",
              "       [1, 1, 1, ..., 1, 1, 1],\n",
              "       [1, 1, 1, ..., 0, 0, 0]], dtype=int32)>}"
            ]
          },
          "metadata": {},
          "execution_count": 24
        }
      ]
    },
    {
      "cell_type": "code",
      "source": [
        "X_valid_tokenized = tokenizer(\n",
        "    x_val.values.tolist(),\n",
        "    max_length=max_length,\n",
        "    padding='max_length',\n",
        "    truncation=True,\n",
        "    return_attention_mask=True,\n",
        "    return_tensors='tf',\n",
        ")"
      ],
      "metadata": {
        "id": "bYRAW4g5qM0i"
      },
      "execution_count": null,
      "outputs": []
    },
    {
      "cell_type": "code",
      "source": [
        "X_test_tockenized=tokenizer(\n",
        "    x_test.values.tolist(),\n",
        "    max_length=max_length,\n",
        "    padding=\"max_length\",\n",
        "    truncation=True,\n",
        "    return_attention_mask=True,\n",
        "    return_tensors='tf',\n",
        ")"
      ],
      "metadata": {
        "id": "u0regXb1UMYy"
      },
      "execution_count": null,
      "outputs": []
    },
    {
      "cell_type": "code",
      "source": [
        "X_valid_tokenized"
      ],
      "metadata": {
        "colab": {
          "base_uri": "https://localhost:8080/"
        },
        "id": "XOsDggVVpwTI",
        "outputId": "c35f8919-ebfe-489a-c0ed-b0218c6b0199"
      },
      "execution_count": null,
      "outputs": [
        {
          "output_type": "execute_result",
          "data": {
            "text/plain": [
              "{'input_ids': <tf.Tensor: shape=(856, 512), dtype=int32, numpy=\n",
              "array([[  101,  2414, 13229, ...,  2369,  1998,   102],\n",
              "       [  101, 13229, 10760, ...,  2050, 15456,   102],\n",
              "       [  101, 13229, 10631, ...,  2079,  2000,   102],\n",
              "       ...,\n",
              "       [  101,  4199, 13229, ...,     0,     0,     0],\n",
              "       [  101, 13229, 10760, ...,  2847,  2077,   102],\n",
              "       [  101, 13229, 10760, ...,  2019,  2035,   102]], dtype=int32)>, 'token_type_ids': <tf.Tensor: shape=(856, 512), dtype=int32, numpy=\n",
              "array([[0, 0, 0, ..., 0, 0, 0],\n",
              "       [0, 0, 0, ..., 0, 0, 0],\n",
              "       [0, 0, 0, ..., 0, 0, 0],\n",
              "       ...,\n",
              "       [0, 0, 0, ..., 0, 0, 0],\n",
              "       [0, 0, 0, ..., 0, 0, 0],\n",
              "       [0, 0, 0, ..., 0, 0, 0]], dtype=int32)>, 'attention_mask': <tf.Tensor: shape=(856, 512), dtype=int32, numpy=\n",
              "array([[1, 1, 1, ..., 1, 1, 1],\n",
              "       [1, 1, 1, ..., 1, 1, 1],\n",
              "       [1, 1, 1, ..., 1, 1, 1],\n",
              "       ...,\n",
              "       [1, 1, 1, ..., 0, 0, 0],\n",
              "       [1, 1, 1, ..., 1, 1, 1],\n",
              "       [1, 1, 1, ..., 1, 1, 1]], dtype=int32)>}"
            ]
          },
          "metadata": {},
          "execution_count": 27
        }
      ]
    },
    {
      "cell_type": "markdown",
      "source": [
        "# converting to data set\n"
      ],
      "metadata": {
        "id": "9YUZkX9xqXqa"
      }
    },
    {
      "cell_type": "code",
      "source": [],
      "metadata": {
        "id": "7EYhp8qxugXf"
      },
      "execution_count": null,
      "outputs": []
    },
    {
      "cell_type": "code",
      "source": [
        "batch_size=8\n",
        "train_tockenized_tf= tf.data.Dataset.from_tensor_slices((dict(X_train_tokenized),y_train_en)).batch(batch_size)"
      ],
      "metadata": {
        "id": "d0SKp1sMt8j3"
      },
      "execution_count": null,
      "outputs": []
    },
    {
      "cell_type": "code",
      "source": [
        "val_tockenized_tf=tf.data.Dataset.from_tensor_slices((dict(X_valid_tokenized),y_val_en)).batch(batch_size)"
      ],
      "metadata": {
        "id": "BRxQxJXsul0e"
      },
      "execution_count": null,
      "outputs": []
    },
    {
      "cell_type": "code",
      "source": [
        "test_tockenized_tf=tf.data.Dataset.from_tensor_slices((dict(X_test_tockenized),y_test_en)).batch(batch_size)"
      ],
      "metadata": {
        "id": "eB-vCwR-vKo5"
      },
      "execution_count": null,
      "outputs": []
    },
    {
      "cell_type": "markdown",
      "source": [
        "## Model building"
      ],
      "metadata": {
        "id": "Vw7Chn1wvpyt"
      }
    },
    {
      "cell_type": "code",
      "source": [
        "test_tockenized_tf"
      ],
      "metadata": {
        "colab": {
          "base_uri": "https://localhost:8080/"
        },
        "id": "zy6YK7eCvwOB",
        "outputId": "5ae75074-0516-4988-c612-9f85017c6e68"
      },
      "execution_count": null,
      "outputs": [
        {
          "output_type": "execute_result",
          "data": {
            "text/plain": [
              "<_BatchDataset element_spec=({'input_ids': TensorSpec(shape=(None, 512), dtype=tf.int32, name=None), 'token_type_ids': TensorSpec(shape=(None, 512), dtype=tf.int32, name=None), 'attention_mask': TensorSpec(shape=(None, 512), dtype=tf.int32, name=None)}, TensorSpec(shape=(None,), dtype=tf.int64, name=None))>"
            ]
          },
          "metadata": {},
          "execution_count": 31
        }
      ]
    },
    {
      "cell_type": "code",
      "source": [
        "n_num=y.nunique()\n",
        "n_num"
      ],
      "metadata": {
        "colab": {
          "base_uri": "https://localhost:8080/"
        },
        "id": "oPV4Vx2Lvzkd",
        "outputId": "ca60153d-b5b3-43e6-da13-b83a7e7e05a5"
      },
      "execution_count": null,
      "outputs": [
        {
          "output_type": "execute_result",
          "data": {
            "text/plain": [
              "6"
            ]
          },
          "metadata": {},
          "execution_count": 32
        }
      ]
    },
    {
      "cell_type": "code",
      "source": [
        "# Model initialization using BERT for sequence classification\n",
        "model = TFBertForSequenceClassification.from_pretrained('bert-base-uncased', num_labels=n_num)\n"
      ],
      "metadata": {
        "colab": {
          "base_uri": "https://localhost:8080/",
          "height": 118,
          "referenced_widgets": [
            "dff641cd484749f1b96fa18d65146ca6",
            "e5301e09d2be45a3a9c5fdaa9743e29c",
            "2d74855f3c9344e78b987e96dc10e574",
            "5dacaae59c8a45c694a650a685974eca",
            "340bfcc19fd34104912f16f0101a8536",
            "3af60ea280dc469abf5204ed2a0cf757",
            "c82bb3bdc72c436d9f31f6ca8746e735",
            "7ee87ddff6994414a1a6cd4fc93f75e0",
            "151ea789c9534427a559949c82713030",
            "aef93e5d5b2548e0a923ca46f5e573cd",
            "b29e1cf7946e42fcb56482b4f2bdc408"
          ]
        },
        "id": "4IUVRQuPv5m3",
        "outputId": "69c2b9bf-cfde-4a03-a07c-b3eace8d6c4c"
      },
      "execution_count": null,
      "outputs": [
        {
          "output_type": "display_data",
          "data": {
            "text/plain": [
              "model.safetensors:   0%|          | 0.00/440M [00:00<?, ?B/s]"
            ],
            "application/vnd.jupyter.widget-view+json": {
              "version_major": 2,
              "version_minor": 0,
              "model_id": "dff641cd484749f1b96fa18d65146ca6"
            }
          },
          "metadata": {}
        },
        {
          "output_type": "stream",
          "name": "stderr",
          "text": [
            "All PyTorch model weights were used when initializing TFBertForSequenceClassification.\n",
            "\n",
            "Some weights or buffers of the TF 2.0 model TFBertForSequenceClassification were not initialized from the PyTorch model and are newly initialized: ['classifier.weight', 'classifier.bias']\n",
            "You should probably TRAIN this model on a down-stream task to be able to use it for predictions and inference.\n"
          ]
        }
      ]
    },
    {
      "cell_type": "code",
      "source": [
        "model.summary()"
      ],
      "metadata": {
        "colab": {
          "base_uri": "https://localhost:8080/"
        },
        "id": "lgGbZqiqwG_8",
        "outputId": "3b87664f-7ede-4ae5-fd8f-376495c33bdf"
      },
      "execution_count": null,
      "outputs": [
        {
          "output_type": "stream",
          "name": "stdout",
          "text": [
            "Model: \"tf_bert_for_sequence_classification\"\n",
            "_________________________________________________________________\n",
            " Layer (type)                Output Shape              Param #   \n",
            "=================================================================\n",
            " bert (TFBertMainLayer)      multiple                  109482240 \n",
            "                                                                 \n",
            " dropout_37 (Dropout)        multiple                  0 (unused)\n",
            "                                                                 \n",
            " classifier (Dense)          multiple                  4614      \n",
            "                                                                 \n",
            "=================================================================\n",
            "Total params: 109486854 (417.66 MB)\n",
            "Trainable params: 109486854 (417.66 MB)\n",
            "Non-trainable params: 0 (0.00 Byte)\n",
            "_________________________________________________________________\n"
          ]
        }
      ]
    },
    {
      "cell_type": "code",
      "source": [
        "## Fine Tuning\n",
        "loss = tf.keras.losses.SparseCategoricalCrossentropy(from_logits=True)\n",
        "optimer=tf.keras.optimizers.Adam(learning_rate=0.0001,epsilon=1e-08)\n",
        "metrics=[\"accuracy\"]\n",
        "model.compile(optimizer=optimer,loss=loss,metrics=metrics)"
      ],
      "metadata": {
        "id": "J5K30wf6wvVg"
      },
      "execution_count": null,
      "outputs": []
    },
    {
      "cell_type": "code",
      "source": [
        "(y_train_en.shape[0]) / np.bincount(y_train_en)"
      ],
      "metadata": {
        "colab": {
          "base_uri": "https://localhost:8080/"
        },
        "id": "flI97jHoxgR5",
        "outputId": "0c97d91d-be4a-453e-c25e-972174f42faa"
      },
      "execution_count": null,
      "outputs": [
        {
          "output_type": "execute_result",
          "data": {
            "text/plain": [
              "array([38.55405405, 63.4       , 67.92857143,  2.53149956, 59.4375    ,\n",
              "        1.88068556])"
            ]
          },
          "metadata": {},
          "execution_count": 36
        }
      ]
    },
    {
      "cell_type": "code",
      "source": [
        "np.bincount(y_train_en)"
      ],
      "metadata": {
        "colab": {
          "base_uri": "https://localhost:8080/"
        },
        "id": "Rg1yq_ETzo9W",
        "outputId": "b036df05-1d8b-46f9-90a8-6a7120c4bc6e"
      },
      "execution_count": null,
      "outputs": [
        {
          "output_type": "execute_result",
          "data": {
            "text/plain": [
              "array([  74,   45,   42, 1127,   48, 1517])"
            ]
          },
          "metadata": {},
          "execution_count": 37
        }
      ]
    },
    {
      "cell_type": "code",
      "source": [
        "y_train_en"
      ],
      "metadata": {
        "colab": {
          "base_uri": "https://localhost:8080/"
        },
        "id": "jVBZ-LEIzzVH",
        "outputId": "f8d1f534-3bbb-4f0a-c727-d1b19fe9880a"
      },
      "execution_count": null,
      "outputs": [
        {
          "output_type": "execute_result",
          "data": {
            "text/plain": [
              "array([5, 5, 5, ..., 5, 0, 5])"
            ]
          },
          "metadata": {},
          "execution_count": 38
        }
      ]
    },
    {
      "cell_type": "code",
      "source": [
        "y_train_en.shape[0]"
      ],
      "metadata": {
        "colab": {
          "base_uri": "https://localhost:8080/"
        },
        "id": "Tt3UKj9iz60r",
        "outputId": "f4ed5eb7-8592-4479-952b-676f24065f83"
      },
      "execution_count": null,
      "outputs": [
        {
          "output_type": "execute_result",
          "data": {
            "text/plain": [
              "2853"
            ]
          },
          "metadata": {},
          "execution_count": 39
        }
      ]
    },
    {
      "cell_type": "code",
      "source": [
        "# Calculate class weights for imbalanced dataset\n",
        "cw = (y_train_en.shape[0]) / np.bincount(y_train_en)\n",
        "\n",
        "# Create a dictionary mapping class indices to their respective class weights\n",
        "cw_dict = {}\n",
        "for i in range(cw.shape[0]):\n",
        "    cw_dict[encoder.transform(encoder.classes_)[i]] = cw[i]"
      ],
      "metadata": {
        "id": "doawSJpBz-XU"
      },
      "execution_count": null,
      "outputs": []
    },
    {
      "cell_type": "code",
      "source": [
        "cw"
      ],
      "metadata": {
        "colab": {
          "base_uri": "https://localhost:8080/"
        },
        "id": "3YnpDmZq0LX3",
        "outputId": "8d2bf4f2-51d6-40fc-d402-75ac71efb381"
      },
      "execution_count": null,
      "outputs": [
        {
          "output_type": "execute_result",
          "data": {
            "text/plain": [
              "array([38.55405405, 63.4       , 67.92857143,  2.53149956, 59.4375    ,\n",
              "        1.88068556])"
            ]
          },
          "metadata": {},
          "execution_count": 41
        }
      ]
    },
    {
      "cell_type": "code",
      "source": [
        "# Number of training epochs\n",
        "n_epochs = 3\n",
        "\n",
        "bert_base_tuned = model.fit(train_tockenized_tf, epochs=n_epochs, validation_data=val_tockenized_tf, class_weight=cw_dict)"
      ],
      "metadata": {
        "colab": {
          "base_uri": "https://localhost:8080/"
        },
        "id": "5vJE3sk20QnC",
        "outputId": "bdb2bdc5-ca17-4b18-fec3-9d3cd6cd0d15"
      },
      "execution_count": null,
      "outputs": [
        {
          "output_type": "stream",
          "name": "stdout",
          "text": [
            "Epoch 1/3\n"
          ]
        },
        {
          "output_type": "stream",
          "name": "stderr",
          "text": [
            "WARNING:tensorflow:AutoGraph could not transform <function infer_framework at 0x7b0ec627af80> and will run it as-is.\n",
            "Cause: for/else statement not yet supported\n",
            "To silence this warning, decorate the function with @tf.autograph.experimental.do_not_convert\n"
          ]
        },
        {
          "output_type": "stream",
          "name": "stdout",
          "text": [
            "WARNING: AutoGraph could not transform <function infer_framework at 0x7b0ec627af80> and will run it as-is.\n",
            "Cause: for/else statement not yet supported\n",
            "To silence this warning, decorate the function with @tf.autograph.experimental.do_not_convert\n",
            "357/357 [==============================] - 186s 300ms/step - loss: 11.0794 - accuracy: 0.0883 - val_loss: 1.7056 - val_accuracy: 0.0245\n",
            "Epoch 2/3\n",
            "357/357 [==============================] - 90s 253ms/step - loss: 10.9833 - accuracy: 0.0691 - val_loss: 1.6545 - val_accuracy: 0.5409\n",
            "Epoch 3/3\n",
            "357/357 [==============================] - 90s 253ms/step - loss: 10.9550 - accuracy: 0.0698 - val_loss: 1.7683 - val_accuracy: 0.0070\n"
          ]
        }
      ]
    },
    {
      "cell_type": "code",
      "source": [
        "# Generate raw predictions on the validation dataset using the trained model\n",
        "preds_raw_val = model.predict(val_tockenized_tf)\n",
        "\n",
        "# Extract predicted labels by finding the index with the highest probability for each example\n",
        "preds_val = np.argmax(np.array(tf.nn.softmax(preds_raw_val.logits)), axis=1)\n",
        "\n",
        "# Display the shape of the predicted labels array\n",
        "preds_val.shape"
      ],
      "metadata": {
        "colab": {
          "base_uri": "https://localhost:8080/"
        },
        "id": "1OeMYcTr_M2C",
        "outputId": "7d92544d-b086-4b9a-9f34-66ef2751222f"
      },
      "execution_count": null,
      "outputs": [
        {
          "output_type": "stream",
          "name": "stdout",
          "text": [
            "107/107 [==============================] - 18s 84ms/step\n"
          ]
        },
        {
          "output_type": "execute_result",
          "data": {
            "text/plain": [
              "(856,)"
            ]
          },
          "metadata": {},
          "execution_count": 44
        }
      ]
    },
    {
      "cell_type": "code",
      "source": [
        "# retrieving the labels from the tensorflow dataset\n",
        "actual_val = np.concatenate([y for x, y in val_tockenized_tf], axis=0)\n",
        "\n",
        "# Creating confusion matrix\n",
        "cnf_mt = metrics.confusion_matrix(actual_val, preds_val)\n",
        "\n",
        "# Visualizing confusion matrix using a heatmap\n",
        "labels = encoder.classes_.tolist()\n",
        "sns.heatmap(cnf_mt, annot=True, fmt='d', cmap='Blues', xticklabels=labels, yticklabels=labels)\n",
        "plt.xlabel('Predicted')\n",
        "plt.ylabel('Actual')\n",
        "plt.title('Confusion Matrix')\n",
        "plt.show()"
      ],
      "metadata": {
        "colab": {
          "base_uri": "https://localhost:8080/",
          "height": 558
        },
        "id": "Xtf0qGFYDvJe",
        "outputId": "64d9cc8d-ff16-4b4a-9981-7cce09783eba"
      },
      "execution_count": null,
      "outputs": [
        {
          "output_type": "display_data",
          "data": {
            "text/plain": [
              "<Figure size 640x480 with 2 Axes>"
            ],
            "image/png": "[encoded data removed]"
          },
          "metadata": {}
        }
      ]
    },
    {
      "cell_type": "code",
      "source": [
        "# Display classification report\n",
        "print('Classification Report:')\n",
        "print(metrics.classification_report(actual_val, preds_val))"
      ],
      "metadata": {
        "colab": {
          "base_uri": "https://localhost:8080/"
        },
        "id": "QT3RJvl1D4pv",
        "outputId": "b1554222-cd99-4a95-d485-0d0a9099a808"
      },
      "execution_count": null,
      "outputs": [
        {
          "output_type": "stream",
          "name": "stdout",
          "text": [
            "Classification Report:\n",
            "              precision    recall  f1-score   support\n",
            "\n",
            "           0       0.00      0.00      0.00        21\n",
            "           1       0.00      0.00      0.00        10\n",
            "           2       0.01      1.00      0.01         6\n",
            "           3       0.00      0.00      0.00       337\n",
            "           4       0.00      0.00      0.00        19\n",
            "           5       0.00      0.00      0.00       463\n",
            "\n",
            "    accuracy                           0.01       856\n",
            "   macro avg       0.00      0.17      0.00       856\n",
            "weighted avg       0.00      0.01      0.00       856\n",
            "\n"
          ]
        },
        {
          "output_type": "stream",
          "name": "stderr",
          "text": [
            "/usr/local/lib/python3.10/dist-packages/sklearn/metrics/_classification.py:1344: UndefinedMetricWarning: Precision and F-score are ill-defined and being set to 0.0 in labels with no predicted samples. Use `zero_division` parameter to control this behavior.\n",
            "  _warn_prf(average, modifier, msg_start, len(result))\n",
            "/usr/local/lib/python3.10/dist-packages/sklearn/metrics/_classification.py:1344: UndefinedMetricWarning: Precision and F-score are ill-defined and being set to 0.0 in labels with no predicted samples. Use `zero_division` parameter to control this behavior.\n",
            "  _warn_prf(average, modifier, msg_start, len(result))\n",
            "/usr/local/lib/python3.10/dist-packages/sklearn/metrics/_classification.py:1344: UndefinedMetricWarning: Precision and F-score are ill-defined and being set to 0.0 in labels with no predicted samples. Use `zero_division` parameter to control this behavior.\n",
            "  _warn_prf(average, modifier, msg_start, len(result))\n"
          ]
        }
      ]
    },
    {
      "cell_type": "code",
      "source": [
        "# Predictions\n",
        "preds_raw_test = model.predict(test_tockenized_tf)\n",
        "preds_test = np.argmax(np.array(tf.nn.softmax(preds_raw_test.logits)), axis=1)\n",
        "preds_test.shape"
      ],
      "metadata": {
        "colab": {
          "base_uri": "https://localhost:8080/"
        },
        "id": "bLinSfQmEonX",
        "outputId": "ee44995e-101f-491d-9b7e-4aa630b3ec02"
      },
      "execution_count": null,
      "outputs": [
        {
          "output_type": "stream",
          "name": "stdout",
          "text": [
            "46/46 [==============================] - 4s 84ms/step\n"
          ]
        },
        {
          "output_type": "execute_result",
          "data": {
            "text/plain": [
              "(367,)"
            ]
          },
          "metadata": {},
          "execution_count": 52
        }
      ]
    },
    {
      "cell_type": "code",
      "source": [
        "# retrieving the labels from the tensorflow dataset\n",
        "actual_test = np.concatenate([y for x, y in test_tockenized_tf], axis=0)\n",
        "\n",
        "# Creating confusion matrix\n",
        "cnf_mt = metrics.confusion_matrix(actual_test, preds_test)\n",
        "\n",
        "# Visualizing confusion matrix using a heatmap\n",
        "labels = encoder.classes_.tolist()\n",
        "sns.heatmap(cnf_mt, annot=True, fmt='d', cmap='Blues', xticklabels=labels, yticklabels=labels)\n",
        "plt.xlabel('Predicted')\n",
        "plt.ylabel('Actual')\n",
        "plt.title('Confusion Matrix')\n",
        "plt.show()"
      ],
      "metadata": {
        "colab": {
          "base_uri": "https://localhost:8080/",
          "height": 558
        },
        "id": "9BeLk32IEzjy",
        "outputId": "e33a1497-c5a4-48b5-bcda-49a90f7a0656"
      },
      "execution_count": null,
      "outputs": [
        {
          "output_type": "display_data",
          "data": {
            "text/plain": [
              "<Figure size 640x480 with 2 Axes>"
            ],
            "image/png": "[encoded data removed]"
          },
          "metadata": {}
        }
      ]
    },
    {
      "cell_type": "code",
      "source": [
        "# Display classification report\n",
        "print('Classification Report:')\n",
        "print(metrics.classification_report(actual_test, preds_test))"
      ],
      "metadata": {
        "colab": {
          "base_uri": "https://localhost:8080/"
        },
        "id": "HzlK2QqUE99Q",
        "outputId": "584270dc-e3d3-42c9-fcbb-883823eea393"
      },
      "execution_count": null,
      "outputs": [
        {
          "output_type": "stream",
          "name": "stdout",
          "text": [
            "Classification Report:\n",
            "              precision    recall  f1-score   support\n",
            "\n",
            "           0       0.00      0.00      0.00         9\n",
            "           1       0.00      0.00      0.00         3\n",
            "           2       0.01      1.00      0.02         4\n",
            "           3       0.00      0.00      0.00       147\n",
            "           4       0.00      0.00      0.00         8\n",
            "           5       0.00      0.00      0.00       196\n",
            "\n",
            "    accuracy                           0.01       367\n",
            "   macro avg       0.00      0.17      0.00       367\n",
            "weighted avg       0.00      0.01      0.00       367\n",
            "\n"
          ]
        },
        {
          "output_type": "stream",
          "name": "stderr",
          "text": [
            "/usr/local/lib/python3.10/dist-packages/sklearn/metrics/_classification.py:1344: UndefinedMetricWarning: Precision and F-score are ill-defined and being set to 0.0 in labels with no predicted samples. Use `zero_division` parameter to control this behavior.\n",
            "  _warn_prf(average, modifier, msg_start, len(result))\n",
            "/usr/local/lib/python3.10/dist-packages/sklearn/metrics/_classification.py:1344: UndefinedMetricWarning: Precision and F-score are ill-defined and being set to 0.0 in labels with no predicted samples. Use `zero_division` parameter to control this behavior.\n",
            "  _warn_prf(average, modifier, msg_start, len(result))\n",
            "/usr/local/lib/python3.10/dist-packages/sklearn/metrics/_classification.py:1344: UndefinedMetricWarning: Precision and F-score are ill-defined and being set to 0.0 in labels with no predicted samples. Use `zero_division` parameter to control this behavior.\n",
            "  _warn_prf(average, modifier, msg_start, len(result))\n"
          ]
        }
      ]
    },
    {
      "cell_type": "code",
      "source": [],
      "metadata": {
        "id": "sIteiIs2FATY"
      },
      "execution_count": null,
      "outputs": []
    },
    {
      "cell_type": "code",
      "source": [],
      "metadata": {
        "id": "xf8jdPjJT9t4"
      },
      "execution_count": null,
      "outputs": []
    }
  ]
}