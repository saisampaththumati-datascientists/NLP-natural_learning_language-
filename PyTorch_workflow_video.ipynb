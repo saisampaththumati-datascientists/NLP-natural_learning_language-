{
  "nbformat": 4,
  "nbformat_minor": 0,
  "metadata": {
    "colab": {
      "provenance": [],
      "authorship_tag": "ABX9TyO3ejW9u1A7YVSvEfQHawX7",
      "include_colab_link": true
    },
    "kernelspec": {
      "name": "python3",
      "display_name": "Python 3"
    },
    "language_info": {
      "name": "python"
    }
  },
  "cells": [
    {
      "cell_type": "markdown",
      "metadata": {
        "id": "view-in-github",
        "colab_type": "text"
      },
      "source": [
        "<a href=\"https://colab.research.google.com/github/saisampaththumati-datascientists/NLP-natural_learning_language-/blob/main/PyTorch_workflow_video.ipynb\" target=\"_parent\"><img src=\"https://colab.research.google.com/assets/colab-badge.svg\" alt=\"Open In Colab\"/></a>"
      ]
    },
    {
      "cell_type": "code",
      "execution_count": 1,
      "metadata": {
        "id": "zYjCrm2tVIWz"
      },
      "outputs": [],
      "source": [
        "import torch\n",
        "from torch import nn# neural network contain the building block\n",
        "import matplotlib.pyplot as plt"
      ]
    },
    {
      "cell_type": "markdown",
      "source": [
        "### Data Preparing and loading\n",
        "Data can be almost anything\n",
        "* excel spead sheet\n",
        "* images of any king\n",
        "* videos\n",
        "* Audio\n",
        "* DNA\n",
        "* Text\n",
        "Machine learning is a game of two parts:\n",
        "1 Get the data into numerical represntation\n",
        "2 build a model to learn the patterns in that numerical representation."
      ],
      "metadata": {
        "id": "ftwKfCMcV8YP"
      }
    },
    {
      "cell_type": "code",
      "source": [
        "# creating the **known** parameter\n",
        "weight =0.7\n",
        "bias=0.3\n",
        "# create\n",
        "start = 0\n",
        "end =1\n",
        "step=0.02\n",
        "X=torch.arange(start=start,end=end,step=step).unsqueeze(dim=1)\n",
        "y=weight*X+bias\n",
        "y[:10],y.shape,X[:10]"
      ],
      "metadata": {
        "colab": {
          "base_uri": "https://localhost:8080/"
        },
        "id": "mHpqfCNBWvhU",
        "outputId": "54285293-18d3-4a51-b1bf-9651476fcb4c"
      },
      "execution_count": 2,
      "outputs": [
        {
          "output_type": "execute_result",
          "data": {
            "text/plain": [
              "(tensor([[0.3000],\n",
              "         [0.3140],\n",
              "         [0.3280],\n",
              "         [0.3420],\n",
              "         [0.3560],\n",
              "         [0.3700],\n",
              "         [0.3840],\n",
              "         [0.3980],\n",
              "         [0.4120],\n",
              "         [0.4260]]),\n",
              " torch.Size([50, 1]),\n",
              " tensor([[0.0000],\n",
              "         [0.0200],\n",
              "         [0.0400],\n",
              "         [0.0600],\n",
              "         [0.0800],\n",
              "         [0.1000],\n",
              "         [0.1200],\n",
              "         [0.1400],\n",
              "         [0.1600],\n",
              "         [0.1800]]))"
            ]
          },
          "metadata": {},
          "execution_count": 2
        }
      ]
    },
    {
      "cell_type": "code",
      "source": [
        "train_split=int(.8*len(X))\n",
        "X_train,y_train=X[:train_split],y[:train_split]\n",
        "X_test,y_test=X[train_split:],y[train_split:]"
      ],
      "metadata": {
        "id": "aSdGH23_XYu5"
      },
      "execution_count": 3,
      "outputs": []
    },
    {
      "cell_type": "code",
      "source": [
        "plt.scatter(x=X_train,y=y_train,label=\"train\")\n",
        "plt.scatter(x=X_test,y=y_test,label=\"test\")\n",
        "plt.legend()"
      ],
      "metadata": {
        "colab": {
          "base_uri": "https://localhost:8080/",
          "height": 447
        },
        "id": "G8JTn7K-Zo1M",
        "outputId": "eb6b8e5f-6681-49a4-fda7-1d7cf04b0c83"
      },
      "execution_count": 4,
      "outputs": [
        {
          "output_type": "execute_result",
          "data": {
            "text/plain": [
              "<matplotlib.legend.Legend at 0x78d9376a1600>"
            ]
          },
          "metadata": {},
          "execution_count": 4
        },
        {
          "output_type": "display_data",
          "data": {
            "text/plain": [
              "<Figure size 640x480 with 1 Axes>"
            ],
            "image/png": "[encoded data removed]"
          },
          "metadata": {}
        }
      ]
    },
    {
      "cell_type": "markdown",
      "source": [
        "## what the model is going to do ?\n",
        "* start with the random values (weight and bias)\n",
        "* Look at Training and adjust the random values to better represent (or get closer to ) the ideal values\n",
        "How does it do so\n",
        "1. Gradient Decent\n",
        "2. Back Propagation"
      ],
      "metadata": {
        "id": "pnEe3KHodcF5"
      }
    },
    {
      "cell_type": "code",
      "source": [],
      "metadata": {
        "id": "XFBiuts3aEh8"
      },
      "execution_count": 4,
      "outputs": []
    },
    {
      "cell_type": "code",
      "source": [
        "class LinearRegressionModel(nn.Module):\n",
        "    def __init__(self):\n",
        "        super().__init__()\n",
        "        self.weight = nn.Parameter(torch.randn(1, requires_grad=True, dtype=torch.float))\n",
        "        self.bias = nn.Parameter(torch.randn(1, requires_grad=True, dtype=torch.float))\n",
        "\n",
        "    def forward(self, x: torch.Tensor) -> torch.Tensor:\n",
        "        return self.weight * x + self.bias  # this is the linear regression formula\n",
        "# we are creating the linear regression model\n",
        "\n"
      ],
      "metadata": {
        "id": "CXX1AfecsFiF"
      },
      "execution_count": 5,
      "outputs": []
    },
    {
      "cell_type": "markdown",
      "source": [
        "## Pytorch model building essential\n",
        "- torch.nn - contain all of the buildings for computational graph (a nn can be consider consider a computational graph)\n",
        "- nn.Parameter what paramerter should our model try and learn, often a pytorch layer from torch.nn will set these for us\n",
        "- torch.nn.module - the base class for a;;; n modelues , if we subclass it you should over write forword\n",
        "- torch.optim this where the optimizers"
      ],
      "metadata": {
        "id": "PrDyFh7xargN"
      }
    },
    {
      "cell_type": "code",
      "source": [
        "torch.manual_seed(42)\n",
        "model=LinearRegressionModel()\n",
        "list(model.parameters())"
      ],
      "metadata": {
        "colab": {
          "base_uri": "https://localhost:8080/"
        },
        "id": "5R561-xjlrYe",
        "outputId": "849cbd3d-84fa-45a0-f2b1-a6892b0e12e3"
      },
      "execution_count": 6,
      "outputs": [
        {
          "output_type": "execute_result",
          "data": {
            "text/plain": [
              "[Parameter containing:\n",
              " tensor([0.3367], requires_grad=True),\n",
              " Parameter containing:\n",
              " tensor([0.1288], requires_grad=True)]"
            ]
          },
          "metadata": {},
          "execution_count": 6
        }
      ]
    },
    {
      "cell_type": "code",
      "source": [
        "torch.manual_seed(43)\n",
        "torch.randn(1)"
      ],
      "metadata": {
        "colab": {
          "base_uri": "https://localhost:8080/"
        },
        "id": "OoFHMpW-oCjN",
        "outputId": "700ceb2b-135e-4e25-d77a-2911e0c53fc6"
      },
      "execution_count": 7,
      "outputs": [
        {
          "output_type": "execute_result",
          "data": {
            "text/plain": [
              "tensor([-0.6484])"
            ]
          },
          "metadata": {},
          "execution_count": 7
        }
      ]
    },
    {
      "cell_type": "code",
      "source": [
        "model.state_dict()"
      ],
      "metadata": {
        "colab": {
          "base_uri": "https://localhost:8080/"
        },
        "id": "5E_QY2TnoMQZ",
        "outputId": "33f6bd27-1758-41be-ecae-c6bc6859224a"
      },
      "execution_count": 8,
      "outputs": [
        {
          "output_type": "execute_result",
          "data": {
            "text/plain": [
              "OrderedDict([('weight', tensor([0.3367])), ('bias', tensor([0.1288]))])"
            ]
          },
          "metadata": {},
          "execution_count": 8
        }
      ]
    },
    {
      "cell_type": "code",
      "source": [
        "weight,bias"
      ],
      "metadata": {
        "colab": {
          "base_uri": "https://localhost:8080/"
        },
        "id": "EUA7V8nHo7lz",
        "outputId": "6268df65-653f-4893-af1d-0a547de8976f"
      },
      "execution_count": 9,
      "outputs": [
        {
          "output_type": "execute_result",
          "data": {
            "text/plain": [
              "(0.7, 0.3)"
            ]
          },
          "metadata": {},
          "execution_count": 9
        }
      ]
    },
    {
      "cell_type": "markdown",
      "source": [
        "### Making the predicting using `torch.inference_mode()`\n",
        "- To check model predictive powe"
      ],
      "metadata": {
        "id": "alNmelAgpBHO"
      }
    },
    {
      "cell_type": "code",
      "source": [
        "X_test,y_test"
      ],
      "metadata": {
        "colab": {
          "base_uri": "https://localhost:8080/"
        },
        "id": "VCy9yk7PqYtu",
        "outputId": "3ce71497-04c7-4b76-8eee-472447a97667"
      },
      "execution_count": 10,
      "outputs": [
        {
          "output_type": "execute_result",
          "data": {
            "text/plain": [
              "(tensor([[0.8000],\n",
              "         [0.8200],\n",
              "         [0.8400],\n",
              "         [0.8600],\n",
              "         [0.8800],\n",
              "         [0.9000],\n",
              "         [0.9200],\n",
              "         [0.9400],\n",
              "         [0.9600],\n",
              "         [0.9800]]),\n",
              " tensor([[0.8600],\n",
              "         [0.8740],\n",
              "         [0.8880],\n",
              "         [0.9020],\n",
              "         [0.9160],\n",
              "         [0.9300],\n",
              "         [0.9440],\n",
              "         [0.9580],\n",
              "         [0.9720],\n",
              "         [0.9860]]))"
            ]
          },
          "metadata": {},
          "execution_count": 10
        }
      ]
    },
    {
      "cell_type": "code",
      "source": [
        "with torch.inference_mode():\n",
        "  y_prect= model(X_test)\n",
        "\n",
        "y_prect"
      ],
      "metadata": {
        "colab": {
          "base_uri": "https://localhost:8080/"
        },
        "id": "GEUb9z92qBiW",
        "outputId": "f41e16be-41e6-4fe2-f1da-07a151ba2592"
      },
      "execution_count": 11,
      "outputs": [
        {
          "output_type": "execute_result",
          "data": {
            "text/plain": [
              "tensor([[0.3982],\n",
              "        [0.4049],\n",
              "        [0.4116],\n",
              "        [0.4184],\n",
              "        [0.4251],\n",
              "        [0.4318],\n",
              "        [0.4386],\n",
              "        [0.4453],\n",
              "        [0.4520],\n",
              "        [0.4588]])"
            ]
          },
          "metadata": {},
          "execution_count": 11
        }
      ]
    },
    {
      "cell_type": "code",
      "source": [
        "plt.scatter(x=X_train,y=y_train,label=\"train\")\n",
        "plt.scatter(x=X_test,y=y_test,label=\"test\")\n",
        "plt.scatter(x=X_test,y=y_prect,label=\"predict\")\n",
        "plt.legend()"
      ],
      "metadata": {
        "colab": {
          "base_uri": "https://localhost:8080/",
          "height": 447
        },
        "id": "WSq1OgXSqSFv",
        "outputId": "ed732b58-234e-49da-8c79-1ac4b36b272a"
      },
      "execution_count": 12,
      "outputs": [
        {
          "output_type": "execute_result",
          "data": {
            "text/plain": [
              "<matplotlib.legend.Legend at 0x78d93541d7b0>"
            ]
          },
          "metadata": {},
          "execution_count": 12
        },
        {
          "output_type": "display_data",
          "data": {
            "text/plain": [
              "<Figure size 640x480 with 1 Axes>"
            ],
            "image/png": "[encoded data removed]"
          },
          "metadata": {}
        }
      ]
    },
    {
      "cell_type": "markdown",
      "source": [
        "## Traning the model\n",
        "- Lossfunction\n",
        "***Note:*** Criterion in different area\n",
        "* **Loss Function** A function that lower your loss. as low as better the model\n",
        "* **Optimizer** takes into account the loss of the model and adjust the model parameters"
      ],
      "metadata": {
        "id": "j6k7f0aCt7CB"
      }
    },
    {
      "cell_type": "code",
      "source": [
        "model.state_dict()"
      ],
      "metadata": {
        "colab": {
          "base_uri": "https://localhost:8080/"
        },
        "id": "yiHQCgBLJGxs",
        "outputId": "48942909-5cd5-4584-d425-504e8777f357"
      },
      "execution_count": 13,
      "outputs": [
        {
          "output_type": "execute_result",
          "data": {
            "text/plain": [
              "OrderedDict([('weight', tensor([0.3367])), ('bias', tensor([0.1288]))])"
            ]
          },
          "metadata": {},
          "execution_count": 13
        }
      ]
    },
    {
      "cell_type": "code",
      "source": [
        "## l1loss is mae in pytorch\n",
        "loss_fn= nn.L1Loss()\n",
        "#setup optimer\n",
        "optimizer = torch.optim.Adam(model.parameters(),lr=0.01)\n",
        "list(model.parameters())"
      ],
      "metadata": {
        "colab": {
          "base_uri": "https://localhost:8080/"
        },
        "id": "auZGl9yqKbkF",
        "outputId": "df2a24f9-d510-40f8-e7d5-e02d8f86b94a"
      },
      "execution_count": 14,
      "outputs": [
        {
          "output_type": "execute_result",
          "data": {
            "text/plain": [
              "[Parameter containing:\n",
              " tensor([0.3367], requires_grad=True),\n",
              " Parameter containing:\n",
              " tensor([0.1288], requires_grad=True)]"
            ]
          },
          "metadata": {},
          "execution_count": 14
        }
      ]
    },
    {
      "cell_type": "code",
      "source": [
        "epochs=1\n",
        "for epoch in range (epochs):\n",
        "  #set the model to training mode\n",
        "  model.train()\n",
        "  #forword pass\n",
        "  y_pred= model(X_train)\n",
        "  #calucalte the loss\n",
        "  loss=loss_fn(y_pred,y_train)\n",
        "  print(loss)\n",
        "  #optimizer changes\n",
        "  optimizer.zero_grad()\n",
        "  #backward\n",
        "  loss.backward()\n",
        "  #steps for optimizer\n",
        "  optimizer.step()\n",
        "  model.eval()\n",
        "  print(model.state_dict())"
      ],
      "metadata": {
        "colab": {
          "base_uri": "https://localhost:8080/"
        },
        "id": "gq53V4DOK9n-",
        "outputId": "b44e6683-968e-4864-9f05-9f55f029f765"
      },
      "execution_count": 15,
      "outputs": [
        {
          "output_type": "stream",
          "name": "stdout",
          "text": [
            "tensor(0.3129, grad_fn=<MeanBackward0>)\n",
            "OrderedDict([('weight', tensor([0.3467])), ('bias', tensor([0.1388]))])\n"
          ]
        }
      ]
    },
    {
      "cell_type": "markdown",
      "source": [
        "# train the model\n",
        "calculate the loss\n",
        "optimizer\n",
        "perform backpropagation\n",
        "optimizer"
      ],
      "metadata": {
        "id": "NqZ777YCNKG6"
      }
    },
    {
      "cell_type": "code",
      "source": [
        "plt.scatter(x=X_train,y=y_train,label=\"train\")\n",
        "plt.scatter(x=X_test,y=y_test,label=\"test\")\n",
        "plt.scatter(x=X_test,y=y_prect,label=\"predict\")\n",
        "plt.legend()"
      ],
      "metadata": {
        "colab": {
          "base_uri": "https://localhost:8080/",
          "height": 447
        },
        "id": "pc_6B09JUvPl",
        "outputId": "ac83496e-65af-4cdf-a367-79115de7f6c0"
      },
      "execution_count": 16,
      "outputs": [
        {
          "output_type": "execute_result",
          "data": {
            "text/plain": [
              "<matplotlib.legend.Legend at 0x78d932fe79a0>"
            ]
          },
          "metadata": {},
          "execution_count": 16
        },
        {
          "output_type": "display_data",
          "data": {
            "text/plain": [
              "<Figure size 640x480 with 1 Axes>"
            ],
            "image/png": "[encoded data removed]"
          },
          "metadata": {}
        }
      ]
    },
    {
      "cell_type": "code",
      "source": [
        "plt.scatter(x=X_train,y=y_train,label=\"train\")\n",
        "plt.scatter(x=X_test,y=y_test,label=\"test\")\n",
        "plt.scatter(x=X_train,y=y_pred,label=\"predict\")\n",
        "plt.legend()"
      ],
      "metadata": {
        "colab": {
          "base_uri": "https://localhost:8080/",
          "height": 752
        },
        "id": "vjYe3MHHVT_Z",
        "outputId": "eb8ff0a4-f905-4dc8-9c7b-ce2f320631b1"
      },
      "execution_count": 17,
      "outputs": [
        {
          "output_type": "error",
          "ename": "RuntimeError",
          "evalue": "Can't call numpy() on Tensor that requires grad. Use tensor.detach().numpy() instead.",
          "traceback": [
            "\u001b[0;31m---------------------------------------------------------------------------\u001b[0m",
            "\u001b[0;31mRuntimeError\u001b[0m                              Traceback (most recent call last)",
            "\u001b[0;32m<ipython-input-17-31557b50c6c7>\u001b[0m in \u001b[0;36m<cell line: 3>\u001b[0;34m()\u001b[0m\n\u001b[1;32m      1\u001b[0m \u001b[0mplt\u001b[0m\u001b[0;34m.\u001b[0m\u001b[0mscatter\u001b[0m\u001b[0;34m(\u001b[0m\u001b[0mx\u001b[0m\u001b[0;34m=\u001b[0m\u001b[0mX_train\u001b[0m\u001b[0;34m,\u001b[0m\u001b[0my\u001b[0m\u001b[0;34m=\u001b[0m\u001b[0my_train\u001b[0m\u001b[0;34m,\u001b[0m\u001b[0mlabel\u001b[0m\u001b[0;34m=\u001b[0m\u001b[0;34m\"train\"\u001b[0m\u001b[0;34m)\u001b[0m\u001b[0;34m\u001b[0m\u001b[0;34m\u001b[0m\u001b[0m\n\u001b[1;32m      2\u001b[0m \u001b[0mplt\u001b[0m\u001b[0;34m.\u001b[0m\u001b[0mscatter\u001b[0m\u001b[0;34m(\u001b[0m\u001b[0mx\u001b[0m\u001b[0;34m=\u001b[0m\u001b[0mX_test\u001b[0m\u001b[0;34m,\u001b[0m\u001b[0my\u001b[0m\u001b[0;34m=\u001b[0m\u001b[0my_test\u001b[0m\u001b[0;34m,\u001b[0m\u001b[0mlabel\u001b[0m\u001b[0;34m=\u001b[0m\u001b[0;34m\"test\"\u001b[0m\u001b[0;34m)\u001b[0m\u001b[0;34m\u001b[0m\u001b[0;34m\u001b[0m\u001b[0m\n\u001b[0;32m----> 3\u001b[0;31m \u001b[0mplt\u001b[0m\u001b[0;34m.\u001b[0m\u001b[0mscatter\u001b[0m\u001b[0;34m(\u001b[0m\u001b[0mx\u001b[0m\u001b[0;34m=\u001b[0m\u001b[0mX_train\u001b[0m\u001b[0;34m,\u001b[0m\u001b[0my\u001b[0m\u001b[0;34m=\u001b[0m\u001b[0my_pred\u001b[0m\u001b[0;34m,\u001b[0m\u001b[0mlabel\u001b[0m\u001b[0;34m=\u001b[0m\u001b[0;34m\"predict\"\u001b[0m\u001b[0;34m)\u001b[0m\u001b[0;34m\u001b[0m\u001b[0;34m\u001b[0m\u001b[0m\n\u001b[0m\u001b[1;32m      4\u001b[0m \u001b[0mplt\u001b[0m\u001b[0;34m.\u001b[0m\u001b[0mlegend\u001b[0m\u001b[0;34m(\u001b[0m\u001b[0;34m)\u001b[0m\u001b[0;34m\u001b[0m\u001b[0;34m\u001b[0m\u001b[0m\n",
            "\u001b[0;32m/usr/local/lib/python3.10/dist-packages/matplotlib/pyplot.py\u001b[0m in \u001b[0;36mscatter\u001b[0;34m(x, y, s, c, marker, cmap, norm, vmin, vmax, alpha, linewidths, edgecolors, plotnonfinite, data, **kwargs)\u001b[0m\n\u001b[1;32m   2860\u001b[0m         \u001b[0mvmin\u001b[0m\u001b[0;34m=\u001b[0m\u001b[0;32mNone\u001b[0m\u001b[0;34m,\u001b[0m \u001b[0mvmax\u001b[0m\u001b[0;34m=\u001b[0m\u001b[0;32mNone\u001b[0m\u001b[0;34m,\u001b[0m \u001b[0malpha\u001b[0m\u001b[0;34m=\u001b[0m\u001b[0;32mNone\u001b[0m\u001b[0;34m,\u001b[0m \u001b[0mlinewidths\u001b[0m\u001b[0;34m=\u001b[0m\u001b[0;32mNone\u001b[0m\u001b[0;34m,\u001b[0m \u001b[0;34m*\u001b[0m\u001b[0;34m,\u001b[0m\u001b[0;34m\u001b[0m\u001b[0;34m\u001b[0m\u001b[0m\n\u001b[1;32m   2861\u001b[0m         edgecolors=None, plotnonfinite=False, data=None, **kwargs):\n\u001b[0;32m-> 2862\u001b[0;31m     __ret = gca().scatter(\n\u001b[0m\u001b[1;32m   2863\u001b[0m         \u001b[0mx\u001b[0m\u001b[0;34m,\u001b[0m \u001b[0my\u001b[0m\u001b[0;34m,\u001b[0m \u001b[0ms\u001b[0m\u001b[0;34m=\u001b[0m\u001b[0ms\u001b[0m\u001b[0;34m,\u001b[0m \u001b[0mc\u001b[0m\u001b[0;34m=\u001b[0m\u001b[0mc\u001b[0m\u001b[0;34m,\u001b[0m \u001b[0mmarker\u001b[0m\u001b[0;34m=\u001b[0m\u001b[0mmarker\u001b[0m\u001b[0;34m,\u001b[0m \u001b[0mcmap\u001b[0m\u001b[0;34m=\u001b[0m\u001b[0mcmap\u001b[0m\u001b[0;34m,\u001b[0m \u001b[0mnorm\u001b[0m\u001b[0;34m=\u001b[0m\u001b[0mnorm\u001b[0m\u001b[0;34m,\u001b[0m\u001b[0;34m\u001b[0m\u001b[0;34m\u001b[0m\u001b[0m\n\u001b[1;32m   2864\u001b[0m         \u001b[0mvmin\u001b[0m\u001b[0;34m=\u001b[0m\u001b[0mvmin\u001b[0m\u001b[0;34m,\u001b[0m \u001b[0mvmax\u001b[0m\u001b[0;34m=\u001b[0m\u001b[0mvmax\u001b[0m\u001b[0;34m,\u001b[0m \u001b[0malpha\u001b[0m\u001b[0;34m=\u001b[0m\u001b[0malpha\u001b[0m\u001b[0;34m,\u001b[0m \u001b[0mlinewidths\u001b[0m\u001b[0;34m=\u001b[0m\u001b[0mlinewidths\u001b[0m\u001b[0;34m,\u001b[0m\u001b[0;34m\u001b[0m\u001b[0;34m\u001b[0m\u001b[0m\n",
            "\u001b[0;32m/usr/local/lib/python3.10/dist-packages/matplotlib/__init__.py\u001b[0m in \u001b[0;36minner\u001b[0;34m(ax, data, *args, **kwargs)\u001b[0m\n\u001b[1;32m   1440\u001b[0m     \u001b[0;32mdef\u001b[0m \u001b[0minner\u001b[0m\u001b[0;34m(\u001b[0m\u001b[0max\u001b[0m\u001b[0;34m,\u001b[0m \u001b[0;34m*\u001b[0m\u001b[0margs\u001b[0m\u001b[0;34m,\u001b[0m \u001b[0mdata\u001b[0m\u001b[0;34m=\u001b[0m\u001b[0;32mNone\u001b[0m\u001b[0;34m,\u001b[0m \u001b[0;34m**\u001b[0m\u001b[0mkwargs\u001b[0m\u001b[0;34m)\u001b[0m\u001b[0;34m:\u001b[0m\u001b[0;34m\u001b[0m\u001b[0;34m\u001b[0m\u001b[0m\n\u001b[1;32m   1441\u001b[0m         \u001b[0;32mif\u001b[0m \u001b[0mdata\u001b[0m \u001b[0;32mis\u001b[0m \u001b[0;32mNone\u001b[0m\u001b[0;34m:\u001b[0m\u001b[0;34m\u001b[0m\u001b[0;34m\u001b[0m\u001b[0m\n\u001b[0;32m-> 1442\u001b[0;31m             \u001b[0;32mreturn\u001b[0m \u001b[0mfunc\u001b[0m\u001b[0;34m(\u001b[0m\u001b[0max\u001b[0m\u001b[0;34m,\u001b[0m \u001b[0;34m*\u001b[0m\u001b[0mmap\u001b[0m\u001b[0;34m(\u001b[0m\u001b[0msanitize_sequence\u001b[0m\u001b[0;34m,\u001b[0m \u001b[0margs\u001b[0m\u001b[0;34m)\u001b[0m\u001b[0;34m,\u001b[0m \u001b[0;34m**\u001b[0m\u001b[0mkwargs\u001b[0m\u001b[0;34m)\u001b[0m\u001b[0;34m\u001b[0m\u001b[0;34m\u001b[0m\u001b[0m\n\u001b[0m\u001b[1;32m   1443\u001b[0m \u001b[0;34m\u001b[0m\u001b[0m\n\u001b[1;32m   1444\u001b[0m         \u001b[0mbound\u001b[0m \u001b[0;34m=\u001b[0m \u001b[0mnew_sig\u001b[0m\u001b[0;34m.\u001b[0m\u001b[0mbind\u001b[0m\u001b[0;34m(\u001b[0m\u001b[0max\u001b[0m\u001b[0;34m,\u001b[0m \u001b[0;34m*\u001b[0m\u001b[0margs\u001b[0m\u001b[0;34m,\u001b[0m \u001b[0;34m**\u001b[0m\u001b[0mkwargs\u001b[0m\u001b[0;34m)\u001b[0m\u001b[0;34m\u001b[0m\u001b[0;34m\u001b[0m\u001b[0m\n",
            "\u001b[0;32m/usr/local/lib/python3.10/dist-packages/matplotlib/axes/_axes.py\u001b[0m in \u001b[0;36mscatter\u001b[0;34m(self, x, y, s, c, marker, cmap, norm, vmin, vmax, alpha, linewidths, edgecolors, plotnonfinite, **kwargs)\u001b[0m\n\u001b[1;32m   4580\u001b[0m         \u001b[0;31m# unless its argument is a masked array.\u001b[0m\u001b[0;34m\u001b[0m\u001b[0;34m\u001b[0m\u001b[0m\n\u001b[1;32m   4581\u001b[0m         \u001b[0mx\u001b[0m \u001b[0;34m=\u001b[0m \u001b[0mnp\u001b[0m\u001b[0;34m.\u001b[0m\u001b[0mma\u001b[0m\u001b[0;34m.\u001b[0m\u001b[0mravel\u001b[0m\u001b[0;34m(\u001b[0m\u001b[0mx\u001b[0m\u001b[0;34m)\u001b[0m\u001b[0;34m\u001b[0m\u001b[0;34m\u001b[0m\u001b[0m\n\u001b[0;32m-> 4582\u001b[0;31m         \u001b[0my\u001b[0m \u001b[0;34m=\u001b[0m \u001b[0mnp\u001b[0m\u001b[0;34m.\u001b[0m\u001b[0mma\u001b[0m\u001b[0;34m.\u001b[0m\u001b[0mravel\u001b[0m\u001b[0;34m(\u001b[0m\u001b[0my\u001b[0m\u001b[0;34m)\u001b[0m\u001b[0;34m\u001b[0m\u001b[0;34m\u001b[0m\u001b[0m\n\u001b[0m\u001b[1;32m   4583\u001b[0m         \u001b[0;32mif\u001b[0m \u001b[0mx\u001b[0m\u001b[0;34m.\u001b[0m\u001b[0msize\u001b[0m \u001b[0;34m!=\u001b[0m \u001b[0my\u001b[0m\u001b[0;34m.\u001b[0m\u001b[0msize\u001b[0m\u001b[0;34m:\u001b[0m\u001b[0;34m\u001b[0m\u001b[0;34m\u001b[0m\u001b[0m\n\u001b[1;32m   4584\u001b[0m             \u001b[0;32mraise\u001b[0m \u001b[0mValueError\u001b[0m\u001b[0;34m(\u001b[0m\u001b[0;34m\"x and y must be the same size\"\u001b[0m\u001b[0;34m)\u001b[0m\u001b[0;34m\u001b[0m\u001b[0;34m\u001b[0m\u001b[0m\n",
            "\u001b[0;32m/usr/local/lib/python3.10/dist-packages/numpy/ma/core.py\u001b[0m in \u001b[0;36m__call__\u001b[0;34m(self, a, *args, **params)\u001b[0m\n\u001b[1;32m   6868\u001b[0m             \u001b[0ma\u001b[0m\u001b[0;34m,\u001b[0m \u001b[0margs\u001b[0m\u001b[0;34m[\u001b[0m\u001b[0;36m0\u001b[0m\u001b[0;34m]\u001b[0m \u001b[0;34m=\u001b[0m \u001b[0margs\u001b[0m\u001b[0;34m[\u001b[0m\u001b[0;36m0\u001b[0m\u001b[0;34m]\u001b[0m\u001b[0;34m,\u001b[0m \u001b[0ma\u001b[0m\u001b[0;34m\u001b[0m\u001b[0;34m\u001b[0m\u001b[0m\n\u001b[1;32m   6869\u001b[0m \u001b[0;34m\u001b[0m\u001b[0m\n\u001b[0;32m-> 6870\u001b[0;31m         \u001b[0mmarr\u001b[0m \u001b[0;34m=\u001b[0m \u001b[0masanyarray\u001b[0m\u001b[0;34m(\u001b[0m\u001b[0ma\u001b[0m\u001b[0;34m)\u001b[0m\u001b[0;34m\u001b[0m\u001b[0;34m\u001b[0m\u001b[0m\n\u001b[0m\u001b[1;32m   6871\u001b[0m         \u001b[0mmethod_name\u001b[0m \u001b[0;34m=\u001b[0m \u001b[0mself\u001b[0m\u001b[0;34m.\u001b[0m\u001b[0m__name__\u001b[0m\u001b[0;34m\u001b[0m\u001b[0;34m\u001b[0m\u001b[0m\n\u001b[1;32m   6872\u001b[0m         \u001b[0mmethod\u001b[0m \u001b[0;34m=\u001b[0m \u001b[0mgetattr\u001b[0m\u001b[0;34m(\u001b[0m\u001b[0mtype\u001b[0m\u001b[0;34m(\u001b[0m\u001b[0mmarr\u001b[0m\u001b[0;34m)\u001b[0m\u001b[0;34m,\u001b[0m \u001b[0mmethod_name\u001b[0m\u001b[0;34m,\u001b[0m \u001b[0;32mNone\u001b[0m\u001b[0;34m)\u001b[0m\u001b[0;34m\u001b[0m\u001b[0;34m\u001b[0m\u001b[0m\n",
            "\u001b[0;32m/usr/local/lib/python3.10/dist-packages/numpy/ma/core.py\u001b[0m in \u001b[0;36masanyarray\u001b[0;34m(a, dtype)\u001b[0m\n\u001b[1;32m   8292\u001b[0m     \u001b[0;32mif\u001b[0m \u001b[0misinstance\u001b[0m\u001b[0;34m(\u001b[0m\u001b[0ma\u001b[0m\u001b[0;34m,\u001b[0m \u001b[0mMaskedArray\u001b[0m\u001b[0;34m)\u001b[0m \u001b[0;32mand\u001b[0m \u001b[0;34m(\u001b[0m\u001b[0mdtype\u001b[0m \u001b[0;32mis\u001b[0m \u001b[0;32mNone\u001b[0m \u001b[0;32mor\u001b[0m \u001b[0mdtype\u001b[0m \u001b[0;34m==\u001b[0m \u001b[0ma\u001b[0m\u001b[0;34m.\u001b[0m\u001b[0mdtype\u001b[0m\u001b[0;34m)\u001b[0m\u001b[0;34m:\u001b[0m\u001b[0;34m\u001b[0m\u001b[0;34m\u001b[0m\u001b[0m\n\u001b[1;32m   8293\u001b[0m         \u001b[0;32mreturn\u001b[0m \u001b[0ma\u001b[0m\u001b[0;34m\u001b[0m\u001b[0;34m\u001b[0m\u001b[0m\n\u001b[0;32m-> 8294\u001b[0;31m     \u001b[0;32mreturn\u001b[0m \u001b[0mmasked_array\u001b[0m\u001b[0;34m(\u001b[0m\u001b[0ma\u001b[0m\u001b[0;34m,\u001b[0m \u001b[0mdtype\u001b[0m\u001b[0;34m=\u001b[0m\u001b[0mdtype\u001b[0m\u001b[0;34m,\u001b[0m \u001b[0mcopy\u001b[0m\u001b[0;34m=\u001b[0m\u001b[0;32mFalse\u001b[0m\u001b[0;34m,\u001b[0m \u001b[0mkeep_mask\u001b[0m\u001b[0;34m=\u001b[0m\u001b[0;32mTrue\u001b[0m\u001b[0;34m,\u001b[0m \u001b[0msubok\u001b[0m\u001b[0;34m=\u001b[0m\u001b[0;32mTrue\u001b[0m\u001b[0;34m)\u001b[0m\u001b[0;34m\u001b[0m\u001b[0;34m\u001b[0m\u001b[0m\n\u001b[0m\u001b[1;32m   8295\u001b[0m \u001b[0;34m\u001b[0m\u001b[0m\n\u001b[1;32m   8296\u001b[0m \u001b[0;34m\u001b[0m\u001b[0m\n",
            "\u001b[0;32m/usr/local/lib/python3.10/dist-packages/numpy/ma/core.py\u001b[0m in \u001b[0;36m__new__\u001b[0;34m(cls, data, mask, dtype, copy, subok, ndmin, fill_value, keep_mask, hard_mask, shrink, order)\u001b[0m\n\u001b[1;32m   2818\u001b[0m         \"\"\"\n\u001b[1;32m   2819\u001b[0m         \u001b[0;31m# Process data.\u001b[0m\u001b[0;34m\u001b[0m\u001b[0;34m\u001b[0m\u001b[0m\n\u001b[0;32m-> 2820\u001b[0;31m         _data = np.array(data, dtype=dtype, copy=copy,\n\u001b[0m\u001b[1;32m   2821\u001b[0m                          order=order, subok=True, ndmin=ndmin)\n\u001b[1;32m   2822\u001b[0m         \u001b[0m_baseclass\u001b[0m \u001b[0;34m=\u001b[0m \u001b[0mgetattr\u001b[0m\u001b[0;34m(\u001b[0m\u001b[0mdata\u001b[0m\u001b[0;34m,\u001b[0m \u001b[0;34m'_baseclass'\u001b[0m\u001b[0;34m,\u001b[0m \u001b[0mtype\u001b[0m\u001b[0;34m(\u001b[0m\u001b[0m_data\u001b[0m\u001b[0;34m)\u001b[0m\u001b[0;34m)\u001b[0m\u001b[0;34m\u001b[0m\u001b[0;34m\u001b[0m\u001b[0m\n",
            "\u001b[0;32m/usr/local/lib/python3.10/dist-packages/torch/_tensor.py\u001b[0m in \u001b[0;36m__array__\u001b[0;34m(self, dtype)\u001b[0m\n\u001b[1;32m   1085\u001b[0m             \u001b[0;32mreturn\u001b[0m \u001b[0mhandle_torch_function\u001b[0m\u001b[0;34m(\u001b[0m\u001b[0mTensor\u001b[0m\u001b[0;34m.\u001b[0m\u001b[0m__array__\u001b[0m\u001b[0;34m,\u001b[0m \u001b[0;34m(\u001b[0m\u001b[0mself\u001b[0m\u001b[0;34m,\u001b[0m\u001b[0;34m)\u001b[0m\u001b[0;34m,\u001b[0m \u001b[0mself\u001b[0m\u001b[0;34m,\u001b[0m \u001b[0mdtype\u001b[0m\u001b[0;34m=\u001b[0m\u001b[0mdtype\u001b[0m\u001b[0;34m)\u001b[0m\u001b[0;34m\u001b[0m\u001b[0;34m\u001b[0m\u001b[0m\n\u001b[1;32m   1086\u001b[0m         \u001b[0;32mif\u001b[0m \u001b[0mdtype\u001b[0m \u001b[0;32mis\u001b[0m \u001b[0;32mNone\u001b[0m\u001b[0;34m:\u001b[0m\u001b[0;34m\u001b[0m\u001b[0;34m\u001b[0m\u001b[0m\n\u001b[0;32m-> 1087\u001b[0;31m             \u001b[0;32mreturn\u001b[0m \u001b[0mself\u001b[0m\u001b[0;34m.\u001b[0m\u001b[0mnumpy\u001b[0m\u001b[0;34m(\u001b[0m\u001b[0;34m)\u001b[0m\u001b[0;34m\u001b[0m\u001b[0;34m\u001b[0m\u001b[0m\n\u001b[0m\u001b[1;32m   1088\u001b[0m         \u001b[0;32melse\u001b[0m\u001b[0;34m:\u001b[0m\u001b[0;34m\u001b[0m\u001b[0;34m\u001b[0m\u001b[0m\n\u001b[1;32m   1089\u001b[0m             \u001b[0;32mreturn\u001b[0m \u001b[0mself\u001b[0m\u001b[0;34m.\u001b[0m\u001b[0mnumpy\u001b[0m\u001b[0;34m(\u001b[0m\u001b[0;34m)\u001b[0m\u001b[0;34m.\u001b[0m\u001b[0mastype\u001b[0m\u001b[0;34m(\u001b[0m\u001b[0mdtype\u001b[0m\u001b[0;34m,\u001b[0m \u001b[0mcopy\u001b[0m\u001b[0;34m=\u001b[0m\u001b[0;32mFalse\u001b[0m\u001b[0;34m)\u001b[0m\u001b[0;34m\u001b[0m\u001b[0;34m\u001b[0m\u001b[0m\n",
            "\u001b[0;31mRuntimeError\u001b[0m: Can't call numpy() on Tensor that requires grad. Use tensor.detach().numpy() instead."
          ]
        },
        {
          "output_type": "display_data",
          "data": {
            "text/plain": [
              "<Figure size 640x480 with 1 Axes>"
            ],
            "image/png": "[encoded data removed]"
          },
          "metadata": {}
        }
      ]
    },
    {
      "cell_type": "code",
      "source": [
        "# start the model from scrach\n",
        "# def a class\n",
        "# Create a Linear Regression model class\n",
        "class LinearRegressionModel(nn.Module): # <- almost everything in PyTorch is a nn.Module (think of this as neural network lego blocks)\n",
        "    def __init__(self):\n",
        "        super().__init__()\n",
        "        self.weights = nn.Parameter(torch.randn(1, # <- start with random weights (this will get adjusted as the model learns)\n",
        "                                                dtype=torch.float), # <- PyTorch loves float32 by default\n",
        "                                   requires_grad=True) # <- can we update this value with gradient descent?)\n",
        "\n",
        "        self.bias = nn.Parameter(torch.randn(1, # <- start with random bias (this will get adjusted as the model learns)\n",
        "                                            dtype=torch.float), # <- PyTorch loves float32 by default\n",
        "                                requires_grad=True) # <- can we update this value with gradient descent?))\n",
        "\n",
        "    # Forward defines the computation in the model\n",
        "    def forward(self, x: torch.Tensor) -> torch.Tensor: # <- \"x\" is the input data (e.g. training/testing features)\n",
        "        return self.weights * x + self.bias # <- this is the linear regression formula (y = m*x + b)"
      ],
      "metadata": {
        "id": "E_n0KL50VYBx"
      },
      "execution_count": 18,
      "outputs": []
    },
    {
      "cell_type": "code",
      "source": [
        "model_1=LinearRegressionModel()\n",
        "list(model_1.parameters())"
      ],
      "metadata": {
        "colab": {
          "base_uri": "https://localhost:8080/"
        },
        "id": "H2UlHOQqejnq",
        "outputId": "c5f4457a-3e8b-4b51-841a-e230c024c71c"
      },
      "execution_count": 51,
      "outputs": [
        {
          "output_type": "execute_result",
          "data": {
            "text/plain": [
              "[Parameter containing:\n",
              " tensor([0.3367], requires_grad=True),\n",
              " Parameter containing:\n",
              " tensor([0.1288], requires_grad=True)]"
            ]
          },
          "metadata": {},
          "execution_count": 51
        }
      ]
    },
    {
      "cell_type": "code",
      "source": [
        "model"
      ],
      "metadata": {
        "colab": {
          "base_uri": "https://localhost:8080/"
        },
        "id": "PNhepfODk9GL",
        "outputId": "4873a1d5-8fcc-4964-9ad4-2ce5a71237a5"
      },
      "execution_count": 52,
      "outputs": [
        {
          "output_type": "execute_result",
          "data": {
            "text/plain": [
              "LinearRegressionModel()"
            ]
          },
          "metadata": {},
          "execution_count": 52
        }
      ]
    },
    {
      "cell_type": "code",
      "source": [
        "epochs=100\n",
        "# Create empty loss lists to track values\n",
        "train_loss_values = []\n",
        "test_loss_values = []\n",
        "epoch_count = []\n",
        "loss_fn = nn.L1Loss()\n",
        "optimizer = torch.optim.SGD(params=model_1.parameters(), # optimize newly created model's parameters\n",
        "                            lr=0.01)\n",
        "torch.manual_seed(42)\n",
        "for epoch in range (epochs):\n",
        "  #set the model to train\n",
        "  model_1.train()\n",
        "  # model to predict for the forword\n",
        "  y_predict_1=model_1(X_train)\n",
        "  # loss for the predict\n",
        "  loss= loss_fn(y_predict_1,y_train)\n",
        "  #optimizer\n",
        "  optimizer.zero_grad()\n",
        "  #loss backward\n",
        "  loss.backward()\n",
        "  #steps for the optimizer\n",
        "  optimizer.step()\n",
        "  # final evaluate\n",
        "  model.eval()\n",
        "  with torch.inference_mode():\n",
        "    test_pre=model_1(X_test)\n",
        "    test_loss=loss_fn(test_pre,y_test)\n",
        "  if epochs %10==0:\n",
        "    train_loss_values.append(loss.detach().numpy())\n",
        "    test_loss_values.append(test_loss.detach().numpy())\n",
        "    epoch_count.append(epoch)\n",
        "    print(f\"Epoch: {epoch} | Train loss: {loss} | Test loss: {test_loss}\")"
      ],
      "metadata": {
        "colab": {
          "base_uri": "https://localhost:8080/"
        },
        "id": "-N20OgjTfDVp",
        "outputId": "f46916c3-2737-4eea-840a-7a812eee1d40"
      },
      "execution_count": 53,
      "outputs": [
        {
          "output_type": "stream",
          "name": "stdout",
          "text": [
            "Epoch: 0 | Train loss: 0.31288138031959534 | Test loss: 0.48106518387794495\n",
            "Epoch: 1 | Train loss: 0.3013603389263153 | Test loss: 0.4675942063331604\n",
            "Epoch: 2 | Train loss: 0.28983935713768005 | Test loss: 0.4541231691837311\n",
            "Epoch: 3 | Train loss: 0.2783183455467224 | Test loss: 0.44065219163894653\n",
            "Epoch: 4 | Train loss: 0.26679736375808716 | Test loss: 0.4271811842918396\n",
            "Epoch: 5 | Train loss: 0.2552763521671295 | Test loss: 0.41371020674705505\n",
            "Epoch: 6 | Train loss: 0.24375534057617188 | Test loss: 0.40023916959762573\n",
            "Epoch: 7 | Train loss: 0.23223432898521423 | Test loss: 0.3867681920528412\n",
            "Epoch: 8 | Train loss: 0.22071333229541779 | Test loss: 0.37329721450805664\n",
            "Epoch: 9 | Train loss: 0.20919232070446014 | Test loss: 0.3598262071609497\n",
            "Epoch: 10 | Train loss: 0.1976713240146637 | Test loss: 0.3463551998138428\n",
            "Epoch: 11 | Train loss: 0.18615034222602844 | Test loss: 0.3328842222690582\n",
            "Epoch: 12 | Train loss: 0.1746293306350708 | Test loss: 0.3194132149219513\n",
            "Epoch: 13 | Train loss: 0.16310831904411316 | Test loss: 0.30594223737716675\n",
            "Epoch: 14 | Train loss: 0.1515873372554779 | Test loss: 0.2924712300300598\n",
            "Epoch: 15 | Train loss: 0.14006635546684265 | Test loss: 0.27900025248527527\n",
            "Epoch: 16 | Train loss: 0.1285453587770462 | Test loss: 0.2655292749404907\n",
            "Epoch: 17 | Train loss: 0.11702437698841095 | Test loss: 0.2520582973957062\n",
            "Epoch: 18 | Train loss: 0.1060912236571312 | Test loss: 0.2395961582660675\n",
            "Epoch: 19 | Train loss: 0.09681284427642822 | Test loss: 0.22817862033843994\n",
            "Epoch: 20 | Train loss: 0.08908725529909134 | Test loss: 0.21729660034179688\n",
            "Epoch: 21 | Train loss: 0.08227583020925522 | Test loss: 0.2069590985774994\n",
            "Epoch: 22 | Train loss: 0.07638873159885406 | Test loss: 0.19773726165294647\n",
            "Epoch: 23 | Train loss: 0.07160007208585739 | Test loss: 0.1890866756439209\n",
            "Epoch: 24 | Train loss: 0.06747635453939438 | Test loss: 0.18101617693901062\n",
            "Epoch: 25 | Train loss: 0.06395438313484192 | Test loss: 0.17353470623493195\n",
            "Epoch: 26 | Train loss: 0.06097004935145378 | Test loss: 0.16665108501911163\n",
            "Epoch: 27 | Train loss: 0.05845819041132927 | Test loss: 0.16037428379058838\n",
            "Epoch: 28 | Train loss: 0.05635259300470352 | Test loss: 0.15471318364143372\n",
            "Epoch: 29 | Train loss: 0.0545857772231102 | Test loss: 0.14967669546604156\n",
            "Epoch: 30 | Train loss: 0.053148526698350906 | Test loss: 0.14464017748832703\n",
            "Epoch: 31 | Train loss: 0.05181945487856865 | Test loss: 0.14023718237876892\n",
            "Epoch: 32 | Train loss: 0.05069301277399063 | Test loss: 0.13647659122943878\n",
            "Epoch: 33 | Train loss: 0.0498228520154953 | Test loss: 0.13271598517894745\n",
            "Epoch: 34 | Train loss: 0.04895269125699997 | Test loss: 0.12895536422729492\n",
            "Epoch: 35 | Train loss: 0.04819351062178612 | Test loss: 0.12584610283374786\n",
            "Epoch: 36 | Train loss: 0.047531817108392715 | Test loss: 0.12273679673671722\n",
            "Epoch: 37 | Train loss: 0.04692792519927025 | Test loss: 0.1202877014875412\n",
            "Epoch: 38 | Train loss: 0.04642331600189209 | Test loss: 0.11783860623836517\n",
            "Epoch: 39 | Train loss: 0.04591871052980423 | Test loss: 0.11538954079151154\n",
            "Epoch: 40 | Train loss: 0.04543796554207802 | Test loss: 0.11360953003168106\n",
            "Epoch: 41 | Train loss: 0.04503796249628067 | Test loss: 0.11182951927185059\n",
            "Epoch: 42 | Train loss: 0.04463795945048332 | Test loss: 0.1100495308637619\n",
            "Epoch: 43 | Train loss: 0.04423796385526657 | Test loss: 0.10826952755451202\n",
            "Epoch: 44 | Train loss: 0.04383796453475952 | Test loss: 0.10648951679468155\n",
            "Epoch: 45 | Train loss: 0.04343796148896217 | Test loss: 0.10470950603485107\n",
            "Epoch: 46 | Train loss: 0.043074630200862885 | Test loss: 0.10360751301050186\n",
            "Epoch: 47 | Train loss: 0.04272563382983208 | Test loss: 0.10250549018383026\n",
            "Epoch: 48 | Train loss: 0.04237663000822067 | Test loss: 0.10140349715948105\n",
            "Epoch: 49 | Train loss: 0.04202762991189957 | Test loss: 0.10030148178339005\n",
            "Epoch: 50 | Train loss: 0.04167863354086876 | Test loss: 0.09919948130846024\n",
            "Epoch: 51 | Train loss: 0.04132963344454765 | Test loss: 0.09809747338294983\n",
            "Epoch: 52 | Train loss: 0.04098063334822655 | Test loss: 0.09699545800685883\n",
            "Epoch: 53 | Train loss: 0.04063162952661514 | Test loss: 0.09589345753192902\n",
            "Epoch: 54 | Train loss: 0.040282636880874634 | Test loss: 0.0947914719581604\n",
            "Epoch: 55 | Train loss: 0.039933640509843826 | Test loss: 0.09368947893381119\n",
            "Epoch: 56 | Train loss: 0.03958464413881302 | Test loss: 0.09258746355772018\n",
            "Epoch: 57 | Train loss: 0.03923564404249191 | Test loss: 0.09148545563220978\n",
            "Epoch: 58 | Train loss: 0.03888664394617081 | Test loss: 0.09038344770669937\n",
            "Epoch: 59 | Train loss: 0.0385376438498497 | Test loss: 0.08928143978118896\n",
            "Epoch: 60 | Train loss: 0.03818932920694351 | Test loss: 0.08886633068323135\n",
            "Epoch: 61 | Train loss: 0.03785243630409241 | Test loss: 0.08776430785655975\n",
            "Epoch: 62 | Train loss: 0.0375034399330616 | Test loss: 0.08666229248046875\n",
            "Epoch: 63 | Train loss: 0.037164121866226196 | Test loss: 0.08624717593193054\n",
            "Epoch: 64 | Train loss: 0.03681822493672371 | Test loss: 0.08514519035816193\n",
            "Epoch: 65 | Train loss: 0.03647511452436447 | Test loss: 0.08473004400730133\n",
            "Epoch: 66 | Train loss: 0.03613303601741791 | Test loss: 0.08362803608179092\n",
            "Epoch: 67 | Train loss: 0.03578609973192215 | Test loss: 0.08321291208267212\n",
            "Epoch: 68 | Train loss: 0.03544783592224121 | Test loss: 0.08211090415716171\n",
            "Epoch: 69 | Train loss: 0.035098835825920105 | Test loss: 0.0810088962316513\n",
            "Epoch: 70 | Train loss: 0.03476089984178543 | Test loss: 0.0805937647819519\n",
            "Epoch: 71 | Train loss: 0.03441363573074341 | Test loss: 0.0794917643070221\n",
            "Epoch: 72 | Train loss: 0.03407188132405281 | Test loss: 0.07907666265964508\n",
            "Epoch: 73 | Train loss: 0.03372843936085701 | Test loss: 0.07797462493181229\n",
            "Epoch: 74 | Train loss: 0.03338287025690079 | Test loss: 0.07755951583385468\n",
            "Epoch: 75 | Train loss: 0.033043231815099716 | Test loss: 0.07645749300718307\n",
            "Epoch: 76 | Train loss: 0.03269423171877861 | Test loss: 0.07535548508167267\n",
            "Epoch: 77 | Train loss: 0.032357655465602875 | Test loss: 0.07494036853313446\n",
            "Epoch: 78 | Train loss: 0.03200903534889221 | Test loss: 0.07383836805820465\n",
            "Epoch: 79 | Train loss: 0.03166864812374115 | Test loss: 0.07342323660850525\n",
            "Epoch: 80 | Train loss: 0.03132382780313492 | Test loss: 0.07232122868299484\n",
            "Epoch: 81 | Train loss: 0.030979642644524574 | Test loss: 0.07190609723329544\n",
            "Epoch: 82 | Train loss: 0.030638623982667923 | Test loss: 0.07080408930778503\n",
            "Epoch: 83 | Train loss: 0.0302906334400177 | Test loss: 0.07038896530866623\n",
            "Epoch: 84 | Train loss: 0.029953425750136375 | Test loss: 0.06928696483373642\n",
            "Epoch: 85 | Train loss: 0.02960442565381527 | Test loss: 0.06818496435880661\n",
            "Epoch: 86 | Train loss: 0.029265418648719788 | Test loss: 0.0677698403596878\n",
            "Epoch: 87 | Train loss: 0.028919223695993423 | Test loss: 0.0666678324341774\n",
            "Epoch: 88 | Train loss: 0.028576409444212914 | Test loss: 0.066252700984478\n",
            "Epoch: 89 | Train loss: 0.028234025463461876 | Test loss: 0.06515069305896759\n",
            "Epoch: 90 | Train loss: 0.02788739837706089 | Test loss: 0.06473556160926819\n",
            "Epoch: 91 | Train loss: 0.02754882536828518 | Test loss: 0.06363357603549957\n",
            "Epoch: 92 | Train loss: 0.027199819684028625 | Test loss: 0.06253156810998917\n",
            "Epoch: 93 | Train loss: 0.026862185448408127 | Test loss: 0.062116436660289764\n",
            "Epoch: 94 | Train loss: 0.02651461586356163 | Test loss: 0.061014432460069656\n",
            "Epoch: 95 | Train loss: 0.026173178106546402 | Test loss: 0.06059930846095085\n",
            "Epoch: 96 | Train loss: 0.025829419493675232 | Test loss: 0.05949730426073074\n",
            "Epoch: 97 | Train loss: 0.02548416517674923 | Test loss: 0.05908216908574104\n",
            "Epoch: 98 | Train loss: 0.025144213810563087 | Test loss: 0.057980168610811234\n",
            "Epoch: 99 | Train loss: 0.02479521557688713 | Test loss: 0.05687814950942993\n"
          ]
        }
      ]
    },
    {
      "cell_type": "code",
      "source": [
        "# Plot the loss curves\n",
        "plt.plot(epoch_count, train_loss_values, label=\"Train loss\")\n",
        "plt.plot(epoch_count, test_loss_values, label=\"Test loss\")\n",
        "plt.title(\"Training and test loss curves\")\n",
        "plt.ylabel(\"Loss\")\n",
        "plt.xlabel(\"Epochs\")\n",
        "plt.legend();"
      ],
      "metadata": {
        "id": "toixwJ6CfDNH",
        "colab": {
          "base_uri": "https://localhost:8080/",
          "height": 472
        },
        "outputId": "538196b0-4b14-40c0-f3e5-80c13a0dec39"
      },
      "execution_count": 54,
      "outputs": [
        {
          "output_type": "display_data",
          "data": {
            "text/plain": [
              "<Figure size 640x480 with 1 Axes>"
            ],
            "image/png": "[encoded data removed]"
          },
          "metadata": {}
        }
      ]
    },
    {
      "cell_type": "markdown",
      "source": [
        " ## Making predictions with a trained PyTorch model (inference)\n",
        " There are three things to remember when making predictions (also called performing inference) with a PyTorch model:\n",
        "\n",
        "- Set the model in evaluation mode (model.eval()).\n",
        "- Make the predictions using the inference mode context manager (with torch.inference_mode(): ...).\n",
        "- All predictions should be made with objects on the same device (e.g. data and model on GPU only or data and model on CPU only)."
      ],
      "metadata": {
        "id": "3KZJMWOyEy4F"
      }
    },
    {
      "cell_type": "code",
      "source": [
        "model_1.eval()\n",
        "y_predict= model_1(X_test)\n",
        "y_predict"
      ],
      "metadata": {
        "id": "9YqNYIPCfDKX",
        "colab": {
          "base_uri": "https://localhost:8080/"
        },
        "outputId": "1967acd2-a95d-4b22-d219-34acc5662a4f"
      },
      "execution_count": 55,
      "outputs": [
        {
          "output_type": "execute_result",
          "data": {
            "text/plain": [
              "tensor([[0.8141],\n",
              "        [0.8256],\n",
              "        [0.8372],\n",
              "        [0.8488],\n",
              "        [0.8603],\n",
              "        [0.8719],\n",
              "        [0.8835],\n",
              "        [0.8950],\n",
              "        [0.9066],\n",
              "        [0.9182]], grad_fn=<AddBackward0>)"
            ]
          },
          "metadata": {},
          "execution_count": 55
        }
      ]
    },
    {
      "cell_type": "code",
      "source": [
        "plt.scatter(x=X_train,y=y_train,label=\"train\")\n",
        "plt.scatter(x=X_test,y=y_test,label=\"test\")\n",
        "plt.scatter(x=X_test,y=y_predict.detach().numpy(),label=\"predict\")\n",
        "plt.legend()"
      ],
      "metadata": {
        "id": "GVCGgmEBfDH1",
        "colab": {
          "base_uri": "https://localhost:8080/",
          "height": 447
        },
        "outputId": "6f91f638-619f-4f10-8fd3-a95e712756b1"
      },
      "execution_count": 56,
      "outputs": [
        {
          "output_type": "execute_result",
          "data": {
            "text/plain": [
              "<matplotlib.legend.Legend at 0x78d930612bf0>"
            ]
          },
          "metadata": {},
          "execution_count": 56
        },
        {
          "output_type": "display_data",
          "data": {
            "text/plain": [
              "<Figure size 640x480 with 1 Axes>"
            ],
            "image/png": "[encoded data removed]"
          },
          "metadata": {}
        }
      ]
    },
    {
      "cell_type": "code",
      "source": [
        "class LinearRegressionModel(nn.Module):\n",
        "    def __init__(self):\n",
        "        super().__init__()\n",
        "        self.weight = nn.Parameter(torch.randn(1, requires_grad=True, dtype=torch.float))\n",
        "        self.bias = nn.Parameter(torch.randn(1, requires_grad=True, dtype=torch.float))\n",
        "\n",
        "    def forward(self, x: torch.Tensor) -> torch.Tensor:\n",
        "        return self.weight * x + self.bias  # this is the linear regression formula\n",
        "# we are creating the linear regression model\n",
        "\n"
      ],
      "metadata": {
        "id": "3R-06bPKdTmi"
      },
      "execution_count": 57,
      "outputs": []
    },
    {
      "cell_type": "code",
      "source": [],
      "metadata": {
        "id": "9wr9ECbHGlOu"
      },
      "execution_count": null,
      "outputs": []
    }
  ]
}